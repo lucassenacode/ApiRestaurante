{
  "nbformat": 4,
  "nbformat_minor": 0,
  "metadata": {
    "colab": {
      "provenance": [],
      "authorship_tag": "ABX9TyN4BFo34Hd7b+c93xvEE4+z",
      "include_colab_link": true
    },
    "kernelspec": {
      "name": "python3",
      "display_name": "Python 3"
    },
    "language_info": {
      "name": "python"
    }
  },
  "cells": [
    {
      "cell_type": "markdown",
      "metadata": {
        "id": "view-in-github",
        "colab_type": "text"
      },
      "source": [
        "<a href=\"https://colab.research.google.com/github/lucassenacode/ApiRestaurante/blob/main/CD_PeersLucasSena.ipynb\" target=\"_parent\"><img src=\"https://colab.research.google.com/assets/colab-badge.svg\" alt=\"Open In Colab\"/></a>"
      ]
    },
    {
      "cell_type": "markdown",
      "source": [
        "# Análise de Rentabilidade e Otimização de Estratégias da Infomaz\n",
        "\n",
        "**Contexto:**\n",
        "A Infomaz, empresa especializada em artigos eletrônicos e de informática, tem observado mudanças significativas no comportamento de compra de seus clientes e variações nas vendas de algumas categorias de produtos. Para otimizar seu estoque, melhorar a relação com fornecedores e maximizar seus lucros, a empresa busca entender melhor esses padrões.\n",
        "\n",
        "**Objetivo:**\n",
        "Este projeto visa responder à seguinte questão: “Quais produtos e categorias apresentam maior e menor rentabilidade, e como podemos otimizar nossas estratégias de fornecimento e precificação para maximizar os lucros?”\n",
        "\n",
        "**Métricas a serem Calculadas:**\n",
        "\n",
        "1. Calcule o valor total de venda dos produtos por categoria. Utilize as tabelas `CADASTRO_PRODUTOS` e `TRANSACOES_VENDAS`.\n",
        "\n",
        "2. Calcule a margem dos produtos subtraindo o valor unitario pelo valor de venda. Utilize as tabelas `CADASTRO_ESTOQUE` e `TRANSACOES_VENDAS`.\n",
        "\n",
        "3. Calcule um ranking de clientes por quantidade de produtos comprados por mês. Utilize as tabelas `CADASTRO_CLIENTES` e `TRANSACOES_VENDAS`.\n",
        "\n",
        "4. Calcule um ranking de fornecedores por quantidade de estoque disponivel por mês. Utilize as tabelas `CADASTRO_FORNECEDORES` e `CADASTRO_ESTOQUE`.\n",
        "\n",
        "5. Calcule um ranking de produtos por quantidade de venda por mês. Utilize a tabela `TRANSACOES_VENDAS`.\n",
        "\n",
        "6. Calcule um ranking de produtos por valor de venda por mês. Utilize a tabela `TRANSACOES_VENDAS`.\n",
        "\n",
        "7. Calcule a média de valor de venda por categoria de produto por mês. Utiliza as tabelas `CADASTRO_PRODUTOS` e `TRANSACOES_VENDAS`.\n",
        "\n",
        "8. Calcule um ranking de margem de lucro por categoria\n",
        "\n",
        "9. Liste produtos comprados por clientes\n",
        "\n",
        "10. Ranking de produtos por quantidade de estoque\n",
        "\n"
      ],
      "metadata": {
        "id": "g-5ODoFgIjEu"
      }
    },
    {
      "cell_type": "code",
      "source": [],
      "metadata": {
        "id": "C4gpjpSbIzNd"
      },
      "execution_count": null,
      "outputs": []
    },
    {
      "cell_type": "markdown",
      "source": [
        "# Importação das bibliotecas necessárias\n"
      ],
      "metadata": {
        "id": "fjLORFhEI1uI"
      }
    },
    {
      "cell_type": "code",
      "source": [
        "import pandas as pd\n",
        "import numpy as np"
      ],
      "metadata": {
        "id": "NlfDyORKI6BD"
      },
      "execution_count": null,
      "outputs": []
    },
    {
      "cell_type": "markdown",
      "source": [
        "# Importando e Explorando os Dados do Case Infomaz\n"
      ],
      "metadata": {
        "id": "aNfm8HNhKT-m"
      }
    },
    {
      "cell_type": "code",
      "source": [
        "#Importar a biblioteca pandas\n",
        "import pandas as pd\n",
        "\n",
        "#Carregar o arquivo Excel com todas as abas disponíveis\n",
        "arquivo = pd.ExcelFile(\"Case_Infomaz_Base_de_Dados.xlsx\")\n",
        "\n",
        "#Listar as abas existentes no arquivo\n",
        "print(\"Abas no arquivo Excel:\")\n",
        "print(arquivo.sheet_names)"
      ],
      "metadata": {
        "colab": {
          "base_uri": "https://localhost:8080/"
        },
        "id": "CqlIeP_4KWSW",
        "outputId": "dd1c65ad-b73f-4ccd-c6a3-e5b1b7482e2b"
      },
      "execution_count": null,
      "outputs": [
        {
          "output_type": "stream",
          "name": "stdout",
          "text": [
            "Abas no arquivo Excel:\n",
            "['Orientações', 'Guia', 'Cadastro Produtos', 'Cadastro Clientes', 'Cadastro de Estoque', 'Cadastro Fornecedores', 'Transações Vendas']\n"
          ]
        }
      ]
    },
    {
      "cell_type": "markdown",
      "source": [
        "### Produtos"
      ],
      "metadata": {
        "id": "E4O8ZGoW3suh"
      }
    },
    {
      "cell_type": "code",
      "source": [
        "# --- Cadastro Produtos ---\n",
        "df_produtos = pd.read_excel(arquivo, sheet_name=\"Cadastro Produtos\", header=0)\n",
        "\n",
        "print(\"\\n--- CADASTRO PRODUTOS ---\")\n",
        "print(df_produtos.head())          # Mostrar as primeiras linhas\n",
        "print(df_produtos.info())          # Informações gerais do DataFrame (tipos e não nulos)"
      ],
      "metadata": {
        "colab": {
          "base_uri": "https://localhost:8080/"
        },
        "id": "UAT_JnG1MCRZ",
        "outputId": "45dcaeb1-6dbf-4ade-9387-a31a469e0d85"
      },
      "execution_count": null,
      "outputs": [
        {
          "output_type": "stream",
          "name": "stdout",
          "text": [
            "\n",
            "--- CADASTRO PRODUTOS ---\n",
            "     TABELA 1 CADASTRO PRODUTOS             Unnamed: 2   Unnamed: 3\n",
            "0  ID PRODUTO        ID ESTOQUE           NOME PRODUTO    CATEGORIA\n",
            "1        1001              5001     Notebook EliteBook  Eletrônicos\n",
            "2        1002              5002  Smartphone Galaxy S23  Eletrônicos\n",
            "3        1003              5003     Mesa de Escritório       Móveis\n",
            "4        1004              5004     Cadeira Ergonômica       Móveis\n",
            "<class 'pandas.core.frame.DataFrame'>\n",
            "RangeIndex: 41 entries, 0 to 40\n",
            "Data columns (total 4 columns):\n",
            " #   Column             Non-Null Count  Dtype \n",
            "---  ------             --------------  ----- \n",
            " 0   TABELA 1           41 non-null     object\n",
            " 1   CADASTRO PRODUTOS  41 non-null     object\n",
            " 2   Unnamed: 2         41 non-null     object\n",
            " 3   Unnamed: 3         41 non-null     object\n",
            "dtypes: object(4)\n",
            "memory usage: 1.4+ KB\n",
            "None\n"
          ]
        }
      ]
    },
    {
      "cell_type": "code",
      "source": [
        "# Ajustar nomes das colunas para facilitar o trabalho\n",
        "df_produtos.columns = ['ID PRODUTO', 'ID ESTOQUE', 'NOME PRODUTO', 'CATEGORIA']\n",
        "# Eliminando a linha repetida\n",
        "df_produtos = df_produtos[df_produtos['ID PRODUTO'] != 'ID PRODUTO'].copy()\n",
        "\n",
        "print(\"\\n--- CADASTRO PRODUTOS ---\")\n",
        "print(df_produtos.head())          # Mostrar as primeiras linhas\n",
        "print(df_produtos.info())          # Informações gerais do DataFrame (tipos e não nulos)"
      ],
      "metadata": {
        "colab": {
          "base_uri": "https://localhost:8080/"
        },
        "id": "yiVp4ADV0vy0",
        "outputId": "46a1cedf-9ff0-40f7-be9a-dd8e65b41419"
      },
      "execution_count": null,
      "outputs": [
        {
          "output_type": "stream",
          "name": "stdout",
          "text": [
            "\n",
            "--- CADASTRO PRODUTOS ---\n",
            "  ID PRODUTO ID ESTOQUE           NOME PRODUTO    CATEGORIA\n",
            "1       1001       5001     Notebook EliteBook  Eletrônicos\n",
            "2       1002       5002  Smartphone Galaxy S23  Eletrônicos\n",
            "3       1003       5003     Mesa de Escritório       Móveis\n",
            "4       1004       5004     Cadeira Ergonômica       Móveis\n",
            "5       1005       5005    Monitor 24\" Full HD  Eletrônicos\n",
            "<class 'pandas.core.frame.DataFrame'>\n",
            "Index: 40 entries, 1 to 40\n",
            "Data columns (total 4 columns):\n",
            " #   Column        Non-Null Count  Dtype \n",
            "---  ------        --------------  ----- \n",
            " 0   ID PRODUTO    40 non-null     object\n",
            " 1   ID ESTOQUE    40 non-null     object\n",
            " 2   NOME PRODUTO  40 non-null     object\n",
            " 3   CATEGORIA     40 non-null     object\n",
            "dtypes: object(4)\n",
            "memory usage: 1.6+ KB\n",
            "None\n"
          ]
        }
      ]
    },
    {
      "cell_type": "markdown",
      "source": [
        "###Clientes"
      ],
      "metadata": {
        "id": "VzIRa0Rg319C"
      }
    },
    {
      "cell_type": "code",
      "source": [
        "# --- Cadastro Clientes ---\n",
        "df_clientes = pd.read_excel(arquivo, sheet_name=\"Cadastro Clientes\", header=0)\n",
        "\n",
        "print(\"\\n--- CADASTRO CLIENTES ---\")\n",
        "print(df_clientes.head())\n",
        "print(df_clientes.info())"
      ],
      "metadata": {
        "colab": {
          "base_uri": "https://localhost:8080/"
        },
        "id": "1BBnAgnX1AZM",
        "outputId": "99b5b928-7523-4c30-f712-be733f6d0eb0"
      },
      "execution_count": null,
      "outputs": [
        {
          "output_type": "stream",
          "name": "stdout",
          "text": [
            "\n",
            "--- CADASTRO CLIENTES ---\n",
            "     TABELA 2       CADASTRO CLIENTES           Unnamed: 2\n",
            "0  ID CLIENTE            NOME CLIENTE        DATA CADASTRO\n",
            "1        2001      João Silva Almeida  2022-03-15 00:00:00\n",
            "2        2002   Maria Oliveira Santos  2021-05-22 00:00:00\n",
            "3        2003  Carlos Eduardo Pereira  2023-01-10 00:00:00\n",
            "4        2004    Ana Paula Costa Lima  2020-11-03 00:00:00\n",
            "<class 'pandas.core.frame.DataFrame'>\n",
            "RangeIndex: 41 entries, 0 to 40\n",
            "Data columns (total 3 columns):\n",
            " #   Column             Non-Null Count  Dtype \n",
            "---  ------             --------------  ----- \n",
            " 0   TABELA 2           41 non-null     object\n",
            " 1   CADASTRO CLIENTES  41 non-null     object\n",
            " 2   Unnamed: 2         41 non-null     object\n",
            "dtypes: object(3)\n",
            "memory usage: 1.1+ KB\n",
            "None\n"
          ]
        }
      ]
    },
    {
      "cell_type": "code",
      "source": [
        "# Renomear colunas\n",
        "df_clientes.columns = ['ID CLIENTE', 'NOME CLIENTE', 'DATA CADASTRO']\n",
        "\n",
        "# Remover linha duplicada do cabeçalho caso exista (exemplo: 'ID CLIENTE' na coluna)\n",
        "df_clientes = df_clientes[df_clientes['ID CLIENTE'] != 'ID CLIENTE'].copy()\n",
        "\n",
        "# Converter tipos, se necessário (exemplo ID CLIENTE numérico e DATA CADASTRO datetime)\n",
        "df_clientes['DATA CADASTRO'] = pd.to_datetime(df_clientes['DATA CADASTRO'], errors='coerce')\n",
        "\n",
        "print(\"\\n--- CADASTRO CLIENTES ---\")\n",
        "print(df_clientes.head())\n",
        "print(df_clientes.info())"
      ],
      "metadata": {
        "colab": {
          "base_uri": "https://localhost:8080/"
        },
        "id": "hvMLxet31lS2",
        "outputId": "f4d04e29-460d-462c-e1f6-2152871a0aee"
      },
      "execution_count": null,
      "outputs": [
        {
          "output_type": "stream",
          "name": "stdout",
          "text": [
            "\n",
            "--- CADASTRO CLIENTES ---\n",
            "  ID CLIENTE            NOME CLIENTE DATA CADASTRO\n",
            "1       2001      João Silva Almeida    2022-03-15\n",
            "2       2002   Maria Oliveira Santos    2021-05-22\n",
            "3       2003  Carlos Eduardo Pereira    2023-01-10\n",
            "4       2004    Ana Paula Costa Lima    2020-11-03\n",
            "5       2005    Pedro Henrique Souza    2022-07-28\n",
            "<class 'pandas.core.frame.DataFrame'>\n",
            "Index: 40 entries, 1 to 40\n",
            "Data columns (total 3 columns):\n",
            " #   Column         Non-Null Count  Dtype         \n",
            "---  ------         --------------  -----         \n",
            " 0   ID CLIENTE     40 non-null     object        \n",
            " 1   NOME CLIENTE   40 non-null     object        \n",
            " 2   DATA CADASTRO  40 non-null     datetime64[ns]\n",
            "dtypes: datetime64[ns](1), object(2)\n",
            "memory usage: 1.2+ KB\n",
            "None\n"
          ]
        }
      ]
    },
    {
      "cell_type": "markdown",
      "source": [
        "### Estoque"
      ],
      "metadata": {
        "id": "gaIHuDOW3-Qy"
      }
    },
    {
      "cell_type": "code",
      "source": [
        "# --- Cadastro Estoque ---\n",
        "df_estoque = pd.read_excel(arquivo, sheet_name=\"Cadastro de Estoque\", header=0)\n",
        "\n",
        "print(\"\\n--- CADASTRO ESTOQUE ---\")\n",
        "print(df_estoque.head())\n",
        "print(df_estoque.info())"
      ],
      "metadata": {
        "colab": {
          "base_uri": "https://localhost:8080/"
        },
        "id": "iVgnhzg62zEg",
        "outputId": "361c020c-ca9f-46b2-d9a2-34d5e8a83ac1"
      },
      "execution_count": null,
      "outputs": [
        {
          "output_type": "stream",
          "name": "stdout",
          "text": [
            "\n",
            "--- CADASTRO ESTOQUE ---\n",
            "     TABELA 4 CADASTRO ESTOQUE   Unnamed: 2           Unnamed: 3  \\\n",
            "0  ID ESTOQUE    VALOR ESTOQUE  QTD ESTOQUE         DATA ESTOQUE   \n",
            "1        5001           171996           50  2023-03-01 00:00:00   \n",
            "2        5002           124768           40  2023-02-15 00:00:00   \n",
            "3        5003            35980           50  2023-01-10 00:00:00   \n",
            "4        5004            51960           50  2023-04-05 00:00:00   \n",
            "\n",
            "      Unnamed: 4  \n",
            "0  ID FORNECEDOR  \n",
            "1           F100  \n",
            "2           F105  \n",
            "3           F110  \n",
            "4           F115  \n",
            "<class 'pandas.core.frame.DataFrame'>\n",
            "RangeIndex: 41 entries, 0 to 40\n",
            "Data columns (total 5 columns):\n",
            " #   Column            Non-Null Count  Dtype \n",
            "---  ------            --------------  ----- \n",
            " 0   TABELA 4          41 non-null     object\n",
            " 1   CADASTRO ESTOQUE  41 non-null     object\n",
            " 2   Unnamed: 2        41 non-null     object\n",
            " 3   Unnamed: 3        41 non-null     object\n",
            " 4   Unnamed: 4        41 non-null     object\n",
            "dtypes: object(5)\n",
            "memory usage: 1.7+ KB\n",
            "None\n"
          ]
        }
      ]
    },
    {
      "cell_type": "code",
      "source": [
        "# Renomear colunas\n",
        "df_estoque.columns = ['ID ESTOQUE', 'VALOR ESTOQUE', 'QTD ESTOQUE', 'DATA ESTOQUE', 'ID FORNECEDOR']\n",
        "\n",
        "# Remover linha duplicada do cabeçalho se existir\n",
        "df_estoque = df_estoque[df_estoque['ID ESTOQUE'] != 'ID ESTOQUE'].copy()\n",
        "\n",
        "# Converter colunas para os tipos corretos\n",
        "df_estoque['VALOR ESTOQUE'] = pd.to_numeric(df_estoque['VALOR ESTOQUE'], errors='coerce').astype(float)\n",
        "df_estoque['QTD ESTOQUE'] = pd.to_numeric(df_estoque['QTD ESTOQUE'], errors='coerce')\n",
        "df_estoque['DATA ESTOQUE'] = pd.to_datetime(df_estoque['DATA ESTOQUE'], errors='coerce')\n",
        "\n",
        "\n",
        "print(\"\\n--- CADASTRO ESTOQUE ---\")\n",
        "print(df_estoque.head())\n",
        "print(df_estoque.info())\n"
      ],
      "metadata": {
        "colab": {
          "base_uri": "https://localhost:8080/"
        },
        "id": "MKHkG8ah238P",
        "outputId": "ee340418-1bbf-4c23-a10c-8b76358d6511"
      },
      "execution_count": null,
      "outputs": [
        {
          "output_type": "stream",
          "name": "stdout",
          "text": [
            "\n",
            "--- CADASTRO ESTOQUE ---\n",
            "  ID ESTOQUE  VALOR ESTOQUE  QTD ESTOQUE DATA ESTOQUE ID FORNECEDOR\n",
            "1       5001       171996.0           50   2023-03-01          F100\n",
            "2       5002       124768.0           40   2023-02-15          F105\n",
            "3       5003        35980.0           50   2023-01-10          F110\n",
            "4       5004        51960.0           50   2023-04-05          F115\n",
            "5       5005        33996.0           50   2023-03-20          F120\n",
            "<class 'pandas.core.frame.DataFrame'>\n",
            "Index: 40 entries, 1 to 40\n",
            "Data columns (total 5 columns):\n",
            " #   Column         Non-Null Count  Dtype         \n",
            "---  ------         --------------  -----         \n",
            " 0   ID ESTOQUE     40 non-null     object        \n",
            " 1   VALOR ESTOQUE  40 non-null     float64       \n",
            " 2   QTD ESTOQUE    40 non-null     int64         \n",
            " 3   DATA ESTOQUE   40 non-null     datetime64[ns]\n",
            " 4   ID FORNECEDOR  40 non-null     object        \n",
            "dtypes: datetime64[ns](1), float64(1), int64(1), object(2)\n",
            "memory usage: 1.9+ KB\n",
            "None\n"
          ]
        }
      ]
    },
    {
      "cell_type": "markdown",
      "source": [
        "### Fornecedor"
      ],
      "metadata": {
        "id": "jpSNZbdy4mpb"
      }
    },
    {
      "cell_type": "code",
      "source": [
        "# --- Cadastro Fornecedores ---\n",
        "df_fornecedores = pd.read_excel(arquivo, sheet_name=\"Cadastro Fornecedores\", header=0)\n",
        "\n",
        "print(\"\\n--- CADASTRO FORNECEDORES ---\")\n",
        "print(df_fornecedores.head())\n",
        "print(df_fornecedores.info())\n"
      ],
      "metadata": {
        "colab": {
          "base_uri": "https://localhost:8080/"
        },
        "id": "YydJc8l34l_j",
        "outputId": "7e88eceb-3c92-4ec7-df2f-7d7a2b815026"
      },
      "execution_count": null,
      "outputs": [
        {
          "output_type": "stream",
          "name": "stdout",
          "text": [
            "\n",
            "--- CADASTRO FORNECEDORES ---\n",
            "        TABELA 5      CADASTRO FORNECEDORES           Unnamed: 2\n",
            "0  ID FORNECEDOR            NOME FORNECEDOR        DATA CADASTRO\n",
            "1           F100  Eletrônicos Nacional Ltda  2020-01-15 00:00:00\n",
            "2           F105           TecnoImport S.A.  2019-03-22 00:00:00\n",
            "3           F110   Móveis Premium Indústria  2018-11-08 00:00:00\n",
            "4           F115        DecoraHome Comércio  2021-05-30 00:00:00\n",
            "<class 'pandas.core.frame.DataFrame'>\n",
            "RangeIndex: 13 entries, 0 to 12\n",
            "Data columns (total 3 columns):\n",
            " #   Column                 Non-Null Count  Dtype \n",
            "---  ------                 --------------  ----- \n",
            " 0   TABELA 5               13 non-null     object\n",
            " 1   CADASTRO FORNECEDORES  13 non-null     object\n",
            " 2   Unnamed: 2             13 non-null     object\n",
            "dtypes: object(3)\n",
            "memory usage: 444.0+ bytes\n",
            "None\n"
          ]
        }
      ]
    },
    {
      "cell_type": "code",
      "source": [
        "# Renomear colunas\n",
        "df_fornecedores.columns = ['ID FORNECEDOR', 'NOME FORNECEDOR', 'DATA CADASTRO']\n",
        "\n",
        "# Remover linha duplicada do cabeçalho se existir\n",
        "df_fornecedores = df_fornecedores[df_fornecedores['ID FORNECEDOR'] != 'ID FORNECEDOR'].copy()\n",
        "\n",
        "# Converter tipos\n",
        "df_fornecedores['DATA CADASTRO'] = pd.to_datetime(df_fornecedores['DATA CADASTRO'], errors='coerce')\n",
        "\n",
        "print(\"\\n--- CADASTRO FORNECEDORES ---\")\n",
        "print(df_fornecedores.head())\n",
        "print(df_fornecedores.info())"
      ],
      "metadata": {
        "colab": {
          "base_uri": "https://localhost:8080/"
        },
        "id": "dUF92Ha24zxA",
        "outputId": "4003cffb-a293-487f-f333-83f1e7c91fba"
      },
      "execution_count": null,
      "outputs": [
        {
          "output_type": "stream",
          "name": "stdout",
          "text": [
            "\n",
            "--- CADASTRO FORNECEDORES ---\n",
            "  ID FORNECEDOR            NOME FORNECEDOR DATA CADASTRO\n",
            "1          F100  Eletrônicos Nacional Ltda    2020-01-15\n",
            "2          F105           TecnoImport S.A.    2019-03-22\n",
            "3          F110   Móveis Premium Indústria    2018-11-08\n",
            "4          F115        DecoraHome Comércio    2021-05-30\n",
            "5          F120    EletroDom Distribuidora    2019-07-14\n",
            "<class 'pandas.core.frame.DataFrame'>\n",
            "Index: 12 entries, 1 to 12\n",
            "Data columns (total 3 columns):\n",
            " #   Column           Non-Null Count  Dtype         \n",
            "---  ------           --------------  -----         \n",
            " 0   ID FORNECEDOR    12 non-null     object        \n",
            " 1   NOME FORNECEDOR  12 non-null     object        \n",
            " 2   DATA CADASTRO    12 non-null     datetime64[ns]\n",
            "dtypes: datetime64[ns](1), object(2)\n",
            "memory usage: 384.0+ bytes\n",
            "None\n"
          ]
        }
      ]
    },
    {
      "cell_type": "markdown",
      "source": [
        "### Vendas"
      ],
      "metadata": {
        "id": "YFr6DvXp4-1t"
      }
    },
    {
      "cell_type": "code",
      "source": [
        "# --- Transações Vendas ---\n",
        "df_vendas = pd.read_excel(arquivo, sheet_name=\"Transações Vendas\", header=0)\n",
        "\n",
        "print(\"\\n--- TRANSACOES VENDAS ---\")\n",
        "print(df_vendas.head())\n",
        "print(df_vendas.info())\n"
      ],
      "metadata": {
        "colab": {
          "base_uri": "https://localhost:8080/"
        },
        "id": "9aWYCuMJ4-Oa",
        "outputId": "cafbc908-9174-4c62-fdb2-98a123f2e2f3"
      },
      "execution_count": null,
      "outputs": [
        {
          "output_type": "stream",
          "name": "stdout",
          "text": [
            "\n",
            "--- TRANSACOES VENDAS ---\n",
            "  TABELA 3 TRANSAÇÕES NOTAS DE VENDAS  Unnamed: 2  Unnamed: 3 Unnamed: 4  \\\n",
            "0  ID NOTA                  DATA NOTA  VALOR NOTA  VALOR ITEM   QTD ITEM   \n",
            "1     3001        2023-03-05 00:00:00      4299.9      4299.9          1   \n",
            "2     3002        2023-03-12 00:00:00      5798.9        3899          1   \n",
            "3     3002        2023-03-12 00:00:00      5798.9        1899          1   \n",
            "4     3003        2023-03-18 00:00:00      1028.8       129.9          1   \n",
            "\n",
            "   Unnamed: 5  Unnamed: 6  \n",
            "0  ID PRODUTO  ID CLIENTE  \n",
            "1        1001        2015  \n",
            "2        1002        2003  \n",
            "3        1013        2003  \n",
            "4        1006        2028  \n",
            "<class 'pandas.core.frame.DataFrame'>\n",
            "RangeIndex: 237 entries, 0 to 236\n",
            "Data columns (total 7 columns):\n",
            " #   Column                      Non-Null Count  Dtype \n",
            "---  ------                      --------------  ----- \n",
            " 0   TABELA 3                    237 non-null    object\n",
            " 1   TRANSAÇÕES NOTAS DE VENDAS  237 non-null    object\n",
            " 2   Unnamed: 2                  237 non-null    object\n",
            " 3   Unnamed: 3                  237 non-null    object\n",
            " 4   Unnamed: 4                  237 non-null    object\n",
            " 5   Unnamed: 5                  237 non-null    object\n",
            " 6   Unnamed: 6                  237 non-null    object\n",
            "dtypes: object(7)\n",
            "memory usage: 13.1+ KB\n",
            "None\n"
          ]
        }
      ]
    },
    {
      "cell_type": "code",
      "source": [
        "# Renomear colunas\n",
        "df_vendas.columns = ['ID NOTA', 'DATA NOTA', 'VALOR NOTA', 'VALOR ITEM', 'QTD ITEM', 'ID PRODUTO', 'ID CLIENTE']\n",
        "\n",
        "# Remover linha duplicada do cabeçalho se existir\n",
        "df_vendas = df_vendas[df_vendas['ID NOTA'] != 'ID NOTA'].copy()\n",
        "\n",
        "# Converter tipos das colunas numéricas e datas\n",
        "for col in ['VALOR NOTA', 'VALOR ITEM', 'QTD ITEM']:\n",
        "    df_vendas[col] = pd.to_numeric(df_vendas[col], errors='coerce')\n",
        "\n",
        "df_vendas['DATA NOTA'] = pd.to_datetime(df_vendas['DATA NOTA'], errors='coerce')\n",
        "\n",
        "\n",
        "print(\"\\n--- TRANSACOES VENDAS ---\")\n",
        "print(df_vendas.head())\n",
        "print(df_vendas.info())"
      ],
      "metadata": {
        "colab": {
          "base_uri": "https://localhost:8080/"
        },
        "id": "EeFN96Xf5Hk0",
        "outputId": "88a2906e-e9b4-440c-8fde-60086064d760"
      },
      "execution_count": null,
      "outputs": [
        {
          "output_type": "stream",
          "name": "stdout",
          "text": [
            "\n",
            "--- TRANSACOES VENDAS ---\n",
            "  ID NOTA  DATA NOTA  VALOR NOTA  VALOR ITEM  QTD ITEM ID PRODUTO ID CLIENTE\n",
            "1    3001 2023-03-05      4299.9      4299.9         1       1001       2015\n",
            "2    3002 2023-03-12      5798.9      3899.0         1       1002       2003\n",
            "3    3002 2023-03-12      5798.9      1899.0         1       1013       2003\n",
            "4    3003 2023-03-18      1028.8       129.9         1       1006       2028\n",
            "5    3003 2023-03-18      1028.8       899.5         1       1003       2028\n",
            "<class 'pandas.core.frame.DataFrame'>\n",
            "Index: 236 entries, 1 to 236\n",
            "Data columns (total 7 columns):\n",
            " #   Column      Non-Null Count  Dtype         \n",
            "---  ------      --------------  -----         \n",
            " 0   ID NOTA     236 non-null    object        \n",
            " 1   DATA NOTA   236 non-null    datetime64[ns]\n",
            " 2   VALOR NOTA  236 non-null    float64       \n",
            " 3   VALOR ITEM  236 non-null    float64       \n",
            " 4   QTD ITEM    236 non-null    int64         \n",
            " 5   ID PRODUTO  236 non-null    object        \n",
            " 6   ID CLIENTE  236 non-null    object        \n",
            "dtypes: datetime64[ns](1), float64(2), int64(1), object(3)\n",
            "memory usage: 14.8+ KB\n",
            "None\n"
          ]
        }
      ]
    },
    {
      "cell_type": "markdown",
      "source": [],
      "metadata": {
        "id": "zVh3JPsXStRd"
      }
    },
    {
      "cell_type": "markdown",
      "source": [
        "#1. Calcule o valor total de venda dos produtos por categoria. Utilize as tabelas CADASTRO_PRODUTOS e TRANSACOES_VENDAS."
      ],
      "metadata": {
        "id": "0lFg1Q4US7Iy"
      }
    },
    {
      "cell_type": "code",
      "source": [
        "# Para ver as categorias únicas\n",
        "print(df_produtos['CATEGORIA'].unique())"
      ],
      "metadata": {
        "colab": {
          "base_uri": "https://localhost:8080/"
        },
        "id": "iSpWWYEjS9RP",
        "outputId": "34e68637-cff2-4612-c117-c121287a9747"
      },
      "execution_count": null,
      "outputs": [
        {
          "output_type": "stream",
          "name": "stdout",
          "text": [
            "['Eletrônicos' 'Móveis' 'Decoração' 'Eletrodomésticos' 'Ferramentas'\n",
            " 'Acessórios' 'Livros' 'Papelaria']\n"
          ]
        }
      ]
    },
    {
      "cell_type": "code",
      "source": [
        "# Merge de df_vendas com df_produtos\n",
        "df_vendas_com_categorias = pd.merge(df_vendas, df_produtos[['ID PRODUTO', 'CATEGORIA']], on='ID PRODUTO', how='inner')\n",
        "\n",
        "# Obter as categorias únicas no DataFrame\n",
        "categorias_unicas = df_vendas_com_categorias_filtrado['CATEGORIA'].unique()\n",
        "\n",
        "# Iterar sobre cada categoria e imprimir os dados\n",
        "for categoria in df_vendas_com_categorias['CATEGORIA'].unique():\n",
        "    print(f\"\\n--- VENDAS DA CATEGORIA {categoria.upper()} ---\")\n",
        "    print(df_vendas_com_categorias[df_vendas_com_categorias['CATEGORIA'] == categoria])"
      ],
      "metadata": {
        "colab": {
          "base_uri": "https://localhost:8080/"
        },
        "id": "QGNrYoKpek_4",
        "outputId": "93286c10-e3eb-4f3d-89c0-a53a7c53e341"
      },
      "execution_count": null,
      "outputs": [
        {
          "output_type": "stream",
          "name": "stdout",
          "text": [
            "\n",
            "--- VENDAS DA CATEGORIA ELETRÔNICOS ---\n",
            "    ID NOTA  DATA NOTA  VALOR NOTA  VALOR ITEM  QTD ITEM ID PRODUTO  \\\n",
            "0      3001 2023-03-05      4299.9      4299.9         1       1001   \n",
            "1      3002 2023-03-12      5798.9      3899.0         1       1002   \n",
            "3      3003 2023-03-18      1028.8       129.9         1       1006   \n",
            "6      3005 2023-03-25       849.9       849.9         1       1005   \n",
            "7      3006 2023-03-28      1049.7       349.9         3       1009   \n",
            "..      ...        ...         ...         ...       ...        ...   \n",
            "224    3143 2024-07-30      1049.4       349.9         3       1009   \n",
            "227    3146 2024-08-09      1199.9      1199.9         1       1039   \n",
            "231    3148 2024-08-16      1768.8       849.9         1       1005   \n",
            "233    3149 2024-08-20      1049.7       349.9         3       1009   \n",
            "234    3150 2024-08-23      1129.8       129.9         1       1006   \n",
            "\n",
            "    ID CLIENTE    CATEGORIA  \n",
            "0         2015  Eletrônicos  \n",
            "1         2003  Eletrônicos  \n",
            "3         2028  Eletrônicos  \n",
            "6         2030  Eletrônicos  \n",
            "7         2007  Eletrônicos  \n",
            "..         ...          ...  \n",
            "224       2015  Eletrônicos  \n",
            "227       2036  Eletrônicos  \n",
            "231       2029  Eletrônicos  \n",
            "233       2018  Eletrônicos  \n",
            "234       2033  Eletrônicos  \n",
            "\n",
            "[92 rows x 8 columns]\n",
            "\n",
            "--- VENDAS DA CATEGORIA MÓVEIS ---\n",
            "    ID NOTA  DATA NOTA  VALOR NOTA  VALOR ITEM  QTD ITEM ID PRODUTO  \\\n",
            "2      3002 2023-03-12      5798.9      1899.0         1       1013   \n",
            "4      3003 2023-03-18      1028.8       899.5         1       1003   \n",
            "5      3004 2023-03-22      2398.0      1299.0         2       1004   \n",
            "9      3008 2023-04-07      2598.0      1299.0         2       1004   \n",
            "12     3010 2023-04-15      1768.8       899.5         1       1003   \n",
            "..      ...        ...         ...         ...       ...        ...   \n",
            "221    3142 2024-07-26      1768.8       899.5         1       1003   \n",
            "225    3144 2024-08-02       899.0       899.0         1       1012   \n",
            "226    3145 2024-08-06      2699.0       899.5         3       1003   \n",
            "228    3147 2024-08-13      1938.9      1299.0         1       1004   \n",
            "230    3148 2024-08-16      1768.8       899.5         1       1003   \n",
            "\n",
            "    ID CLIENTE CATEGORIA  \n",
            "2         2003    Móveis  \n",
            "4         2028    Móveis  \n",
            "5         2011    Móveis  \n",
            "9         2019    Móveis  \n",
            "12        2005    Móveis  \n",
            "..         ...       ...  \n",
            "221       2008    Móveis  \n",
            "225       2024    Móveis  \n",
            "226       2011    Móveis  \n",
            "228       2007    Móveis  \n",
            "230       2029    Móveis  \n",
            "\n",
            "[84 rows x 8 columns]\n",
            "\n",
            "--- VENDAS DA CATEGORIA PAPELARIA ---\n",
            "    ID NOTA  DATA NOTA  VALOR NOTA  VALOR ITEM  QTD ITEM ID PRODUTO  \\\n",
            "13     3010 2023-04-15      1768.8        19.9         1       1036   \n",
            "26     3019 2023-05-20      1768.8        19.9         1       1036   \n",
            "36     3025 2023-06-12      1768.8        19.9         1       1036   \n",
            "45     3031 2023-07-03      1768.8        19.9         1       1036   \n",
            "55     3037 2023-07-25      1768.8        19.9         1       1036   \n",
            "64     3043 2023-08-15      1768.8        19.9         1       1036   \n",
            "74     3049 2023-09-05      1768.8        19.9         1       1036   \n",
            "80     3052 2023-09-16      1768.8        19.9         1       1036   \n",
            "90     3058 2023-10-07      1768.8        19.9         1       1036   \n",
            "99     3064 2023-10-28      1768.8        19.9         1       1036   \n",
            "109    3070 2023-11-18      1768.8        19.9         1       1036   \n",
            "118    3076 2023-12-09      1768.8        19.9         1       1036   \n",
            "128    3082 2023-12-30      1768.8        19.9         1       1036   \n",
            "137    3088 2024-01-20      1768.8        19.9         1       1036   \n",
            "147    3094 2024-02-10      1768.8        19.9         1       1036   \n",
            "156    3100 2024-03-02      1768.8        19.9         1       1036   \n",
            "166    3106 2024-03-22      1768.8        19.9         1       1036   \n",
            "175    3112 2024-04-12      1768.8        19.9         1       1036   \n",
            "185    3118 2024-05-03      1768.8        19.9         1       1036   \n",
            "194    3124 2024-05-24      1768.8        19.9         1       1036   \n",
            "204    3130 2024-06-14      1768.8        19.9         1       1036   \n",
            "213    3136 2024-07-05      1768.8        19.9         1       1036   \n",
            "223    3142 2024-07-26      1768.8        19.9         1       1036   \n",
            "232    3148 2024-08-16      1768.8        19.9         1       1036   \n",
            "\n",
            "    ID CLIENTE  CATEGORIA  \n",
            "13        2005  Papelaria  \n",
            "26        2001  Papelaria  \n",
            "36        2037  Papelaria  \n",
            "45        2021  Papelaria  \n",
            "55        2026  Papelaria  \n",
            "64        2024  Papelaria  \n",
            "74        2025  Papelaria  \n",
            "80        2009  Papelaria  \n",
            "90        2027  Papelaria  \n",
            "99        2008  Papelaria  \n",
            "109       2020  Papelaria  \n",
            "118       2031  Papelaria  \n",
            "128       2007  Papelaria  \n",
            "137       2025  Papelaria  \n",
            "147       2017  Papelaria  \n",
            "156       2006  Papelaria  \n",
            "166       2023  Papelaria  \n",
            "175       2030  Papelaria  \n",
            "185       2020  Papelaria  \n",
            "194       2004  Papelaria  \n",
            "204       2010  Papelaria  \n",
            "213       2006  Papelaria  \n",
            "223       2008  Papelaria  \n",
            "232       2029  Papelaria  \n",
            "\n",
            "--- VENDAS DA CATEGORIA LIVROS ---\n",
            "    ID NOTA  DATA NOTA  VALOR NOTA  VALOR ITEM  QTD ITEM ID PRODUTO  \\\n",
            "17     3013 2023-04-25      1129.8       999.9         1       1033   \n",
            "33     3024 2023-06-09      1129.8       999.9         1       1033   \n",
            "48     3033 2023-07-10      1129.8       999.9         1       1033   \n",
            "67     3045 2023-08-22      1129.8       999.9         1       1033   \n",
            "83     3054 2023-09-23      1129.8       999.9         1       1033   \n",
            "102    3066 2023-11-04      1129.8       999.9         1       1033   \n",
            "121    3078 2023-12-16      1129.8       999.9         1       1033   \n",
            "140    3090 2024-01-27      1129.8       999.9         1       1033   \n",
            "159    3102 2024-03-08      1129.8       999.9         1       1033   \n",
            "178    3114 2024-04-19      1129.8       999.9         1       1033   \n",
            "197    3126 2024-05-31      1129.8       999.9         1       1033   \n",
            "216    3138 2024-07-12      1129.8       999.9         1       1033   \n",
            "235    3150 2024-08-23      1129.8       999.9         1       1033   \n",
            "\n",
            "    ID CLIENTE CATEGORIA  \n",
            "17        2036    Livros  \n",
            "33        2024    Livros  \n",
            "48        2034    Livros  \n",
            "67        2030    Livros  \n",
            "83        2021    Livros  \n",
            "102       2029    Livros  \n",
            "121       2037    Livros  \n",
            "140       2032    Livros  \n",
            "159       2024    Livros  \n",
            "178       2035    Livros  \n",
            "197       2032    Livros  \n",
            "216       2013    Livros  \n",
            "235       2033    Livros  \n",
            "\n",
            "--- VENDAS DA CATEGORIA FERRAMENTAS ---\n",
            "    ID NOTA  DATA NOTA  VALOR NOTA  VALOR ITEM  QTD ITEM ID PRODUTO  \\\n",
            "22     3017 2023-05-12      1938.9       639.9         1       1023   \n",
            "31     3023 2023-06-05      1938.9       639.9         1       1023   \n",
            "42     3030 2023-06-29      1938.9       639.9         1       1023   \n",
            "52     3036 2023-07-21      1938.9       639.9         1       1023   \n",
            "61     3042 2023-08-11      1938.9       639.9         1       1023   \n",
            "71     3048 2023-09-02      1938.9       639.9         1       1023   \n",
            "77     3051 2023-09-13      1938.9       639.9         1       1023   \n",
            "87     3057 2023-10-04      1938.9       639.9         1       1023   \n",
            "96     3063 2023-10-25      1938.9       639.9         1       1023   \n",
            "106    3069 2023-11-15      1938.9       639.9         1       1023   \n",
            "115    3075 2023-12-06      1938.9       639.9         1       1023   \n",
            "125    3081 2023-12-27      1938.9       639.9         1       1023   \n",
            "134    3087 2024-01-17      1938.9       639.9         1       1023   \n",
            "144    3093 2024-02-07      1938.9       639.9         1       1023   \n",
            "153    3099 2024-02-28      1938.9       639.9         1       1023   \n",
            "163    3105 2024-03-19      1938.9       639.9         1       1023   \n",
            "172    3111 2024-04-09      1938.9       639.9         1       1023   \n",
            "182    3117 2024-04-30      1938.9       639.9         1       1023   \n",
            "191    3123 2024-05-21      1938.9       639.9         1       1023   \n",
            "201    3129 2024-06-11      1938.9       639.9         1       1023   \n",
            "210    3135 2024-07-02      1938.9       639.9         1       1023   \n",
            "220    3141 2024-07-23      1938.9       639.9         1       1023   \n",
            "229    3147 2024-08-13      1938.9       639.9         1       1023   \n",
            "\n",
            "    ID CLIENTE    CATEGORIA  \n",
            "22        2035  Ferramentas  \n",
            "31        2006  Ferramentas  \n",
            "42        2008  Ferramentas  \n",
            "52        2012  Ferramentas  \n",
            "61        2020  Ferramentas  \n",
            "71        2022  Ferramentas  \n",
            "77        2036  Ferramentas  \n",
            "87        2018  Ferramentas  \n",
            "96        2033  Ferramentas  \n",
            "106       2005  Ferramentas  \n",
            "115       1023  Ferramentas  \n",
            "125       2028  Ferramentas  \n",
            "134       2002  Ferramentas  \n",
            "144       2030  Ferramentas  \n",
            "153       2031  Ferramentas  \n",
            "163       2008  Ferramentas  \n",
            "172       2027  Ferramentas  \n",
            "182       2001  Ferramentas  \n",
            "191       2021  Ferramentas  \n",
            "201       2037  Ferramentas  \n",
            "210       2022  Ferramentas  \n",
            "220       2030  Ferramentas  \n",
            "229       2007  Ferramentas  \n"
          ]
        }
      ]
    },
    {
      "cell_type": "code",
      "source": [
        "# Cálculo do valor total por item\n",
        "df_vendas_com_categorias['VALOR TOTAL'] = df_vendas_com_categorias['VALOR ITEM'] * df_vendas_com_categorias['QTD ITEM']\n",
        "\n",
        "# Agrupar e ordenar\n",
        "vendas_por_categoria = df_vendas_com_categorias.groupby('CATEGORIA')['VALOR TOTAL'].sum().sort_values(ascending=False)\n",
        "\n",
        "print(\"\\n--- VALOR TOTAL DE VENDAS POR CATEGORIA ---\")\n",
        "print(vendas_por_categoria)"
      ],
      "metadata": {
        "colab": {
          "base_uri": "https://localhost:8080/"
        },
        "id": "rnO3IeUZmzTo",
        "outputId": "a09551a1-956b-4c0b-f5cc-f2b55b745f09"
      },
      "execution_count": null,
      "outputs": [
        {
          "output_type": "stream",
          "name": "stdout",
          "text": [
            "\n",
            "--- VALOR TOTAL DE VENDAS POR CATEGORIA ---\n",
            "CATEGORIA\n",
            "Móveis         127610.0\n",
            "Eletrônicos     96403.1\n",
            "Ferramentas     14717.7\n",
            "Livros          12998.7\n",
            "Papelaria         477.6\n",
            "Name: VALOR TOTAL, dtype: float64\n"
          ]
        }
      ]
    },
    {
      "cell_type": "markdown",
      "source": [
        "###Análise do Valor Total de Vendas por Categoria"
      ],
      "metadata": {
        "id": "HxSPBhGdORkn"
      }
    },
    {
      "cell_type": "markdown",
      "source": [
        "A análise das transações de vendas da Infomaz revelou o desempenho financeiro de cada categoria de produto em termos de valor total vendido. A categoria Móveis lidera o ranking com um faturamento total de 127.610,00, seguida pela categoria Eletrônicos com  96.403,10. As categorias Ferramentas e Livros apresentam valores de vendas significativamente menores, com 14.717,70 e 12.998,70, respectivamente, enquanto a categoria Papelaria tem o menor valor total vendido, de  477,60.\n",
        "\n",
        "Esses resultados indicam que os produtos relacionados a móveis e eletrônicos são os principais responsáveis pela receita da empresa, representando as maiores oportunidades para investimento em estoque e estratégias comerciais. Por outro lado, categorias com vendas menores podem demandar revisões em suas estratégias de marketing, oferta ou até mesmo avaliação da necessidade de estoque.\n",
        "\n",
        "Recomenda-se que a Infomaz priorize a otimização de estoque e políticas de precificação para as categorias de maior valor, garantindo a disponibilidade para atender à demanda. Paralelamente, uma análise mais aprofundada das categorias com menor faturamento poderá identificar oportunidades para ampliar o mix ou reestruturar o portfólio, alinhando a oferta à demanda dos clientes\n"
      ],
      "metadata": {
        "id": "_sm-IFaGOTdw"
      }
    },
    {
      "cell_type": "markdown",
      "source": [
        "# 2. Calcule a margem dos produtos subtraindo o valor unitario pelo valor de venda. Utilize as tabelas CADASTRO_ESTOQUE e TRANSACOES_VENDAS.\n",
        "\n",
        "\n"
      ],
      "metadata": {
        "id": "6_m28x-i_nLs"
      }
    },
    {
      "cell_type": "code",
      "source": [
        "# Calcular custo unitário no estoque\n",
        "df_estoque['CUSTO_UNIT'] = df_estoque['VALOR ESTOQUE'] / df_estoque['QTD ESTOQUE'].replace(0, 1)\n",
        "print(\"\\n--- CADASTRO ESTOQUE ---\")\n",
        "print(df_estoque.head())\n",
        "print(df_estoque.info())"
      ],
      "metadata": {
        "colab": {
          "base_uri": "https://localhost:8080/"
        },
        "id": "mz2QFmLb_uG9",
        "outputId": "cc93697f-96da-4ec1-d081-292f060c29af"
      },
      "execution_count": null,
      "outputs": [
        {
          "output_type": "stream",
          "name": "stdout",
          "text": [
            "\n",
            "--- CADASTRO ESTOQUE ---\n",
            "  ID ESTOQUE  VALOR ESTOQUE  QTD ESTOQUE DATA ESTOQUE ID FORNECEDOR  \\\n",
            "1       5001       171996.0           50   2023-03-01          F100   \n",
            "2       5002       124768.0           40   2023-02-15          F105   \n",
            "3       5003        35980.0           50   2023-01-10          F110   \n",
            "4       5004        51960.0           50   2023-04-05          F115   \n",
            "5       5005        33996.0           50   2023-03-20          F120   \n",
            "\n",
            "   CUSTO_UNIT  \n",
            "1     3439.92  \n",
            "2     3119.20  \n",
            "3      719.60  \n",
            "4     1039.20  \n",
            "5      679.92  \n",
            "<class 'pandas.core.frame.DataFrame'>\n",
            "Index: 40 entries, 1 to 40\n",
            "Data columns (total 6 columns):\n",
            " #   Column         Non-Null Count  Dtype         \n",
            "---  ------         --------------  -----         \n",
            " 0   ID ESTOQUE     40 non-null     object        \n",
            " 1   VALOR ESTOQUE  40 non-null     float64       \n",
            " 2   QTD ESTOQUE    40 non-null     int64         \n",
            " 3   DATA ESTOQUE   40 non-null     datetime64[ns]\n",
            " 4   ID FORNECEDOR  40 non-null     object        \n",
            " 5   CUSTO_UNIT     40 non-null     float64       \n",
            "dtypes: datetime64[ns](1), float64(2), int64(1), object(2)\n",
            "memory usage: 2.2+ KB\n",
            "None\n"
          ]
        }
      ]
    },
    {
      "cell_type": "code",
      "source": [
        "# Merge para adicionar ID_ESTOQUE a df_vendas\n",
        "df_vendas_com_estoque = pd.merge(\n",
        "    df_vendas,\n",
        "    df_produtos[['ID PRODUTO', 'ID ESTOQUE']],\n",
        "    on='ID PRODUTO',\n",
        "    how='left'\n",
        ")\n",
        "\n",
        "# Merge para adicionar custo unitário à venda\n",
        "df_vendas_com_estoque = pd.merge(\n",
        "    df_vendas_com_estoque,\n",
        "    df_estoque[['ID ESTOQUE', 'CUSTO_UNIT']],\n",
        "    on='ID ESTOQUE',\n",
        "    how='left'\n",
        ")\n",
        "\n",
        "\n",
        "print(\"\\n--- Vendas COM ESTOQUE ---\")\n",
        "print(df_vendas_com_estoque.head())\n",
        "print(df_vendas_com_estoque.info())"
      ],
      "metadata": {
        "colab": {
          "base_uri": "https://localhost:8080/"
        },
        "id": "2yl-BV2RCJte",
        "outputId": "5ebbb66d-38d8-4a1a-dfb5-57e334624cb3"
      },
      "execution_count": null,
      "outputs": [
        {
          "output_type": "stream",
          "name": "stdout",
          "text": [
            "\n",
            "--- Vendas COM ESTOQUE ---\n",
            "  ID NOTA  DATA NOTA  VALOR NOTA  VALOR ITEM  QTD ITEM ID PRODUTO ID CLIENTE  \\\n",
            "0    3001 2023-03-05      4299.9      4299.9         1       1001       2015   \n",
            "1    3002 2023-03-12      5798.9      3899.0         1       1002       2003   \n",
            "2    3002 2023-03-12      5798.9      1899.0         1       1013       2003   \n",
            "3    3003 2023-03-18      1028.8       129.9         1       1006       2028   \n",
            "4    3003 2023-03-18      1028.8       899.5         1       1003       2028   \n",
            "\n",
            "  ID ESTOQUE  CUSTO_UNIT  \n",
            "0       5001     3439.92  \n",
            "1       5002     3119.20  \n",
            "2       5013     1519.20  \n",
            "3       5006      103.92  \n",
            "4       5003      719.60  \n",
            "<class 'pandas.core.frame.DataFrame'>\n",
            "RangeIndex: 236 entries, 0 to 235\n",
            "Data columns (total 9 columns):\n",
            " #   Column      Non-Null Count  Dtype         \n",
            "---  ------      --------------  -----         \n",
            " 0   ID NOTA     236 non-null    object        \n",
            " 1   DATA NOTA   236 non-null    datetime64[ns]\n",
            " 2   VALOR NOTA  236 non-null    float64       \n",
            " 3   VALOR ITEM  236 non-null    float64       \n",
            " 4   QTD ITEM    236 non-null    int64         \n",
            " 5   ID PRODUTO  236 non-null    object        \n",
            " 6   ID CLIENTE  236 non-null    object        \n",
            " 7   ID ESTOQUE  236 non-null    object        \n",
            " 8   CUSTO_UNIT  236 non-null    float64       \n",
            "dtypes: datetime64[ns](1), float64(3), int64(1), object(4)\n",
            "memory usage: 16.7+ KB\n",
            "None\n"
          ]
        }
      ]
    },
    {
      "cell_type": "code",
      "source": [
        "# Calcular margem unitária\n",
        "df_vendas_com_estoque['MARGEM_UNIT'] = df_vendas_com_estoque['VALOR ITEM'] - df_vendas_com_estoque['CUSTO_UNIT']\n",
        "print(\"\\n--- Vendas COM ESTOQUE ---\")\n",
        "print(df_vendas_com_estoque.head(10))\n",
        "print(df_vendas_com_estoque.info())"
      ],
      "metadata": {
        "colab": {
          "base_uri": "https://localhost:8080/"
        },
        "id": "OfwhT_oFC1LB",
        "outputId": "fef1f9b0-5d63-4393-c911-f4d59e455de4"
      },
      "execution_count": null,
      "outputs": [
        {
          "output_type": "stream",
          "name": "stdout",
          "text": [
            "\n",
            "--- Vendas COM ESTOQUE ---\n",
            "  ID NOTA  DATA NOTA  VALOR NOTA  VALOR ITEM  QTD ITEM ID PRODUTO ID CLIENTE  \\\n",
            "0    3001 2023-03-05      4299.9      4299.9         1       1001       2015   \n",
            "1    3002 2023-03-12      5798.9      3899.0         1       1002       2003   \n",
            "2    3002 2023-03-12      5798.9      1899.0         1       1013       2003   \n",
            "3    3003 2023-03-18      1028.8       129.9         1       1006       2028   \n",
            "4    3003 2023-03-18      1028.8       899.5         1       1003       2028   \n",
            "5    3004 2023-03-22      2398.0      1299.0         2       1004       2011   \n",
            "6    3005 2023-03-25       849.9       849.9         1       1005       2030   \n",
            "7    3006 2023-03-28      1049.7       349.9         3       1009       2007   \n",
            "8    3007 2023-04-02      3899.0      3899.0         1       1002       2025   \n",
            "9    3008 2023-04-07      2598.0      1299.0         2       1004       2019   \n",
            "\n",
            "  ID ESTOQUE  CUSTO_UNIT  MARGEM_UNIT  \n",
            "0       5001     3439.92       859.98  \n",
            "1       5002     3119.20       779.80  \n",
            "2       5013     1519.20       379.80  \n",
            "3       5006      103.92        25.98  \n",
            "4       5003      719.60       179.90  \n",
            "5       5004     1039.20       259.80  \n",
            "6       5005      679.92       169.98  \n",
            "7       5009      279.92        69.98  \n",
            "8       5002     3119.20       779.80  \n",
            "9       5004     1039.20       259.80  \n",
            "<class 'pandas.core.frame.DataFrame'>\n",
            "RangeIndex: 236 entries, 0 to 235\n",
            "Data columns (total 10 columns):\n",
            " #   Column       Non-Null Count  Dtype         \n",
            "---  ------       --------------  -----         \n",
            " 0   ID NOTA      236 non-null    object        \n",
            " 1   DATA NOTA    236 non-null    datetime64[ns]\n",
            " 2   VALOR NOTA   236 non-null    float64       \n",
            " 3   VALOR ITEM   236 non-null    float64       \n",
            " 4   QTD ITEM     236 non-null    int64         \n",
            " 5   ID PRODUTO   236 non-null    object        \n",
            " 6   ID CLIENTE   236 non-null    object        \n",
            " 7   ID ESTOQUE   236 non-null    object        \n",
            " 8   CUSTO_UNIT   236 non-null    float64       \n",
            " 9   MARGEM_UNIT  236 non-null    float64       \n",
            "dtypes: datetime64[ns](1), float64(4), int64(1), object(4)\n",
            "memory usage: 18.6+ KB\n",
            "None\n"
          ]
        }
      ]
    },
    {
      "cell_type": "code",
      "source": [
        "# Calcular margem total\n",
        "df_vendas_com_estoque['MARGEM_TOTAL'] = df_vendas_com_estoque['MARGEM_UNIT'] * df_vendas_com_estoque['QTD ITEM']\n",
        "print(\"\\n--- Vendas COM ESTOQUE ---\")\n",
        "print(df_vendas_com_estoque.head(10))\n",
        "print(df_vendas_com_estoque.info())"
      ],
      "metadata": {
        "colab": {
          "base_uri": "https://localhost:8080/"
        },
        "id": "fR5WNETVDBf3",
        "outputId": "ad2b105c-c0f5-4d2a-bb58-a4dc85b4c04a"
      },
      "execution_count": null,
      "outputs": [
        {
          "output_type": "stream",
          "name": "stdout",
          "text": [
            "\n",
            "--- Vendas COM ESTOQUE ---\n",
            "  ID NOTA  DATA NOTA  VALOR NOTA  VALOR ITEM  QTD ITEM ID PRODUTO ID CLIENTE  \\\n",
            "0    3001 2023-03-05      4299.9      4299.9         1       1001       2015   \n",
            "1    3002 2023-03-12      5798.9      3899.0         1       1002       2003   \n",
            "2    3002 2023-03-12      5798.9      1899.0         1       1013       2003   \n",
            "3    3003 2023-03-18      1028.8       129.9         1       1006       2028   \n",
            "4    3003 2023-03-18      1028.8       899.5         1       1003       2028   \n",
            "5    3004 2023-03-22      2398.0      1299.0         2       1004       2011   \n",
            "6    3005 2023-03-25       849.9       849.9         1       1005       2030   \n",
            "7    3006 2023-03-28      1049.7       349.9         3       1009       2007   \n",
            "8    3007 2023-04-02      3899.0      3899.0         1       1002       2025   \n",
            "9    3008 2023-04-07      2598.0      1299.0         2       1004       2019   \n",
            "\n",
            "  ID ESTOQUE  CUSTO_UNIT  MARGEM_UNIT  MARGEM_TOTAL  \n",
            "0       5001     3439.92       859.98        859.98  \n",
            "1       5002     3119.20       779.80        779.80  \n",
            "2       5013     1519.20       379.80        379.80  \n",
            "3       5006      103.92        25.98         25.98  \n",
            "4       5003      719.60       179.90        179.90  \n",
            "5       5004     1039.20       259.80        519.60  \n",
            "6       5005      679.92       169.98        169.98  \n",
            "7       5009      279.92        69.98        209.94  \n",
            "8       5002     3119.20       779.80        779.80  \n",
            "9       5004     1039.20       259.80        519.60  \n",
            "<class 'pandas.core.frame.DataFrame'>\n",
            "RangeIndex: 236 entries, 0 to 235\n",
            "Data columns (total 11 columns):\n",
            " #   Column        Non-Null Count  Dtype         \n",
            "---  ------        --------------  -----         \n",
            " 0   ID NOTA       236 non-null    object        \n",
            " 1   DATA NOTA     236 non-null    datetime64[ns]\n",
            " 2   VALOR NOTA    236 non-null    float64       \n",
            " 3   VALOR ITEM    236 non-null    float64       \n",
            " 4   QTD ITEM      236 non-null    int64         \n",
            " 5   ID PRODUTO    236 non-null    object        \n",
            " 6   ID CLIENTE    236 non-null    object        \n",
            " 7   ID ESTOQUE    236 non-null    object        \n",
            " 8   CUSTO_UNIT    236 non-null    float64       \n",
            " 9   MARGEM_UNIT   236 non-null    float64       \n",
            " 10  MARGEM_TOTAL  236 non-null    float64       \n",
            "dtypes: datetime64[ns](1), float64(5), int64(1), object(4)\n",
            "memory usage: 20.4+ KB\n",
            "None\n"
          ]
        }
      ]
    },
    {
      "cell_type": "code",
      "source": [
        "# Exibir resumo da margem por produto\n",
        "df_margem_por_produto = df_vendas_com_estoque.groupby('ID PRODUTO')['MARGEM_TOTAL'].sum().reset_index()\n",
        "\n",
        "print(\"\\n--- MARGEM POR PRODUTO ---\")\n",
        "print(df_margem_por_produto.head())\n",
        "print(df_margem_por_produto.info())"
      ],
      "metadata": {
        "colab": {
          "base_uri": "https://localhost:8080/"
        },
        "id": "jeBB0O4iFEGY",
        "outputId": "92d2ea68-50ba-439b-b1df-ce17089bf38e"
      },
      "execution_count": null,
      "outputs": [
        {
          "output_type": "stream",
          "name": "stdout",
          "text": [
            "\n",
            "--- MARGEM POR PRODUTO ---\n",
            "   ID PRODUTO  MARGEM_TOTAL\n",
            "0        1001       1719.96\n",
            "1        1002       2339.40\n",
            "2        1003      10434.20\n",
            "3        1004      12730.20\n",
            "4        1005       4249.50\n",
            "<class 'pandas.core.frame.DataFrame'>\n",
            "RangeIndex: 14 entries, 0 to 13\n",
            "Data columns (total 2 columns):\n",
            " #   Column        Non-Null Count  Dtype  \n",
            "---  ------        --------------  -----  \n",
            " 0   ID PRODUTO    14 non-null     int64  \n",
            " 1   MARGEM_TOTAL  14 non-null     float64\n",
            "dtypes: float64(1), int64(1)\n",
            "memory usage: 356.0 bytes\n",
            "None\n"
          ]
        }
      ]
    },
    {
      "cell_type": "code",
      "source": [
        "# Juntar o nome do produto para melhor visualização\n",
        "df_margem_por_produto = pd.merge(df_margem_por_produto, df_produtos[['ID PRODUTO', 'NOME PRODUTO']], on='ID PRODUTO', how='left')\n",
        "\n",
        "# Ordenar pelo maior lucro\n",
        "df_margem_por_produto = df_margem_por_produto.sort_values('MARGEM_TOTAL', ascending=False)\n",
        "\n",
        "print(\"\\n--- MARGEM POR PRODUTO---\")\n",
        "print(df_margem_por_produto[['ID PRODUTO', 'NOME PRODUTO', 'MARGEM_TOTAL']].to_string(index=False))\n"
      ],
      "metadata": {
        "colab": {
          "base_uri": "https://localhost:8080/"
        },
        "id": "F-WOGt3nFbTA",
        "outputId": "5836d406-60cb-45d6-ad24-68b9f0c36557"
      },
      "execution_count": null,
      "outputs": [
        {
          "output_type": "stream",
          "name": "stdout",
          "text": [
            "\n",
            "--- MARGEM POR PRODUTO---\n",
            "ID PRODUTO                  NOME PRODUTO  MARGEM_TOTAL\n",
            "      1004            Cadeira Ergonômica      12730.20\n",
            "      1033 Livro: Python para Iniciantes      11959.74\n",
            "      1003            Mesa de Escritório      10434.20\n",
            "      1023                Serra Elétrica       6807.54\n",
            "      1039                    Tablet 10\"       5279.56\n",
            "      1009                HD Externo 1TB       5248.50\n",
            "      1012            Estante em Madeira       4617.80\n",
            "      1005           Monitor 24\" Full HD       4249.50\n",
            "      1002         Smartphone Galaxy S23       2339.40\n",
            "      1001            Notebook EliteBook       1719.96\n",
            "      1013                Armário de Aço        379.80\n",
            "      1006               Teclado Sem Fio        363.72\n",
            "      1036                    Grampeador         95.52\n",
            "      1011           Headphone Bluetooth         79.98\n"
          ]
        }
      ]
    },
    {
      "cell_type": "markdown",
      "source": [
        "###Análise de Margem de Lucro por Produto"
      ],
      "metadata": {
        "id": "dQhGcZWSUrL-"
      }
    },
    {
      "cell_type": "markdown",
      "source": [
        "Calculamos a margem total de lucro subtraindo o custo unitário de cada produto do seu preço de venda, multiplicando pela quantidade vendida.\n",
        "\n",
        "Os produtos com maior margem total são:\n",
        "\n",
        "Cadeira Ergonômica com R$ 12.730,20\n",
        "\n",
        "Livro: Python para Iniciantes com R$ 11.959,74\n",
        "\n",
        "Mesa de Escritório com R$ 10.434,20\n",
        "\n",
        "Esses produtos contribuem significativamente para a rentabilidade da empresa.\n",
        "\n",
        "Produtos com margens mais baixas, como o Grampeador e o Headphone Bluetooth, geram menor lucro total, e podem ser avaliados para ajustes de preço, custo ou foco de venda.\n",
        "\n",
        "Esta análise auxilia na priorização do mix de produtos para otimizar lucros."
      ],
      "metadata": {
        "id": "FCBzjBRQUszv"
      }
    },
    {
      "cell_type": "markdown",
      "source": [
        "###Analise Pessoal fora do escopo da pergunta"
      ],
      "metadata": {
        "id": "8VlDPLQPeeQy"
      }
    },
    {
      "cell_type": "code",
      "source": [
        "#Identificar os produtos que foram vendidos\n",
        "produtos_vendidos = df_vendas['ID PRODUTO'].unique()\n",
        "\n",
        "#Filtrar o df_produtos para manter apenas os produtos que não foram vendidos\n",
        "df_produtos_nao_vendidos = df_produtos[~df_produtos['ID PRODUTO'].isin(produtos_vendidos)]\n",
        "\n",
        "# 3. Juntar df_produtos_nao_vendidos com df_estoque para visualizar os produtos que não foram vendidos\n",
        "df_estoque_nao_vendido = pd.merge(\n",
        "    df_produtos_nao_vendidos,\n",
        "    df_estoque[['ID ESTOQUE', 'QTD ESTOQUE', 'VALOR ESTOQUE']],  # Incluindo o valor de estoque\n",
        "    on='ID ESTOQUE',\n",
        "    how='left'\n",
        ")\n",
        "\n",
        "#Exibir os resultados dos produtos que não venderam nenhuma unidade\n",
        "print(\"\\n--- Produtos Não Vendidos com Valor de Estoque ---\")\n",
        "print(df_estoque_nao_vendido[['ID PRODUTO', 'NOME PRODUTO', 'QTD ESTOQUE', 'VALOR ESTOQUE']])"
      ],
      "metadata": {
        "colab": {
          "base_uri": "https://localhost:8080/"
        },
        "id": "N9fhkDO5XRl4",
        "outputId": "dc5f38e5-fa51-4ca9-84de-17f26bd255f2"
      },
      "execution_count": null,
      "outputs": [
        {
          "output_type": "stream",
          "name": "stdout",
          "text": [
            "\n",
            "--- Produtos Não Vendidos com Valor de Estoque ---\n",
            "   ID PRODUTO               NOME PRODUTO  QTD ESTOQUE  VALOR ESTOQUE\n",
            "0        1007                Mouse Gamer          100        15992.0\n",
            "1        1008  Impressora Multifuncional           50        27960.0\n",
            "2        1010             Webcam Full HD           50         9996.0\n",
            "3        1014          Luminária de Mesa          100         7192.0\n",
            "4        1015          Quadro Decorativo           50         5196.0\n",
            "5        1016          Tapete Retangular           50         7196.0\n",
            "6        1017         Cafeteira Elétrica           50         8796.0\n",
            "7        1018         Ventilador de Mesa           50         5996.0\n",
            "8        1019             Liquidificador           50         3996.0\n",
            "9        1020            Ferro de Passar           50         4796.0\n",
            "10       1021              Furadeira 12V           50        11596.0\n",
            "11       1022             Jogo de Chaves           50         3196.0\n",
            "12       1024                Kit Pincéis           50         2396.0\n",
            "13       1025      Mochila para Notebook           50         6396.0\n",
            "14       1026       Suporte para Monitor           50         3596.0\n",
            "15       1027       Organizador de Cabos           50         1596.0\n",
            "16       1028        Carregador Portátil           50         4796.0\n",
            "17       1029     Fone de Ouvido com Fio           50         3196.0\n",
            "18       1030            Adaptador USB-C           50         1996.0\n",
            "19       1031  Livro: Gestão de Projetos           50         3596.0\n",
            "20       1032   Livro: Marketing Digital           50         2796.0\n",
            "21       1034       Caneta Esferográfica           50          116.0\n",
            "22       1035      Caderno Universitário           50          996.0\n",
            "23       1037     Calculadora Financeira           50         5196.0\n",
            "24       1038          Roteador Wi-Fi 5G           50        13996.0\n",
            "25       1040                 Smartwatch           50        35996.0\n"
          ]
        }
      ]
    },
    {
      "cell_type": "code",
      "source": [
        "#Calcular a soma total do valor de estoque\n",
        "total_valor_estoque = df_estoque_nao_vendido['VALOR ESTOQUE'].sum()\n",
        "\n",
        "#Exibir o total de valor de estoque (estoque parado)\n",
        "print(\"\\n--- Total de Valor de Estoque (Estoque Parado) ---\")\n",
        "print(f\"Total valor de estoque parado: R${total_valor_estoque:.2f}\")\n",
        "\n"
      ],
      "metadata": {
        "colab": {
          "base_uri": "https://localhost:8080/"
        },
        "id": "D_J0wwnuay9r",
        "outputId": "88e54030-2c0c-4ae8-b2e3-2ec9272a61ac"
      },
      "execution_count": null,
      "outputs": [
        {
          "output_type": "stream",
          "name": "stdout",
          "text": [
            "\n",
            "--- Total de Valor de Estoque (Estoque Parado) ---\n",
            "Total valor de estoque parado: R$198572.00\n"
          ]
        }
      ]
    },
    {
      "cell_type": "markdown",
      "source": [
        "Com base nos dados, temos R$ 198.572,00 de estoque parado (produtos não vendidos). Para otimizar esse valor, algumas ações podem ser tomadas:\n",
        "\n",
        "1.Promoções e Descontos: Ofereça promoções para acelerar a venda desses produtos.\n",
        "\n",
        "2.Combos de Produtos: Agrupe esses itens com outros produtos populares para aumentar as vendas.\n",
        "\n",
        "3.Análise de Baixo Desempenho: Avalie se os produtos estão desatualizados ou se não têm demanda e considere descontinuá-los.\n",
        "\n",
        "4.Marketing Direcionado: Realize campanhas específicas para promover esses produtos, ajustando preços ou destacando suas qualidades.\n",
        "\n",
        "5.Gestão de Estoque: Reavalie o sistema de controle de estoque para evitar sobrecarga de produtos de baixa venda no futuro.\n",
        "\n",
        "Essas ações podem ajudar a liberar espaço, reduzir o estoque parado e aumentar as vendas, otimizando a rentabilidade da empresa."
      ],
      "metadata": {
        "id": "CZiZK2Tgb7ot"
      }
    },
    {
      "cell_type": "markdown",
      "source": [
        "#3. Calcule um ranking de clientes por quantidade de produtos comprados por mês. Utilize as tabelas CADASTRO_CLIENTES e TRANSACOES_VENDAS."
      ],
      "metadata": {
        "id": "cRfeOWSNHsGW"
      }
    },
    {
      "cell_type": "code",
      "source": [
        "# Criar coluna 'ANO_MES' para agrupar por mês\n",
        "df_vendas['ANO_MES'] = df_vendas['DATA NOTA'].dt.to_period('M')\n",
        "\n",
        "print(\"\\n--- Vendas ---\")\n",
        "print(df_vendas.head())\n",
        "print(df_vendas.info())"
      ],
      "metadata": {
        "colab": {
          "base_uri": "https://localhost:8080/"
        },
        "id": "JtOeyjjeHrqS",
        "outputId": "02fb554a-710e-4fe1-ed18-6e894dcc0fb6"
      },
      "execution_count": null,
      "outputs": [
        {
          "output_type": "stream",
          "name": "stdout",
          "text": [
            "\n",
            "--- Vendas ---\n",
            "  ID NOTA  DATA NOTA  VALOR NOTA  VALOR ITEM  QTD ITEM ID PRODUTO ID CLIENTE  \\\n",
            "1    3001 2023-03-05      4299.9      4299.9         1       1001       2015   \n",
            "2    3002 2023-03-12      5798.9      3899.0         1       1002       2003   \n",
            "3    3002 2023-03-12      5798.9      1899.0         1       1013       2003   \n",
            "4    3003 2023-03-18      1028.8       129.9         1       1006       2028   \n",
            "5    3003 2023-03-18      1028.8       899.5         1       1003       2028   \n",
            "\n",
            "   ANO_MES  \n",
            "1  2023-03  \n",
            "2  2023-03  \n",
            "3  2023-03  \n",
            "4  2023-03  \n",
            "5  2023-03  \n",
            "<class 'pandas.core.frame.DataFrame'>\n",
            "Index: 236 entries, 1 to 236\n",
            "Data columns (total 8 columns):\n",
            " #   Column      Non-Null Count  Dtype         \n",
            "---  ------      --------------  -----         \n",
            " 0   ID NOTA     236 non-null    object        \n",
            " 1   DATA NOTA   236 non-null    datetime64[ns]\n",
            " 2   VALOR NOTA  236 non-null    float64       \n",
            " 3   VALOR ITEM  236 non-null    float64       \n",
            " 4   QTD ITEM    236 non-null    int64         \n",
            " 5   ID PRODUTO  236 non-null    object        \n",
            " 6   ID CLIENTE  236 non-null    object        \n",
            " 7   ANO_MES     236 non-null    period[M]     \n",
            "dtypes: datetime64[ns](1), float64(2), int64(1), object(3), period[M](1)\n",
            "memory usage: 16.6+ KB\n",
            "None\n"
          ]
        }
      ]
    },
    {
      "cell_type": "code",
      "source": [
        "# Agrupar por cliente e mês somando a quantidade de itens comprados\n",
        "ranking = (\n",
        "    df_vendas.groupby(['ID CLIENTE', 'ANO_MES'])['QTD ITEM']\n",
        "    .sum()\n",
        "    .reset_index()\n",
        ")\n",
        "\n",
        "# Juntar o nome do cliente para facilitar a visualização\n",
        "ranking = pd.merge(ranking, df_clientes[['ID CLIENTE', 'NOME CLIENTE']], on='ID CLIENTE', how='left')\n",
        "\n",
        "# Ordenar por mês e quantidade descrescente para ranking\n",
        "ranking = ranking.sort_values(by=['ANO_MES', 'QTD ITEM'], ascending=[True, False])\n",
        "\n",
        "# Exibir as primeiras linhas para verificar\n",
        "print(\"\\n--- Ranking de Clientes por Mês TOP 10 ---\")\n",
        "print(ranking.head(10))\n",
        "print(\"\\n--- Ranking de Clientes por Mês BOTOM 10 ---\")\n",
        "print(ranking.tail(10))"
      ],
      "metadata": {
        "colab": {
          "base_uri": "https://localhost:8080/"
        },
        "id": "8yOCKF3_JFnj",
        "outputId": "31d1e74c-4b8f-454c-fc84-8831a75d6ff2"
      },
      "execution_count": null,
      "outputs": [
        {
          "output_type": "stream",
          "name": "stdout",
          "text": [
            "\n",
            "--- Ranking de Clientes por Mês TOP 10 ---\n",
            "    ID CLIENTE  ANO_MES  QTD ITEM             NOME CLIENTE\n",
            "22        2007  2023-03         3  Ricardo Fernandes Gomes\n",
            "7         2003  2023-03         2   Carlos Eduardo Pereira\n",
            "38        2011  2023-03         2       Lucas Gabriel Dias\n",
            "105       2028  2023-03         2       Laura Mendes Sousa\n",
            "51        2015  2023-03         1  Gustavo Henrique Barros\n",
            "114       2030  2023-03         1    Claudia Regina Moraes\n",
            "14        2005  2023-04         3     Pedro Henrique Souza\n",
            "58        2017  2023-04         3   Rafael Carvalho Santos\n",
            "68        2019  2023-04         2     Bruno Costa Teixeira\n",
            "137       2036  2023-04         2     Viviane Castro Neves\n",
            "\n",
            "--- Ranking de Clientes por Mês BOTOM 10 ---\n",
            "    ID CLIENTE  ANO_MES  QTD ITEM               NOME CLIENTE\n",
            "84        2022  2024-07         2      Daniela Soares Campos\n",
            "119       2030  2024-07         2      Claudia Regina Moraes\n",
            "104       2027  2024-07         1        Felipe Augusto Dias\n",
            "41        2011  2024-08         3         Lucas Gabriel Dias\n",
            "67        2018  2024-08         3        Larissa Moura Brito\n",
            "113       2029  2024-08         3            André Luiz Rios\n",
            "26        2007  2024-08         2    Ricardo Fernandes Gomes\n",
            "130       2033  2024-08         2  Rodrigo Pires Albuquerque\n",
            "92        2024  2024-08         1       Beatriz Cunha Xavier\n",
            "141       2036  2024-08         1       Viviane Castro Neves\n"
          ]
        }
      ]
    },
    {
      "cell_type": "code",
      "source": [
        "# Ordenar por quantidade de itens (QTD ITEM)\n",
        "ranking_valor_cliente = ranking_valor_cliente.sort_values(by='QTD ITEM', ascending=False)\n",
        "\n",
        "# Exibir o ranking de clientes por quantidade de itens\n",
        "print(\"\\n--- Ranking de Clientes por Quantidade de Itens (Ordenado) ---\")\n",
        "print(ranking_valor_cliente.head(10))\n",
        "\n",
        "print(ranking_valor_cliente.tail(10))"
      ],
      "metadata": {
        "colab": {
          "base_uri": "https://localhost:8080/"
        },
        "id": "Y-LEYv6-fhI-",
        "outputId": "d1a3b720-fb7d-4522-88f0-2f4406b0093a"
      },
      "execution_count": null,
      "outputs": [
        {
          "output_type": "stream",
          "name": "stdout",
          "text": [
            "\n",
            "--- Ranking de Clientes por Quantidade de Itens (Ordenado) ---\n",
            "    ID CLIENTE  ANO_MES  QTD ITEM  VALOR_TOTAL               NOME CLIENTE\n",
            "22        2007  2023-03         3       1049.7    Ricardo Fernandes Gomes\n",
            "14        2005  2023-04         3       1769.3       Pedro Henrique Souza\n",
            "45        2013  2023-06         3       2698.5   Roberto Andrade Pinheiro\n",
            "1         2001  2023-05         3       1769.3         João Silva Almeida\n",
            "48        2014  2023-05         3       1049.7  Camila Duarte Vasconcelos\n",
            "58        2017  2023-04         3       2698.5     Rafael Carvalho Santos\n",
            "2         2001  2023-11         3       2698.5         João Silva Almeida\n",
            "106       2028  2023-09         3       1049.7         Laura Mendes Sousa\n",
            "39        2011  2023-10         3       2698.5         Lucas Gabriel Dias\n",
            "102       2027  2023-10         3       1769.3        Felipe Augusto Dias\n",
            "    ID CLIENTE  ANO_MES  QTD ITEM  VALOR_TOTAL              NOME CLIENTE\n",
            "79        2021  2024-02         1       1199.9        Diego Pereira Lima\n",
            "9         2003  2024-02         1        899.0    Carlos Eduardo Pereira\n",
            "10        2003  2024-06         1        899.0    Carlos Eduardo Pereira\n",
            "133       2034  2024-06         1       1199.9      Mariana Torres Lemos\n",
            "96        2025  2024-06         1       1199.9  Leonardo Martins Barbosa\n",
            "25        2007  2024-05         1        899.0   Ricardo Fernandes Gomes\n",
            "147       2038  2024-05         1       1199.9       Silvia Helena Prado\n",
            "104       2027  2024-07         1       1199.9       Felipe Augusto Dias\n",
            "141       2036  2024-08         1       1199.9      Viviane Castro Neves\n",
            "92        2024  2024-08         1        899.0      Beatriz Cunha Xavier\n"
          ]
        }
      ]
    },
    {
      "cell_type": "markdown",
      "source": [
        "Ranking de Clientes por Quantidade de Itens Comprados\n",
        "TOP 10:\n",
        "Os clientes que compram mais itens por mês mostram um alto engajamento com a marca. Esses clientes são ideais para ações de fidelização, promoções especiais e programas de recompensa, visando manter ou aumentar o volume de compras.\n",
        "\n",
        "Pergunta Possível:\n",
        "\"Quais clientes são os mais ativos em termos de compras mensais e como podemos otimizar nossas estratégias de marketing para aumentar a frequência de compras dos clientes que compram menos frequentemente?\"\n",
        "\n",
        "Justificativa para a Pergunta:\n",
        "Clientes Ativos: Aqueles que compram frequentemente representam uma oportunidade para ações de fidelização, promoções exclusivas e aumentar ainda mais seu engajamento.\n",
        "\n",
        "Clientes Inativos: Aqueles que compram menos frequentemente podem ser incentivados a aumentar o volume de compras por meio de campanhas específicas ou descontos personalizados.\n",
        "\n",
        "BOTTOM 10:\n",
        "Clientes que compram apenas 1 item por mês representam uma oportunidade para estratégias de marketing que visam aumentar o volume de compras, como campanhas específicas e promoções direcionadas.\n",
        "\n",
        "Observação Importante:\n",
        "A análise considera a quantidade de itens comprados como um indicador chave de engajamento. Embora o valor total gasto também seja relevante, o número de produtos adquiridos é útil para entender os comportamentos de compra e otimizar as estratégias de marketing."
      ],
      "metadata": {
        "id": "HeXHfTwSgIop"
      }
    },
    {
      "cell_type": "markdown",
      "source": [
        "### Analise Pessoal fora do escopo da pergunta"
      ],
      "metadata": {
        "id": "G7cpf3RYe02Y"
      }
    },
    {
      "cell_type": "code",
      "source": [
        "# Calcular o valor total gasto por cada venda\n",
        "df_vendas['VALOR_TOTAL'] = df_vendas['QTD ITEM'] * df_vendas['VALOR ITEM']\n",
        "\n",
        "# Agrupar por cliente e mês somando a quantidade de itens e o valor total gasto\n",
        "ranking_valor_cliente = (\n",
        "    df_vendas.groupby(['ID CLIENTE', 'ANO_MES'])[['QTD ITEM', 'VALOR_TOTAL']]\n",
        "    .sum()\n",
        "    .reset_index()\n",
        ")\n",
        "\n",
        "# Juntar o nome do cliente para facilitar a visualização\n",
        "ranking_valor_cliente = pd.merge(ranking_valor_cliente, df_clientes[['ID CLIENTE', 'NOME CLIENTE']], on='ID CLIENTE', how='left')\n",
        "\n",
        "# Ordenar por mês e quantidade descrescente para ranking de quantidade de itens\n",
        "ranking_valor_cliente = ranking_valor_cliente.sort_values(by=['ANO_MES', 'QTD ITEM'], ascending=[True, False])\n",
        "\n",
        "# Exibir os primeiros 10 clientes por quantidade de itens comprados\n",
        "print(\"\\n--- Ranking de Clientes por Mês TOP 10 ---\")\n",
        "print(ranking_valor_cliente.head(10))\n",
        "\n",
        "# Ordenar por mês e valor total gasto\n",
        "ranking_valor_cliente = ranking_valor_cliente.sort_values(by=['ANO_MES', 'VALOR_TOTAL'], ascending=[True, False])\n",
        "\n",
        "# Exibir os primeiros 10 clientes por valor total gasto\n",
        "print(\"\\n--- Ranking de Clientes por Mês TOP 10 por Valor Gasto ---\")\n",
        "print(ranking_valor_cliente.head(10))\n"
      ],
      "metadata": {
        "colab": {
          "base_uri": "https://localhost:8080/"
        },
        "id": "iwANvqppc2iM",
        "outputId": "10136425-c367-4cd6-b716-73adb711d178"
      },
      "execution_count": null,
      "outputs": [
        {
          "output_type": "stream",
          "name": "stdout",
          "text": [
            "\n",
            "--- Ranking de Clientes por Mês TOP 10 ---\n",
            "    ID CLIENTE  ANO_MES  QTD ITEM  VALOR_TOTAL             NOME CLIENTE\n",
            "22        2007  2023-03         3       1049.7  Ricardo Fernandes Gomes\n",
            "7         2003  2023-03         2       5798.0   Carlos Eduardo Pereira\n",
            "38        2011  2023-03         2       2598.0       Lucas Gabriel Dias\n",
            "105       2028  2023-03         2       1029.4       Laura Mendes Sousa\n",
            "51        2015  2023-03         1       4299.9  Gustavo Henrique Barros\n",
            "114       2030  2023-03         1        849.9    Claudia Regina Moraes\n",
            "14        2005  2023-04         3       1769.3     Pedro Henrique Souza\n",
            "58        2017  2023-04         3       2698.5   Rafael Carvalho Santos\n",
            "68        2019  2023-04         2       2598.0     Bruno Costa Teixeira\n",
            "137       2036  2023-04         2       1129.8     Viviane Castro Neves\n",
            "\n",
            "--- Ranking de Clientes por Mês TOP 10 por Valor Gasto ---\n",
            "    ID CLIENTE  ANO_MES  QTD ITEM  VALOR_TOTAL              NOME CLIENTE\n",
            "7         2003  2023-03         2       5798.0    Carlos Eduardo Pereira\n",
            "51        2015  2023-03         1       4299.9   Gustavo Henrique Barros\n",
            "38        2011  2023-03         2       2598.0        Lucas Gabriel Dias\n",
            "22        2007  2023-03         3       1049.7   Ricardo Fernandes Gomes\n",
            "105       2028  2023-03         2       1029.4        Laura Mendes Sousa\n",
            "114       2030  2023-03         1        849.9     Claudia Regina Moraes\n",
            "81        2022  2023-04         1       4299.9     Daniela Soares Campos\n",
            "93        2025  2023-04         1       3899.0  Leonardo Martins Barbosa\n",
            "58        2017  2023-04         3       2698.5    Rafael Carvalho Santos\n",
            "68        2019  2023-04         2       2598.0      Bruno Costa Teixeira\n"
          ]
        }
      ]
    },
    {
      "cell_type": "markdown",
      "source": [
        "Ranking de Clientes por Quantidade de Itens Comprados (TOP 10):\n",
        "Os clientes que compram mais itens por mês são fundamentais para estratégias de fidelização. Eles demonstram um alto engajamento com a marca e podem ser alvos ideais para campanhas de recompensas e ofertas exclusivas.\n",
        "\n",
        "Ranking de Clientes por Valor Gasto (TOP 10):\n",
        "Clientes que gastam mais, independentemente da quantidade de itens, também representam um alto valor para a empresa. Focar nesses clientes com ofertas personalizadas e programas de fidelização pode aumentar ainda mais o volume de compras e a satisfação do cliente.\n",
        "\n",
        "Pergunta Possível:\n",
        "\"Como podemos otimizar nossas estratégias de marketing para aumentar a frequência de compras dos clientes com menor volume de compras, mantendo os que já compram regularmente engajados?\"\n",
        "\n",
        "Justificativa para a Pergunta:\n",
        "Clientes Ativos (mais itens ou mais gastos): Clientes que compram mais frequentemente ou gastam mais representam uma base fiel. Eles podem ser mantidos engajados através de promoções e ofertas direcionadas.\n",
        "\n",
        "Clientes Menos Ativos (menos itens ou menos gastos): Aumentar a frequência de compras desses clientes pode ser alcançado com campanhas segmentadas, descontos ou produtos exclusivos. Isso pode ser feito por meio de incentivo ao aumento no volume de compras mensais.\n",
        "\n",
        "Conclusão:\n",
        "A análise das quantidades compradas e o valor gasto oferece uma visão clara dos clientes mais engajados. Estratégias direcionadas podem ser adotadas para maximizar o potencial de compra tanto dos clientes que compram mais quanto daqueles que compram menos."
      ],
      "metadata": {
        "id": "roPxcsGEhLD0"
      }
    },
    {
      "cell_type": "markdown",
      "source": [
        "#4. Calcule um ranking de fornecedores por quantidade de estoque disponivel por mês. Utilize as tabelas CADASTRO_FORNECEDORES e CADASTRO_ESTOQUE."
      ],
      "metadata": {
        "id": "zIRsbtvlKWXs"
      }
    },
    {
      "cell_type": "code",
      "source": [
        "# Criar coluna 'ANO_MES' para agrupar por mês\n",
        "df_estoque['ANO_MES'] = df_estoque['DATA ESTOQUE'].dt.to_period('M')\n",
        "\n",
        "print(\"\\n--- Estoque ---\")\n",
        "print(df_estoque.head())\n",
        "print(df_estoque.info())\n"
      ],
      "metadata": {
        "colab": {
          "base_uri": "https://localhost:8080/"
        },
        "id": "9ybTFL64KalW",
        "outputId": "ab26ab2a-59a4-42e6-e495-2af32431739d"
      },
      "execution_count": null,
      "outputs": [
        {
          "output_type": "stream",
          "name": "stdout",
          "text": [
            "\n",
            "--- Estoque ---\n",
            "  ID ESTOQUE  VALOR ESTOQUE  QTD ESTOQUE DATA ESTOQUE ID FORNECEDOR  \\\n",
            "1       5001       171996.0           50   2023-03-01          F100   \n",
            "2       5002       124768.0           40   2023-02-15          F105   \n",
            "3       5003        35980.0           50   2023-01-10          F110   \n",
            "4       5004        51960.0           50   2023-04-05          F115   \n",
            "5       5005        33996.0           50   2023-03-20          F120   \n",
            "\n",
            "   CUSTO_UNIT  ANO_MES  \n",
            "1     3439.92  2023-03  \n",
            "2     3119.20  2023-02  \n",
            "3      719.60  2023-01  \n",
            "4     1039.20  2023-04  \n",
            "5      679.92  2023-03  \n",
            "<class 'pandas.core.frame.DataFrame'>\n",
            "Index: 40 entries, 1 to 40\n",
            "Data columns (total 7 columns):\n",
            " #   Column         Non-Null Count  Dtype         \n",
            "---  ------         --------------  -----         \n",
            " 0   ID ESTOQUE     40 non-null     object        \n",
            " 1   VALOR ESTOQUE  40 non-null     float64       \n",
            " 2   QTD ESTOQUE    40 non-null     int64         \n",
            " 3   DATA ESTOQUE   40 non-null     datetime64[ns]\n",
            " 4   ID FORNECEDOR  40 non-null     object        \n",
            " 5   CUSTO_UNIT     40 non-null     float64       \n",
            " 6   ANO_MES        40 non-null     period[M]     \n",
            "dtypes: datetime64[ns](1), float64(2), int64(1), object(2), period[M](1)\n",
            "memory usage: 2.5+ KB\n",
            "None\n"
          ]
        }
      ]
    },
    {
      "cell_type": "code",
      "source": [
        "# Agrupar por fornecedor e mês, somando a quantidade em estoque\n",
        "ranking_fornecedores = (\n",
        "    df_estoque.groupby(['ID FORNECEDOR', 'ANO_MES'])['QTD ESTOQUE']\n",
        "    .sum()\n",
        "    .reset_index()\n",
        ")\n",
        "\n",
        "# Juntar o nome do fornecedor\n",
        "ranking_fornecedores = pd.merge(\n",
        "    ranking_fornecedores,\n",
        "    df_fornecedores[['ID FORNECEDOR', 'NOME FORNECEDOR']],\n",
        "    on='ID FORNECEDOR',\n",
        "    how='left'\n",
        ")\n",
        "\n",
        "# Ordenar por mês e quantidade em estoque decrescente\n",
        "ranking_fornecedores = ranking_fornecedores.sort_values(['ANO_MES', 'QTD ESTOQUE'], ascending=[True, False])\n",
        "\n",
        "# Mostrar as primeiras linhas para ver o resultado\n",
        "print(\"\\n--- Ranking de Fornecedores por Mês  TOP 10---\")\n",
        "print(ranking_fornecedores.head(10))\n",
        "\n",
        "print(\"\\n--- Ranking de Fornecedores por Mês  BOTTOM 10---\")\n",
        "print(ranking_fornecedores.tail(10))"
      ],
      "metadata": {
        "colab": {
          "base_uri": "https://localhost:8080/"
        },
        "id": "0ZP6yCMPLKvl",
        "outputId": "0bf8aad1-f434-497e-b005-4375ae3b27ce"
      },
      "execution_count": null,
      "outputs": [
        {
          "output_type": "stream",
          "name": "stdout",
          "text": [
            "\n",
            "--- Ranking de Fornecedores por Mês  TOP 10---\n",
            "   ID FORNECEDOR  ANO_MES  QTD ESTOQUE            NOME FORNECEDOR\n",
            "18          F125  2022-11           50   Ferramentas Gerais & Cia\n",
            "0           F100  2022-12           50  Eletrônicos Nacional Ltda\n",
            "21          F130  2022-12           50    Acessórios Digital Ltda\n",
            "6           F110  2023-01           50   Móveis Premium Indústria\n",
            "10          F115  2023-01           50        DecoraHome Comércio\n",
            "14          F120  2023-01           50    EletroDom Distribuidora\n",
            "7           F110  2023-02           50   Móveis Premium Indústria\n",
            "11          F115  2023-02           50        DecoraHome Comércio\n",
            "25          F135  2023-02           50    Livros Técnicos Editora\n",
            "3           F105  2023-02           40           TecnoImport S.A.\n",
            "\n",
            "--- Ranking de Fornecedores por Mês  BOTTOM 10---\n",
            "   ID FORNECEDOR  ANO_MES  QTD ESTOQUE           NOME FORNECEDOR\n",
            "20          F125  2023-07           50  Ferramentas Gerais & Cia\n",
            "36          F150  2023-07           50      Fornecedor Universal\n",
            "9           F110  2023-08           50  Móveis Premium Indústria\n",
            "28          F135  2023-08           50   Livros Técnicos Editora\n",
            "34          F145  2023-08           50   Atacado dos Eletrônicos\n",
            "5           F105  2023-09           50          TecnoImport S.A.\n",
            "24          F130  2023-09           50   Acessórios Digital Ltda\n",
            "13          F115  2023-10           50       DecoraHome Comércio\n",
            "31          F140  2023-10           50    Gadgets Internacionais\n",
            "37          F150  2023-11           50      Fornecedor Universal\n"
          ]
        }
      ]
    },
    {
      "cell_type": "markdown",
      "source": [
        "Ranking de Fornecedores por Mês (TOP 10):\n",
        "O ranking mostra quais fornecedores tiveram maior quantidade de estoque disponível a cada mês. Por exemplo, no mês de dezembro de 2022, fornecedores como \"Eletrônicos Nacional Ltda\" e \"Acessórios Digital Ltda\" destacaram-se com 50 unidades em estoque.\n",
        "\n",
        "Ranking de Fornecedores por Mês (BOTTOM 10):\n",
        "No lado oposto, alguns fornecedores apresentaram estoque mais baixo em meses posteriores, como em julho de 2023, onde fornecedores como \"Fornecedor Universal\" e \"Móveis Premium Indústria\" estavam com 50 unidades, mas em meses com menos movimentação.\n",
        "\n",
        "Análise:\n",
        "Esse ranking pode ser útil para entender a distribuição de estoque por fornecedor ao longo do tempo e identificar possíveis sazonalidades ou variações no fornecimento. Fornecedores com maiores quantidades de estoque podem ser alvo de otimizações na cadeia de suprimentos para evitar excessos ou falta de produtos, enquanto aqueles com estoques baixos podem precisar de ajustes no planejamento.\n",
        "\n",
        "Pergunta Possível:\n",
        "\"Como podemos otimizar nosso relacionamento com os fornecedores que frequentemente apresentam altos ou baixos níveis de estoque ao longo do tempo?\"\n",
        "\n",
        "Justificativa:\n",
        "Fornecedores com alto estoque: Estratégias de compras em maior volume podem ser vantajosas para esses fornecedores, permitindo melhores condições comerciais e previsibilidade no abastecimento.\n",
        "\n",
        "Fornecedores com baixo estoque: Deve-se avaliar se há uma oportunidade de renegociar os tempos de entrega ou melhorar o controle de demanda para evitar rupturas de estoque."
      ],
      "metadata": {
        "id": "ekId_8wqhm1c"
      }
    },
    {
      "cell_type": "markdown",
      "source": [
        "#5. Calcule um ranking de produtos por quantidade de venda por mês. Utilize a tabela TRANSACOES_VENDAS."
      ],
      "metadata": {
        "id": "8sIwNiyLLkaR"
      }
    },
    {
      "cell_type": "code",
      "source": [
        "# Coluna 'ANO_MES' para agrupar por mês ja existia\n",
        "\n",
        "print(\"\\n--- Vendas ---\")\n",
        "print(df_vendas.head())\n",
        "print(df_vendas.info())"
      ],
      "metadata": {
        "colab": {
          "base_uri": "https://localhost:8080/"
        },
        "id": "WZa-bf_vLrDd",
        "outputId": "f08b2d60-6a8f-4de4-f9b6-4ee0b628554b"
      },
      "execution_count": null,
      "outputs": [
        {
          "output_type": "stream",
          "name": "stdout",
          "text": [
            "\n",
            "--- Vendas ---\n",
            "  ID NOTA  DATA NOTA  VALOR NOTA  VALOR ITEM  QTD ITEM ID PRODUTO ID CLIENTE  \\\n",
            "1    3001 2023-03-05      4299.9      4299.9         1       1001       2015   \n",
            "2    3002 2023-03-12      5798.9      3899.0         1       1002       2003   \n",
            "3    3002 2023-03-12      5798.9      1899.0         1       1013       2003   \n",
            "4    3003 2023-03-18      1028.8       129.9         1       1006       2028   \n",
            "5    3003 2023-03-18      1028.8       899.5         1       1003       2028   \n",
            "\n",
            "   ANO_MES  VALOR_TOTAL  \n",
            "1  2023-03       4299.9  \n",
            "2  2023-03       3899.0  \n",
            "3  2023-03       1899.0  \n",
            "4  2023-03        129.9  \n",
            "5  2023-03        899.5  \n",
            "<class 'pandas.core.frame.DataFrame'>\n",
            "Index: 236 entries, 1 to 236\n",
            "Data columns (total 9 columns):\n",
            " #   Column       Non-Null Count  Dtype         \n",
            "---  ------       --------------  -----         \n",
            " 0   ID NOTA      236 non-null    object        \n",
            " 1   DATA NOTA    236 non-null    datetime64[ns]\n",
            " 2   VALOR NOTA   236 non-null    float64       \n",
            " 3   VALOR ITEM   236 non-null    float64       \n",
            " 4   QTD ITEM     236 non-null    int64         \n",
            " 5   ID PRODUTO   236 non-null    object        \n",
            " 6   ID CLIENTE   236 non-null    object        \n",
            " 7   ANO_MES      236 non-null    period[M]     \n",
            " 8   VALOR_TOTAL  236 non-null    float64       \n",
            "dtypes: datetime64[ns](1), float64(3), int64(1), object(3), period[M](1)\n",
            "memory usage: 18.4+ KB\n",
            "None\n"
          ]
        }
      ]
    },
    {
      "cell_type": "code",
      "source": [
        "# Agrupar por produto e mês somando a quantidade vendida\n",
        "ranking_produtos = (\n",
        "    df_vendas.groupby(['ID PRODUTO', 'ANO_MES'])['QTD ITEM']\n",
        "    .sum()\n",
        "    .reset_index()\n",
        ")\n",
        "\n",
        "# Se quiser, juntar nome do produto para facilitar a visualização (assumindo df_produtos carregado)\n",
        "ranking_produtos = pd.merge(\n",
        "    ranking_produtos,\n",
        "    df_produtos[['ID PRODUTO', 'NOME PRODUTO']],\n",
        "    on='ID PRODUTO',\n",
        "    how='left'\n",
        ")\n",
        "\n",
        "# Ordenar por mês e quantidade vendida decrescente\n",
        "ranking_produtos = ranking_produtos.sort_values(by=['ANO_MES', 'QTD ITEM'], ascending=[True, False])\n",
        "\n",
        "# Mostrar as primeiras linhas\n",
        "print(\"\\n--- Ranking de Produtos por Mês TOP 10 ---\")\n",
        "print(ranking_produtos.head(10))\n",
        "\n",
        "print(\"\\n--- Ranking de Produtos por Mês BOTTOM 10 ---\")\n",
        "print(ranking_produtos.tail(10))"
      ],
      "metadata": {
        "colab": {
          "base_uri": "https://localhost:8080/"
        },
        "id": "2B-nkgrIMlQB",
        "outputId": "48a1e8ea-8a65-4581-de00-cb4355524930"
      },
      "execution_count": null,
      "outputs": [
        {
          "output_type": "stream",
          "name": "stdout",
          "text": [
            "\n",
            "--- Ranking de Produtos por Mês TOP 10 ---\n",
            "    ID PRODUTO  ANO_MES  QTD ITEM           NOME PRODUTO\n",
            "73        1009  2023-03         3         HD Externo 1TB\n",
            "23        1004  2023-03         2     Cadeira Ergonômica\n",
            "0         1001  2023-03         1     Notebook EliteBook\n",
            "2         1002  2023-03         1  Smartphone Galaxy S23\n",
            "5         1003  2023-03         1     Mesa de Escritório\n",
            "41        1005  2023-03         1    Monitor 24\" Full HD\n",
            "59        1006  2023-03         1        Teclado Sem Fio\n",
            "102       1013  2023-03         1         Armário de Aço\n",
            "6         1003  2023-04         4     Mesa de Escritório\n",
            "24        1004  2023-04         2     Cadeira Ergonômica\n",
            "\n",
            "--- Ranking de Produtos por Mês BOTTOM 10 ---\n",
            "    ID PRODUTO  ANO_MES  QTD ITEM                   NOME PRODUTO\n",
            "22        1003  2024-08         4             Mesa de Escritório\n",
            "89        1009  2024-08         3                 HD Externo 1TB\n",
            "40        1004  2024-08         1             Cadeira Ergonômica\n",
            "58        1005  2024-08         1            Monitor 24\" Full HD\n",
            "72        1006  2024-08         1                Teclado Sem Fio\n",
            "101       1012  2024-08         1             Estante em Madeira\n",
            "118       1023  2024-08         1                 Serra Elétrica\n",
            "131       1033  2024-08         1  Livro: Python para Iniciantes\n",
            "148       1036  2024-08         1                     Grampeador\n",
            "165       1039  2024-08         1                     Tablet 10\"\n"
          ]
        }
      ]
    },
    {
      "cell_type": "markdown",
      "source": [
        "Ranking de Produtos por Quantidade de Venda por Mês\n",
        "TOP 10 Produtos:\n",
        "O ranking revela os produtos mais vendidos por mês. Em março de 2023, destacaram-se os itens como \"HD Externo 1TB\", \"Cadeira Ergonômica\" e \"Notebook EliteBook\". Isso indica que esses produtos tiveram maior demanda, possivelmente devido a fatores como sazonalidade, promoções ou estratégias de marketing eficazes.\n",
        "\n",
        "BOTTOM 10 Produtos:\n",
        "Por outro lado, produtos como \"Tablet 10\" e \"Grampeador\" aparecem entre os menos vendidos nos meses de agosto de 2024, com apenas uma unidade vendida. Esses produtos podem estar com baixo apelo no mercado ou ser de nicho, o que exige uma análise mais aprofundada sobre a estratégia de venda.\n",
        "\n",
        "Análise:\n",
        "Produtos de alta venda: Produtos com alta rotatividade podem ser prioridades para campanhas de marketing, reabastecimento frequente e até renegociação de preços com fornecedores, visando aumentar a lucratividade.\n",
        "\n",
        "Produtos de baixa venda: Já os produtos de baixa venda podem precisar de reavaliação quanto ao seu posicionamento no mercado, preço ou estratégias promocionais. Ofertas ou campanhas direcionadas a esses itens podem ser uma boa alternativa.\n",
        "\n",
        "Pergunta Possível:\n",
        "\"Como podemos aumentar as vendas de produtos com baixa demanda e aproveitar os de alta rotatividade para melhorar nossa estratégia de vendas e estoque?\"\n",
        "\n",
        "Justificativa:\n",
        "Produtos com maior volume de vendas merecem atenção em termos de estocagem e promoção, enquanto os de baixa venda precisam de estratégias específicas para aumentar a atração, como descontos, bundling, ou campanhas direcionadas a nichos específicos."
      ],
      "metadata": {
        "id": "19GZTqHtiOX8"
      }
    },
    {
      "cell_type": "markdown",
      "source": [
        "#6. Calcule um ranking de produtos por valor de venda por mês. Utilize a tabela TRANSACOES_VENDAS."
      ],
      "metadata": {
        "id": "bEyETwBVNPqb"
      }
    },
    {
      "cell_type": "code",
      "source": [
        "# Calcular valor total por linha (valor unitário * quantidade)\n",
        "df_vendas['VALOR_TOTAL'] = df_vendas['VALOR ITEM'] * df_vendas['QTD ITEM']\n",
        "\n",
        "print(\"\\n--- Vendas ---\")\n",
        "print(df_vendas.head(20))\n",
        "print(df_vendas.info())"
      ],
      "metadata": {
        "colab": {
          "base_uri": "https://localhost:8080/"
        },
        "id": "GaTID_AqNKfR",
        "outputId": "01862913-f74c-487c-dfe0-7e0ad3081eaf"
      },
      "execution_count": null,
      "outputs": [
        {
          "output_type": "stream",
          "name": "stdout",
          "text": [
            "\n",
            "--- Vendas ---\n",
            "   ID NOTA  DATA NOTA  VALOR NOTA  VALOR ITEM  QTD ITEM ID PRODUTO ID CLIENTE  \\\n",
            "1     3001 2023-03-05      4299.9      4299.9         1       1001       2015   \n",
            "2     3002 2023-03-12      5798.9      3899.0         1       1002       2003   \n",
            "3     3002 2023-03-12      5798.9      1899.0         1       1013       2003   \n",
            "4     3003 2023-03-18      1028.8       129.9         1       1006       2028   \n",
            "5     3003 2023-03-18      1028.8       899.5         1       1003       2028   \n",
            "6     3004 2023-03-22      2398.0      1299.0         2       1004       2011   \n",
            "7     3005 2023-03-25       849.9       849.9         1       1005       2030   \n",
            "8     3006 2023-03-28      1049.7       349.9         3       1009       2007   \n",
            "9     3007 2023-04-02      3899.0      3899.0         1       1002       2025   \n",
            "10    3008 2023-04-07      2598.0      1299.0         2       1004       2019   \n",
            "11    3009 2023-04-10      1199.9      1199.9         1       1039       2033   \n",
            "12    3010 2023-04-15      1768.8       849.9         1       1005       2005   \n",
            "13    3010 2023-04-15      1768.8       899.5         1       1003       2005   \n",
            "14    3010 2023-04-15      1768.8        19.9         1       1036       2005   \n",
            "15    3011 2023-04-18       399.9       399.9         1       1011       2020   \n",
            "16    3012 2023-04-20      2699.0       899.5         3       1003       2017   \n",
            "17    3013 2023-04-25      1129.8       129.9         1       1006       2036   \n",
            "18    3013 2023-04-25      1129.8       999.9         1       1033       2036   \n",
            "19    3014 2023-04-28      4299.9      4299.9         1       1001       2022   \n",
            "20    3015 2023-05-03      1049.4       349.9         3       1009       2014   \n",
            "\n",
            "    ANO_MES  VALOR_TOTAL  \n",
            "1   2023-03       4299.9  \n",
            "2   2023-03       3899.0  \n",
            "3   2023-03       1899.0  \n",
            "4   2023-03        129.9  \n",
            "5   2023-03        899.5  \n",
            "6   2023-03       2598.0  \n",
            "7   2023-03        849.9  \n",
            "8   2023-03       1049.7  \n",
            "9   2023-04       3899.0  \n",
            "10  2023-04       2598.0  \n",
            "11  2023-04       1199.9  \n",
            "12  2023-04        849.9  \n",
            "13  2023-04        899.5  \n",
            "14  2023-04         19.9  \n",
            "15  2023-04        399.9  \n",
            "16  2023-04       2698.5  \n",
            "17  2023-04        129.9  \n",
            "18  2023-04        999.9  \n",
            "19  2023-04       4299.9  \n",
            "20  2023-05       1049.7  \n",
            "<class 'pandas.core.frame.DataFrame'>\n",
            "Index: 236 entries, 1 to 236\n",
            "Data columns (total 9 columns):\n",
            " #   Column       Non-Null Count  Dtype         \n",
            "---  ------       --------------  -----         \n",
            " 0   ID NOTA      236 non-null    object        \n",
            " 1   DATA NOTA    236 non-null    datetime64[ns]\n",
            " 2   VALOR NOTA   236 non-null    float64       \n",
            " 3   VALOR ITEM   236 non-null    float64       \n",
            " 4   QTD ITEM     236 non-null    int64         \n",
            " 5   ID PRODUTO   236 non-null    object        \n",
            " 6   ID CLIENTE   236 non-null    object        \n",
            " 7   ANO_MES      236 non-null    period[M]     \n",
            " 8   VALOR_TOTAL  236 non-null    float64       \n",
            "dtypes: datetime64[ns](1), float64(3), int64(1), object(3), period[M](1)\n",
            "memory usage: 18.4+ KB\n",
            "None\n"
          ]
        }
      ]
    },
    {
      "cell_type": "code",
      "source": [
        "# Agrupar por produto e mês, somando o valor total das vendas\n",
        "ranking_valor_venda = (\n",
        "    df_vendas.groupby(['ID PRODUTO', 'ANO_MES'])['VALOR_TOTAL']\n",
        "    .sum()\n",
        "    .reset_index()\n",
        ")\n",
        "\n",
        "# Juntar nome do produto para facilitar visualização\n",
        "ranking_valor_venda = pd.merge(\n",
        "    ranking_valor_venda,\n",
        "    df_produtos[['ID PRODUTO', 'NOME PRODUTO']],\n",
        "    on='ID PRODUTO',\n",
        "    how='left'\n",
        ")\n",
        "\n",
        "# Ordenar por mês e valor total de venda decrescente\n",
        "ranking_valor_venda = ranking_valor_venda.sort_values(by=['ANO_MES', 'VALOR_TOTAL'], ascending=[True, False])\n",
        "\n",
        "# Exibir as primeiras linhas para verificar\n",
        "print(\"\\n--- Ranking de Produtos por Valor de Venda por Mês TOP 10 ---\")\n",
        "print(ranking_valor_venda.head(10))\n",
        "\n",
        "print(\"\\n--- Ranking de Produtos por Valor de Venda por Mês BOTTOM 10 ---\")\n",
        "print(ranking_valor_venda.tail(10))"
      ],
      "metadata": {
        "colab": {
          "base_uri": "https://localhost:8080/"
        },
        "id": "aLENRLwEOO1v",
        "outputId": "afea4d85-9b26-4a07-e798-ed8fef8f63a5"
      },
      "execution_count": null,
      "outputs": [
        {
          "output_type": "stream",
          "name": "stdout",
          "text": [
            "\n",
            "--- Ranking de Produtos por Valor de Venda por Mês TOP 10 ---\n",
            "    ID PRODUTO  ANO_MES  VALOR_TOTAL           NOME PRODUTO\n",
            "0         1001  2023-03       4299.9     Notebook EliteBook\n",
            "2         1002  2023-03       3899.0  Smartphone Galaxy S23\n",
            "23        1004  2023-03       2598.0     Cadeira Ergonômica\n",
            "102       1013  2023-03       1899.0         Armário de Aço\n",
            "73        1009  2023-03       1049.7         HD Externo 1TB\n",
            "5         1003  2023-03        899.5     Mesa de Escritório\n",
            "41        1005  2023-03        849.9    Monitor 24\" Full HD\n",
            "59        1006  2023-03        129.9        Teclado Sem Fio\n",
            "1         1001  2023-04       4299.9     Notebook EliteBook\n",
            "3         1002  2023-04       3899.0  Smartphone Galaxy S23\n",
            "\n",
            "--- Ranking de Produtos por Valor de Venda por Mês BOTTOM 10 ---\n",
            "    ID PRODUTO  ANO_MES  VALOR_TOTAL                   NOME PRODUTO\n",
            "22        1003  2024-08       3598.0             Mesa de Escritório\n",
            "40        1004  2024-08       1299.0             Cadeira Ergonômica\n",
            "165       1039  2024-08       1199.9                     Tablet 10\"\n",
            "89        1009  2024-08       1049.7                 HD Externo 1TB\n",
            "131       1033  2024-08        999.9  Livro: Python para Iniciantes\n",
            "101       1012  2024-08        899.0             Estante em Madeira\n",
            "58        1005  2024-08        849.9            Monitor 24\" Full HD\n",
            "118       1023  2024-08        639.9                 Serra Elétrica\n",
            "72        1006  2024-08        129.9                Teclado Sem Fio\n",
            "148       1036  2024-08         19.9                     Grampeador\n"
          ]
        }
      ]
    },
    {
      "cell_type": "markdown",
      "source": [
        "TOP 10 Produtos por Valor de Venda:\n",
        "Os produtos que lideram o ranking de vendas por valor são \"Notebook EliteBook\", \"Smartphone Galaxy S23\" e \"Cadeira Ergonômica\", com valores significativos em março de 2023. Esses produtos representam os itens mais lucrativos e, provavelmente, são os mais procurados pelos consumidores. Eles devem receber destaque nas estratégias de marketing, como promoções ou bundling.\n",
        "\n",
        "BOTTOM 10 Produtos por Valor de Venda:\n",
        "Por outro lado, produtos como \"Teclado Sem Fio\", \"Serra Elétrica\" e \"Grampeador\" aparecem entre os produtos com menores valores de venda, especialmente em agosto de 2024. Esses itens podem estar com baixo desempenho devido a diversos fatores, como falta de demanda, preço elevado, ou concorrência acirrada.\n",
        "\n",
        "Análise:\n",
        "Produtos de Alta Venda: Produtos com alto valor de venda como \"Notebook EliteBook\" e \"Smartphone Galaxy S23\" devem ser priorizados para estratégias de fidelização e promoções, pois têm uma alta demanda e geram um grande retorno financeiro.\n",
        "\n",
        "Produtos de Baixa Venda: Produtos de baixo valor de venda, como \"Teclado Sem Fio\" e \"Grampeador\", podem ser analisados para verificar se ajustes no preço, promoção ou marketing podem aumentar a atratividade. Outra alternativa seria revisar a necessidade de manter esses produtos no portfólio.\n",
        "\n",
        "Pergunta Possível:\n",
        "\"Como podemos aumentar o valor total das vendas de produtos de baixo desempenho, e quais ações podemos tomar para destacar ainda mais os produtos que geram maior retorno?\"\n",
        "\n",
        "Justificativa:\n",
        "Produtos de alto valor precisam de campanhas que fortaleçam sua demanda, enquanto os de baixo valor devem ser monitorados de perto para identificar possíveis ajustes que possam melhorar suas vendas, seja por promoção ou readequação de preços."
      ],
      "metadata": {
        "id": "uw4VrRKFi1Nf"
      }
    },
    {
      "cell_type": "markdown",
      "source": [
        "#7. Calcule a média de valor de venda por categoria de produto por mês. Utiliza as tabelas CADASTRO_PRODUTOS e TRANSACOES_VENDAS"
      ],
      "metadata": {
        "id": "414BYxNlZfdu"
      }
    },
    {
      "cell_type": "code",
      "source": [
        "print(\"\\n--- Vendas ---\")\n",
        "print(df_vendas.head())\n",
        "print(df_vendas.info())"
      ],
      "metadata": {
        "colab": {
          "base_uri": "https://localhost:8080/"
        },
        "id": "mQaY2SwBZiXC",
        "outputId": "91d25cd7-318f-4ec9-e290-8a5025f89ad5"
      },
      "execution_count": null,
      "outputs": [
        {
          "output_type": "stream",
          "name": "stdout",
          "text": [
            "\n",
            "--- Vendas ---\n",
            "  ID NOTA  DATA NOTA  VALOR NOTA  VALOR ITEM  QTD ITEM ID PRODUTO ID CLIENTE  \\\n",
            "1    3001 2023-03-05      4299.9      4299.9         1       1001       2015   \n",
            "2    3002 2023-03-12      5798.9      3899.0         1       1002       2003   \n",
            "3    3002 2023-03-12      5798.9      1899.0         1       1013       2003   \n",
            "4    3003 2023-03-18      1028.8       129.9         1       1006       2028   \n",
            "5    3003 2023-03-18      1028.8       899.5         1       1003       2028   \n",
            "\n",
            "   ANO_MES  VALOR_TOTAL  \n",
            "1  2023-03       4299.9  \n",
            "2  2023-03       3899.0  \n",
            "3  2023-03       1899.0  \n",
            "4  2023-03        129.9  \n",
            "5  2023-03        899.5  \n",
            "<class 'pandas.core.frame.DataFrame'>\n",
            "Index: 236 entries, 1 to 236\n",
            "Data columns (total 9 columns):\n",
            " #   Column       Non-Null Count  Dtype         \n",
            "---  ------       --------------  -----         \n",
            " 0   ID NOTA      236 non-null    object        \n",
            " 1   DATA NOTA    236 non-null    datetime64[ns]\n",
            " 2   VALOR NOTA   236 non-null    float64       \n",
            " 3   VALOR ITEM   236 non-null    float64       \n",
            " 4   QTD ITEM     236 non-null    int64         \n",
            " 5   ID PRODUTO   236 non-null    object        \n",
            " 6   ID CLIENTE   236 non-null    object        \n",
            " 7   ANO_MES      236 non-null    period[M]     \n",
            " 8   VALOR_TOTAL  236 non-null    float64       \n",
            "dtypes: datetime64[ns](1), float64(3), int64(1), object(3), period[M](1)\n",
            "memory usage: 18.4+ KB\n",
            "None\n"
          ]
        }
      ]
    },
    {
      "cell_type": "code",
      "source": [
        "# Merge com a categoria do produto\n",
        "df_vendas_categorias = pd.merge(\n",
        "    df_vendas,\n",
        "    df_produtos[['ID PRODUTO', 'CATEGORIA']],\n",
        "    on='ID PRODUTO',\n",
        "    how='left'\n",
        ")\n",
        "\n",
        "print(\"\\n--- Vendas com Categoria ---\")\n",
        "print(df_vendas_categorias.head())\n",
        "print(df_vendas_categorias.info())\n"
      ],
      "metadata": {
        "colab": {
          "base_uri": "https://localhost:8080/"
        },
        "id": "uXi7dSm6Z5fB",
        "outputId": "8389963e-24f8-4cb5-f4b1-c4e3513c57e5"
      },
      "execution_count": null,
      "outputs": [
        {
          "output_type": "stream",
          "name": "stdout",
          "text": [
            "\n",
            "--- Vendas com Categoria ---\n",
            "  ID NOTA  DATA NOTA  VALOR NOTA  VALOR ITEM  QTD ITEM ID PRODUTO ID CLIENTE  \\\n",
            "0    3001 2023-03-05      4299.9      4299.9         1       1001       2015   \n",
            "1    3002 2023-03-12      5798.9      3899.0         1       1002       2003   \n",
            "2    3002 2023-03-12      5798.9      1899.0         1       1013       2003   \n",
            "3    3003 2023-03-18      1028.8       129.9         1       1006       2028   \n",
            "4    3003 2023-03-18      1028.8       899.5         1       1003       2028   \n",
            "\n",
            "   ANO_MES  VALOR_TOTAL    CATEGORIA  \n",
            "0  2023-03       4299.9  Eletrônicos  \n",
            "1  2023-03       3899.0  Eletrônicos  \n",
            "2  2023-03       1899.0       Móveis  \n",
            "3  2023-03        129.9  Eletrônicos  \n",
            "4  2023-03        899.5       Móveis  \n",
            "<class 'pandas.core.frame.DataFrame'>\n",
            "RangeIndex: 236 entries, 0 to 235\n",
            "Data columns (total 10 columns):\n",
            " #   Column       Non-Null Count  Dtype         \n",
            "---  ------       --------------  -----         \n",
            " 0   ID NOTA      236 non-null    object        \n",
            " 1   DATA NOTA    236 non-null    datetime64[ns]\n",
            " 2   VALOR NOTA   236 non-null    float64       \n",
            " 3   VALOR ITEM   236 non-null    float64       \n",
            " 4   QTD ITEM     236 non-null    int64         \n",
            " 5   ID PRODUTO   236 non-null    object        \n",
            " 6   ID CLIENTE   236 non-null    object        \n",
            " 7   ANO_MES      236 non-null    period[M]     \n",
            " 8   VALOR_TOTAL  236 non-null    float64       \n",
            " 9   CATEGORIA    236 non-null    object        \n",
            "dtypes: datetime64[ns](1), float64(3), int64(1), object(4), period[M](1)\n",
            "memory usage: 18.6+ KB\n",
            "None\n"
          ]
        }
      ]
    },
    {
      "cell_type": "code",
      "source": [
        "# Agrupar por categoria e mês, calcular média do valor total vendido\n",
        "media_valor_categoria_mes = df_vendas_categorias.groupby(['CATEGORIA', 'ANO_MES'])['VALOR_TOTAL'].mean().reset_index()\n",
        "\n",
        "# Ordenar para melhor visualização\n",
        "media_valor_categoria_mes = media_valor_categoria_mes.sort_values(['ANO_MES', 'CATEGORIA']).round(2)\n",
        "\n",
        "# Exibir resultado\n",
        "print(\"\\n--- Média de Valor de Venda por Categoria por Mês ---\")\n",
        "print(media_valor_categoria_mes.head(20))"
      ],
      "metadata": {
        "colab": {
          "base_uri": "https://localhost:8080/"
        },
        "id": "YddIkBg1aXVD",
        "outputId": "bc536ce8-03ff-4686-dbe1-9c59fe7c722b"
      },
      "execution_count": null,
      "outputs": [
        {
          "output_type": "stream",
          "name": "stdout",
          "text": [
            "\n",
            "--- Média de Valor de Venda por Categoria por Mês ---\n",
            "      CATEGORIA  ANO_MES  VALOR_TOTAL\n",
            "0   Eletrônicos  2023-03      2045.68\n",
            "47       Móveis  2023-03      1798.83\n",
            "1   Eletrônicos  2023-04      1796.42\n",
            "34       Livros  2023-04       999.90\n",
            "48       Móveis  2023-04      2065.33\n",
            "65    Papelaria  2023-04        19.90\n",
            "2   Eletrônicos  2023-05      1749.62\n",
            "18  Ferramentas  2023-05       639.90\n",
            "49       Móveis  2023-05      1423.88\n",
            "66    Papelaria  2023-05        19.90\n",
            "3   Eletrônicos  2023-06       855.82\n",
            "19  Ferramentas  2023-06       639.90\n",
            "35       Livros  2023-06       999.90\n",
            "50       Móveis  2023-06      1419.00\n",
            "67    Papelaria  2023-06        19.90\n",
            "4   Eletrônicos  2023-07       854.83\n",
            "20  Ferramentas  2023-07       639.90\n",
            "36       Livros  2023-07       999.90\n",
            "51       Móveis  2023-07      1424.00\n",
            "68    Papelaria  2023-07        19.90\n"
          ]
        }
      ]
    },
    {
      "cell_type": "markdown",
      "source": [
        "Média de Valor de Venda por Categoria de Produto por Mês\n",
        "Análise de Tendências por Categoria:\n",
        "Eletrônicos: A categoria de Eletrônicos apresenta uma variação interessante no valor médio de vendas ao longo dos meses. Embora em março de 2023 tenha sido de 2.045,68, ela caiu para R$ 1.796,42 em abril, mas depois se estabilizou em torno de  1.749,62 até junho de 2023. Isso pode indicar que, embora o volume de vendas varie, os produtos eletrônicos continuam sendo uma parte significativa das vendas, mas o preço médio pode estar sendo ajustado para se adaptar à demanda ou à concorrência.\n",
        "\n",
        "Móveis: Móveis, por sua vez, apresentam uma flutuação mais pronunciada, com a média de valor de venda subindo de 1.798,83 em março para  2.065,33 em abril, e depois voltando para valores mais baixos como  1.423,88 em maio e  1.419,00 em junho. Isso pode sugerir uma resposta de mercado sazonal, com um pico de vendas em abril, seguido por uma queda.\n",
        "\n",
        "Livros: A categoria de Livros parece ter uma média de valor constante, variando em torno de R$ 999,90 durante o período analisado. Isso indica que, embora os livros tenham uma boa aceitação, suas vendas são relativamente consistentes e sem grandes variações de preço.\n",
        "\n",
        "Ferramentas e Papelaria: Ferramentas e Papelaria têm valores de venda médios bem baixos e constantes, sugerindo que, embora possam ser produtos vendidos com regularidade, o ticket médio desses itens é significativamente menor.\n",
        "\n",
        "Estratégias Baseadas na Análise:\n",
        "Focar em Eletrônicos: Como a categoria de Eletrônicos gera um valor médio de venda mais alto, é importante focar em promoções e campanhas de fidelização para continuar impulsionando essas vendas. Estratégias como bundles (pacotes) e descontos sazonais podem ser interessantes.\n",
        "\n",
        "Oportunidade de Crescimento para Móveis: A categoria de Móveis tem mostrado uma boa média de valor de venda, mas parece ter sazonalidade. Explorar o aumento das vendas durante os meses de pico (como abril) e promover ofertas nos meses de baixa demanda pode ajudar a manter um fluxo constante.\n",
        "\n",
        "Ajustar Promoções para Livros e Ferramentas: Com um valor de venda médio mais estável e baixo, pode ser interessante promover livros e ferramentas por meio de descontos ou pacotes para aumentar o volume de vendas e atrair mais clientes.\n",
        "\n",
        "Pergunta Possível:\n",
        "\"Como podemos aumentar o valor de venda das categorias de baixo desempenho, como Ferramentas e Papelaria, enquanto mantemos a competitividade e a atração dos produtos de maior valor, como Eletrônicos e Móveis?\"\n",
        "\n",
        "Justificativa:\n",
        "Analisando as categorias com maior e menor valor de venda, podemos direcionar campanhas específicas para aumentar o ticket médio de categorias com desempenho mais baixo e, ao mesmo tempo, fortalecer a fidelidade dos consumidores nas categorias de alto valor"
      ],
      "metadata": {
        "id": "Dr6MvTTNjVqS"
      }
    },
    {
      "cell_type": "markdown",
      "source": [
        "#8. Calcule um ranking de margem de lucro por categoria\n",
        "\n",
        "\n"
      ],
      "metadata": {
        "id": "h-HJcbGMbcPE"
      }
    },
    {
      "cell_type": "code",
      "source": [
        "print(\"\\n--- Vendas ---\")\n",
        "print(df_vendas_com_estoque)"
      ],
      "metadata": {
        "colab": {
          "base_uri": "https://localhost:8080/"
        },
        "id": "7SbrPpgIbkKE",
        "outputId": "610ec0aa-0241-4dbe-cf28-e86e0c0fd2e6"
      },
      "execution_count": null,
      "outputs": [
        {
          "output_type": "stream",
          "name": "stdout",
          "text": [
            "\n",
            "--- Vendas ---\n",
            "    ID NOTA  DATA NOTA  VALOR NOTA  VALOR ITEM  QTD ITEM ID PRODUTO  \\\n",
            "0      3001 2023-03-05      4299.9      4299.9         1       1001   \n",
            "1      3002 2023-03-12      5798.9      3899.0         1       1002   \n",
            "2      3002 2023-03-12      5798.9      1899.0         1       1013   \n",
            "3      3003 2023-03-18      1028.8       129.9         1       1006   \n",
            "4      3003 2023-03-18      1028.8       899.5         1       1003   \n",
            "..      ...        ...         ...         ...       ...        ...   \n",
            "231    3148 2024-08-16      1768.8       849.9         1       1005   \n",
            "232    3148 2024-08-16      1768.8        19.9         1       1036   \n",
            "233    3149 2024-08-20      1049.7       349.9         3       1009   \n",
            "234    3150 2024-08-23      1129.8       129.9         1       1006   \n",
            "235    3150 2024-08-23      1129.8       999.9         1       1033   \n",
            "\n",
            "    ID CLIENTE ID ESTOQUE  CUSTO_UNIT  MARGEM_UNIT  MARGEM_TOTAL  \n",
            "0         2015       5001     3439.92       859.98        859.98  \n",
            "1         2003       5002     3119.20       779.80        779.80  \n",
            "2         2003       5013     1519.20       379.80        379.80  \n",
            "3         2028       5006      103.92        25.98         25.98  \n",
            "4         2028       5003      719.60       179.90        179.90  \n",
            "..         ...        ...         ...          ...           ...  \n",
            "231       2029       5005      679.92       169.98        169.98  \n",
            "232       2029       5036       15.92         3.98          3.98  \n",
            "233       2018       5009      279.92        69.98        209.94  \n",
            "234       2033       5006      103.92        25.98         25.98  \n",
            "235       2033       5033       79.92       919.98        919.98  \n",
            "\n",
            "[236 rows x 11 columns]\n"
          ]
        }
      ]
    },
    {
      "cell_type": "code",
      "source": [
        "# Juntar categoria dos produtos\n",
        "df_vendas_com_categoria = pd.merge(\n",
        "    df_vendas_com_estoque,\n",
        "    df_produtos[['ID PRODUTO', 'CATEGORIA']],\n",
        "    on='ID PRODUTO',\n",
        "    how='left'\n",
        ")\n",
        "\n",
        "print(\"\\n--- Vendas com Categoria ---\")\n",
        "print(df_vendas_com_categoria.head())\n",
        "print(df_vendas_com_categoria.info())"
      ],
      "metadata": {
        "colab": {
          "base_uri": "https://localhost:8080/"
        },
        "id": "W1p9b_Ujb68M",
        "outputId": "c34b7ed4-016e-4d9d-d1f6-a3d71ac788ab"
      },
      "execution_count": null,
      "outputs": [
        {
          "output_type": "stream",
          "name": "stdout",
          "text": [
            "\n",
            "--- Vendas com Categoria ---\n",
            "  ID NOTA  DATA NOTA  VALOR NOTA  VALOR ITEM  QTD ITEM ID PRODUTO ID CLIENTE  \\\n",
            "0    3001 2023-03-05      4299.9      4299.9         1       1001       2015   \n",
            "1    3002 2023-03-12      5798.9      3899.0         1       1002       2003   \n",
            "2    3002 2023-03-12      5798.9      1899.0         1       1013       2003   \n",
            "3    3003 2023-03-18      1028.8       129.9         1       1006       2028   \n",
            "4    3003 2023-03-18      1028.8       899.5         1       1003       2028   \n",
            "\n",
            "  ID ESTOQUE  CUSTO_UNIT  MARGEM_UNIT  MARGEM_TOTAL    CATEGORIA  \n",
            "0       5001     3439.92       859.98        859.98  Eletrônicos  \n",
            "1       5002     3119.20       779.80        779.80  Eletrônicos  \n",
            "2       5013     1519.20       379.80        379.80       Móveis  \n",
            "3       5006      103.92        25.98         25.98  Eletrônicos  \n",
            "4       5003      719.60       179.90        179.90       Móveis  \n",
            "<class 'pandas.core.frame.DataFrame'>\n",
            "RangeIndex: 236 entries, 0 to 235\n",
            "Data columns (total 12 columns):\n",
            " #   Column        Non-Null Count  Dtype         \n",
            "---  ------        --------------  -----         \n",
            " 0   ID NOTA       236 non-null    object        \n",
            " 1   DATA NOTA     236 non-null    datetime64[ns]\n",
            " 2   VALOR NOTA    236 non-null    float64       \n",
            " 3   VALOR ITEM    236 non-null    float64       \n",
            " 4   QTD ITEM      236 non-null    int64         \n",
            " 5   ID PRODUTO    236 non-null    object        \n",
            " 6   ID CLIENTE    236 non-null    object        \n",
            " 7   ID ESTOQUE    236 non-null    object        \n",
            " 8   CUSTO_UNIT    236 non-null    float64       \n",
            " 9   MARGEM_UNIT   236 non-null    float64       \n",
            " 10  MARGEM_TOTAL  236 non-null    float64       \n",
            " 11  CATEGORIA     236 non-null    object        \n",
            "dtypes: datetime64[ns](1), float64(5), int64(1), object(5)\n",
            "memory usage: 22.3+ KB\n",
            "None\n"
          ]
        }
      ]
    },
    {
      "cell_type": "code",
      "source": [
        "# Agrupar por categoria somando margem total\n",
        "margem_por_categoria = df_vendas_com_categoria.groupby('CATEGORIA')['MARGEM_TOTAL'].sum().reset_index()\n",
        "\n",
        "# Ordenar do maior para o menor lucro\n",
        "margem_por_categoria = margem_por_categoria.sort_values(by='MARGEM_TOTAL', ascending=False)\n",
        "\n",
        "print(\"\\n--- Ranking de Margem de Lucro por Categoria ---\")\n",
        "print(margem_por_categoria)"
      ],
      "metadata": {
        "colab": {
          "base_uri": "https://localhost:8080/"
        },
        "id": "g8KBXja3cHvy",
        "outputId": "c5e0e2d8-0108-4dbe-ff89-dfc016ddd849"
      },
      "execution_count": null,
      "outputs": [
        {
          "output_type": "stream",
          "name": "stdout",
          "text": [
            "\n",
            "--- Ranking de Margem de Lucro por Categoria ---\n",
            "     CATEGORIA  MARGEM_TOTAL\n",
            "3       Móveis      28162.00\n",
            "0  Eletrônicos      19280.62\n",
            "2       Livros      11959.74\n",
            "1  Ferramentas       6807.54\n",
            "4    Papelaria         95.52\n"
          ]
        }
      ]
    },
    {
      "cell_type": "markdown",
      "source": [
        "Ranking de Margem de Lucro por Categoria\n",
        "A análise de margem de lucro por categoria de produto revela algumas tendências importantes para otimização de estratégias de vendas e precificação.\n",
        "\n",
        "Principais Conclusões:\n",
        "Móveis: A categoria de Móveis lidera o ranking com uma margem total de R$ 28.162,00. Isso sugere que, apesar do valor de venda ser mais baixo do que os produtos de Eletrônicos, a margem de lucro para os produtos da categoria Móveis é significativamente maior. Pode ser interessante explorar estratégias de promoção para aumentar ainda mais as vendas dessa categoria, dado o bom retorno financeiro.\n",
        "\n",
        "Eletrônicos: Embora Eletrônicos tenha um valor de venda médio mais alto, com um total de R$ 19.280,62 em margem de lucro, ela fica atrás de Móveis. No entanto, devido à alta demanda e valor agregado, estratégias de fidelização de clientes nessa categoria podem trazer benefícios significativos. Produtos eletrônicos costumam ter uma margem relativamente menor devido ao custo mais elevado, mas sua popularidade compensa.\n",
        "\n",
        "Livros: A categoria de Livros também se destaca, com uma margem de R$ 11.959,74. Embora a margem de lucro não seja tão alta quanto Móveis ou Eletrônicos, ela ainda é significativa, o que indica que há uma boa demanda para livros e que as estratégias de marketing podem ser focadas para aproveitar esse nicho de mercado.\n",
        "\n",
        "Ferramentas: A categoria de Ferramentas, com uma margem de R$ 6.807,54, parece ter uma boa aceitação no mercado, mas pode ser considerada uma categoria de nicho. Estratégias como pacotes ou promoções podem ser eficazes para impulsionar as vendas.\n",
        "\n",
        "Papelaria: A categoria de Papelaria apresenta a menor margem de lucro (R$ 95,52). Isso pode indicar uma baixa rentabilidade, possivelmente devido ao custo de produção ou preço de venda baixo. Pode ser uma boa estratégia aumentar a quantidade vendida ou revisar os preços de venda para melhorar a margem.\n",
        "\n",
        "Estratégias Recomendadas:\n",
        "Focar em Móveis e Eletrônicos: Dado o alto lucro da categoria de Móveis, enquanto Eletrônicos também geram margens consideráveis, ambas devem ser priorizadas em campanhas de marketing. Além disso, explorar promoções para aumentar o volume de vendas nessas categorias pode ser uma boa abordagem.\n",
        "\n",
        "Potencial de Crescimento em Livros: Com uma margem de lucro significativa, Livros é uma categoria com alto potencial de crescimento. Investir em ofertas, kits ou até mesmo eventos de lançamento pode aumentar ainda mais as vendas nessa categoria.\n",
        "\n",
        "Atenção à Papelaria: Para a categoria de Papelaria, deve-se revisar a estratégia de preços ou buscar aumentar a quantidade de vendas para melhorar a rentabilidade. Avaliar a possibilidade de pacotes promocionais pode ajudar a impulsionar as vendas.\n",
        "\n",
        "Pergunta Possível:\n",
        "\"Como podemos maximizar a rentabilidade das categorias com menor margem, como Papelaria, enquanto mantemos a competitividade nas categorias mais lucrativas, como Móveis e Eletrônicos?\"\n",
        "\n",
        "Justificativa:\n",
        "Analisando as margens de lucro por categoria, é possível desenvolver estratégias que maximizem a rentabilidade das categorias mais lucrativas, enquanto se busca aumentar a eficiência e rentabilidade das categorias com menores margens. Isso pode ser feito ajustando estratégias de precificação, pacotes promocionais ou campanhas de fidelização."
      ],
      "metadata": {
        "id": "vTn2UogPj_db"
      }
    },
    {
      "cell_type": "markdown",
      "source": [
        "#9.Liste produtos comprados por clientes\n",
        "\n",
        "---\n",
        "\n",
        "\n"
      ],
      "metadata": {
        "id": "avnWeo1zcW7b"
      }
    },
    {
      "cell_type": "code",
      "source": [
        "print(\"\\n--- Vendas com Nomes de Produtos ---\")\n",
        "print(df_vendas_produtos.head())\n"
      ],
      "metadata": {
        "colab": {
          "base_uri": "https://localhost:8080/"
        },
        "id": "RCXtbBZgcZdE",
        "outputId": "0b8ea691-d6f3-4a0e-eaa6-af5898cd3707"
      },
      "execution_count": null,
      "outputs": [
        {
          "output_type": "stream",
          "name": "stdout",
          "text": [
            "\n",
            "--- Vendas com Nomes de Produtos ---\n",
            "  ID NOTA  DATA NOTA  VALOR NOTA  VALOR ITEM  QTD ITEM ID PRODUTO ID CLIENTE  \\\n",
            "0    3001 2023-03-05      4299.9      4299.9         1       1001       2015   \n",
            "1    3002 2023-03-12      5798.9      3899.0         1       1002       2003   \n",
            "2    3002 2023-03-12      5798.9      1899.0         1       1013       2003   \n",
            "3    3003 2023-03-18      1028.8       129.9         1       1006       2028   \n",
            "4    3003 2023-03-18      1028.8       899.5         1       1003       2028   \n",
            "\n",
            "   ANO_MES  VALOR_TOTAL           NOME PRODUTO  \n",
            "0  2023-03       4299.9     Notebook EliteBook  \n",
            "1  2023-03       3899.0  Smartphone Galaxy S23  \n",
            "2  2023-03       1899.0         Armário de Aço  \n",
            "3  2023-03        129.9        Teclado Sem Fio  \n",
            "4  2023-03        899.5     Mesa de Escritório  \n"
          ]
        }
      ]
    },
    {
      "cell_type": "code",
      "source": [
        "# Agrupar por cliente, agregando produtos únicos comprados\n",
        "produtos_por_cliente = (\n",
        "    df_vendas_produtos.groupby('ID CLIENTE')['NOME PRODUTO']\n",
        "    .apply(lambda x: sorted(x.unique()))\n",
        "    .reset_index()\n",
        ")\n",
        "\n",
        "# Exibir os primeiros resultados\n",
        "print(\"\\n--- Produtos Comprados por Clientes ---\")\n",
        "print(produtos_por_cliente)"
      ],
      "metadata": {
        "colab": {
          "base_uri": "https://localhost:8080/"
        },
        "id": "JR9uoJ2ldU4N",
        "outputId": "a902c4f1-e997-47a3-a459-b8274f371bf5"
      },
      "execution_count": null,
      "outputs": [
        {
          "output_type": "stream",
          "name": "stdout",
          "text": [
            "\n",
            "--- Produtos Comprados por Clientes ---\n",
            "    ID CLIENTE                                       NOME PRODUTO\n",
            "0         1023                                   [Serra Elétrica]\n",
            "1         2001  [Cadeira Ergonômica, Grampeador, Mesa de Escri...\n",
            "2         2002  [Cadeira Ergonômica, Mesa de Escritório, Serra...\n",
            "3         2003  [Armário de Aço, Cadeira Ergonômica, Estante e...\n",
            "4         2004  [Cadeira Ergonômica, Grampeador, HD Externo 1T...\n",
            "5         2005  [Cadeira Ergonômica, Grampeador, HD Externo 1T...\n",
            "6         2006  [Cadeira Ergonômica, Estante em Madeira, Gramp...\n",
            "7         2007  [Cadeira Ergonômica, Estante em Madeira, Gramp...\n",
            "8         2008  [Cadeira Ergonômica, Grampeador, Mesa de Escri...\n",
            "9         2009  [Cadeira Ergonômica, Estante em Madeira, Gramp...\n",
            "10        2010  [Grampeador, HD Externo 1TB, Mesa de Escritóri...\n",
            "11        2011  [Cadeira Ergonômica, HD Externo 1TB, Mesa de E...\n",
            "12        2012               [Cadeira Ergonômica, Serra Elétrica]\n",
            "13        2013  [Livro: Python para Iniciantes, Mesa de Escrit...\n",
            "14        2014                       [HD Externo 1TB, Tablet 10\"]\n",
            "15        2015  [Cadeira Ergonômica, HD Externo 1TB, Notebook ...\n",
            "16        2016               [HD Externo 1TB, Mesa de Escritório]\n",
            "17        2017  [Grampeador, HD Externo 1TB, Mesa de Escritóri...\n",
            "18        2018  [Cadeira Ergonômica, HD Externo 1TB, Serra Elé...\n",
            "19        2019   [Cadeira Ergonômica, HD Externo 1TB, Tablet 10\"]\n",
            "20        2020  [Cadeira Ergonômica, Grampeador, HD Externo 1T...\n",
            "21        2021  [Cadeira Ergonômica, Grampeador, Livro: Python...\n",
            "22        2022  [Cadeira Ergonômica, Notebook EliteBook, Serra...\n",
            "23        2023  [Grampeador, HD Externo 1TB, Mesa de Escritóri...\n",
            "24        2024  [Estante em Madeira, Grampeador, Livro: Python...\n",
            "25        2025  [Grampeador, Mesa de Escritório, Monitor 24\" F...\n",
            "26        2026  [Cadeira Ergonômica, Grampeador, HD Externo 1T...\n",
            "27        2027  [Cadeira Ergonômica, Grampeador, HD Externo 1T...\n",
            "28        2028  [Cadeira Ergonômica, HD Externo 1TB, Mesa de E...\n",
            "29        2029  [Estante em Madeira, Grampeador, Livro: Python...\n",
            "30        2030  [Cadeira Ergonômica, Grampeador, HD Externo 1T...\n",
            "31        2031  [Cadeira Ergonômica, Grampeador, HD Externo 1T...\n",
            "32        2032  [Estante em Madeira, Livro: Python para Inicia...\n",
            "33        2033  [Cadeira Ergonômica, HD Externo 1TB, Livro: Py...\n",
            "34        2034  [Estante em Madeira, Livro: Python para Inicia...\n",
            "35        2035  [Cadeira Ergonômica, Livro: Python para Inicia...\n",
            "36        2036  [Cadeira Ergonômica, Estante em Madeira, Livro...\n",
            "37        2037  [Cadeira Ergonômica, Grampeador, Livro: Python...\n",
            "38        2038                                       [Tablet 10\"]\n",
            "39        2039                   [Estante em Madeira, Tablet 10\"]\n"
          ]
        }
      ]
    },
    {
      "cell_type": "code",
      "source": [
        "# Ajustar a visualização para mostrar todas as linhas\n",
        "pd.set_option('display.max_colwidth', None)  # Remove truncamento da coluna de texto\n",
        "\n",
        "# Concatenar os produtos em uma string para cada cliente\n",
        "produtos_por_cliente['NOME PRODUTO'] = produtos_por_cliente['NOME PRODUTO'].apply(lambda x: ', '.join(x))\n",
        "\n",
        "# Exibir o DataFrame completo\n",
        "print(\"\\n--- Produtos Comprados por Clientes ---\")\n",
        "print(produtos_por_cliente)"
      ],
      "metadata": {
        "colab": {
          "base_uri": "https://localhost:8080/"
        },
        "id": "epb55pCdkX_2",
        "outputId": "4b57569c-ecf5-49ee-d369-be1aa3b932fe"
      },
      "execution_count": null,
      "outputs": [
        {
          "output_type": "stream",
          "name": "stdout",
          "text": [
            "\n",
            "--- Produtos Comprados por Clientes ---\n",
            "    ID CLIENTE  \\\n",
            "0         1023   \n",
            "1         2001   \n",
            "2         2002   \n",
            "3         2003   \n",
            "4         2004   \n",
            "5         2005   \n",
            "6         2006   \n",
            "7         2007   \n",
            "8         2008   \n",
            "9         2009   \n",
            "10        2010   \n",
            "11        2011   \n",
            "12        2012   \n",
            "13        2013   \n",
            "14        2014   \n",
            "15        2015   \n",
            "16        2016   \n",
            "17        2017   \n",
            "18        2018   \n",
            "19        2019   \n",
            "20        2020   \n",
            "21        2021   \n",
            "22        2022   \n",
            "23        2023   \n",
            "24        2024   \n",
            "25        2025   \n",
            "26        2026   \n",
            "27        2027   \n",
            "28        2028   \n",
            "29        2029   \n",
            "30        2030   \n",
            "31        2031   \n",
            "32        2032   \n",
            "33        2033   \n",
            "34        2034   \n",
            "35        2035   \n",
            "36        2036   \n",
            "37        2037   \n",
            "38        2038   \n",
            "39        2039   \n",
            "\n",
            "                                                                                                                                               NOME PRODUTO  \n",
            "0                                                                                                                                            Serra Elétrica  \n",
            "1                                                                   Cadeira Ergonômica, Grampeador, Mesa de Escritório, Monitor 24\" Full HD, Serra Elétrica  \n",
            "2                                                                                                    Cadeira Ergonômica, Mesa de Escritório, Serra Elétrica  \n",
            "3                                                                             Armário de Aço, Cadeira Ergonômica, Estante em Madeira, Smartphone Galaxy S23  \n",
            "4                                                                   Cadeira Ergonômica, Grampeador, HD Externo 1TB, Mesa de Escritório, Monitor 24\" Full HD  \n",
            "5                                                   Cadeira Ergonômica, Grampeador, HD Externo 1TB, Mesa de Escritório, Monitor 24\" Full HD, Serra Elétrica  \n",
            "6                                               Cadeira Ergonômica, Estante em Madeira, Grampeador, Mesa de Escritório, Monitor 24\" Full HD, Serra Elétrica  \n",
            "7                               Cadeira Ergonômica, Estante em Madeira, Grampeador, HD Externo 1TB, Mesa de Escritório, Monitor 24\" Full HD, Serra Elétrica  \n",
            "8                                                                   Cadeira Ergonômica, Grampeador, Mesa de Escritório, Monitor 24\" Full HD, Serra Elétrica  \n",
            "9                                                               Cadeira Ergonômica, Estante em Madeira, Grampeador, Mesa de Escritório, Monitor 24\" Full HD  \n",
            "10                                                                          Grampeador, HD Externo 1TB, Mesa de Escritório, Monitor 24\" Full HD, Tablet 10\"  \n",
            "11                                                                                                   Cadeira Ergonômica, HD Externo 1TB, Mesa de Escritório  \n",
            "12                                                                                                                       Cadeira Ergonômica, Serra Elétrica  \n",
            "13                                                                                       Livro: Python para Iniciantes, Mesa de Escritório, Teclado Sem Fio  \n",
            "14                                                                                                                               HD Externo 1TB, Tablet 10\"  \n",
            "15                                                                                                   Cadeira Ergonômica, HD Externo 1TB, Notebook EliteBook  \n",
            "16                                                                                                                       HD Externo 1TB, Mesa de Escritório  \n",
            "17                                                                          Grampeador, HD Externo 1TB, Mesa de Escritório, Monitor 24\" Full HD, Tablet 10\"  \n",
            "18                                                                                           Cadeira Ergonômica, HD Externo 1TB, Serra Elétrica, Tablet 10\"  \n",
            "19                                                                                                           Cadeira Ergonômica, HD Externo 1TB, Tablet 10\"  \n",
            "20                             Cadeira Ergonômica, Grampeador, HD Externo 1TB, Headphone Bluetooth, Mesa de Escritório, Monitor 24\" Full HD, Serra Elétrica  \n",
            "21      Cadeira Ergonômica, Grampeador, Livro: Python para Iniciantes, Mesa de Escritório, Monitor 24\" Full HD, Serra Elétrica, Tablet 10\", Teclado Sem Fio  \n",
            "22                                                                                       Cadeira Ergonômica, Notebook EliteBook, Serra Elétrica, Tablet 10\"  \n",
            "23                                                                                      Grampeador, HD Externo 1TB, Mesa de Escritório, Monitor 24\" Full HD  \n",
            "24                      Estante em Madeira, Grampeador, Livro: Python para Iniciantes, Mesa de Escritório, Monitor 24\" Full HD, Tablet 10\", Teclado Sem Fio  \n",
            "25                                                                   Grampeador, Mesa de Escritório, Monitor 24\" Full HD, Smartphone Galaxy S23, Tablet 10\"  \n",
            "26                                                                  Cadeira Ergonômica, Grampeador, HD Externo 1TB, Mesa de Escritório, Monitor 24\" Full HD  \n",
            "27               Cadeira Ergonômica, Grampeador, HD Externo 1TB, Mesa de Escritório, Monitor 24\" Full HD, Serra Elétrica, Smartphone Galaxy S23, Tablet 10\"  \n",
            "28                                                                  Cadeira Ergonômica, HD Externo 1TB, Mesa de Escritório, Serra Elétrica, Teclado Sem Fio  \n",
            "29                      Estante em Madeira, Grampeador, Livro: Python para Iniciantes, Mesa de Escritório, Monitor 24\" Full HD, Tablet 10\", Teclado Sem Fio  \n",
            "30  Cadeira Ergonômica, Grampeador, HD Externo 1TB, Livro: Python para Iniciantes, Mesa de Escritório, Monitor 24\" Full HD, Serra Elétrica, Teclado Sem Fio  \n",
            "31                                                  Cadeira Ergonômica, Grampeador, HD Externo 1TB, Mesa de Escritório, Monitor 24\" Full HD, Serra Elétrica  \n",
            "32                                                                                       Estante em Madeira, Livro: Python para Iniciantes, Teclado Sem Fio  \n",
            "33                                           Cadeira Ergonômica, HD Externo 1TB, Livro: Python para Iniciantes, Serra Elétrica, Tablet 10\", Teclado Sem Fio  \n",
            "34                                                                           Estante em Madeira, Livro: Python para Iniciantes, Tablet 10\", Teclado Sem Fio  \n",
            "35                                                           Cadeira Ergonômica, Livro: Python para Iniciantes, Serra Elétrica, Tablet 10\", Teclado Sem Fio  \n",
            "36                                       Cadeira Ergonômica, Estante em Madeira, Livro: Python para Iniciantes, Serra Elétrica, Tablet 10\", Teclado Sem Fio  \n",
            "37                  Cadeira Ergonômica, Grampeador, Livro: Python para Iniciantes, Mesa de Escritório, Monitor 24\" Full HD, Serra Elétrica, Teclado Sem Fio  \n",
            "38                                                                                                                                               Tablet 10\"  \n",
            "39                                                                                                                           Estante em Madeira, Tablet 10\"  \n"
          ]
        }
      ]
    },
    {
      "cell_type": "markdown",
      "source": [
        "A tabela mostra os produtos comprados por clientes, com a listagem de diversos itens adquiridos por cada cliente. Alguns clientes compraram um número diversificado de produtos, enquanto outros compraram itens específicos.\n",
        "\n",
        "O que podemos concluir:\n",
        "Variedade de Compras: Muitos clientes compraram uma combinação de produtos, como \"Cadeira Ergonômica\" e \"Mesa de Escritório\", o que indica que esses itens podem ser frequentemente comprados juntos, possivelmente como parte de pacotes ou categorias relacionadas (ex: escritório, móveis). Isso sugere que estratégias de vendas como kits ou promoções podem ser eficazes.\n",
        "\n",
        "Produtos Mais Populares: Produtos como \"Cadeira Ergonômica\", \"HD Externo 1TB\", \"Mesa de Escritório\" e \"Grampeador\" aparecem em muitas compras, indicando que esses itens têm uma alta demanda. Isso pode ser útil para planejar estoques e focar em estratégias de marketing direcionadas a esses produtos.\n",
        "\n",
        "Produtos Menos Vendidos: Produtos como \"Tablet 10\" aparecem de forma isolada ou em poucas compras. Isso pode indicar que esses itens têm uma demanda mais baixa ou são comprados de forma esporádica, o que pode exigir uma análise mais profunda sobre o preço, promoção ou até mesmo a necessidade de aumentar a visibilidade desses produtos.\n",
        "\n",
        "Padrões de Compra: A diversidade de produtos adquiridos por alguns clientes mostra que eles têm uma variedade de interesses ou necessidades. Isso abre a possibilidade de personalizar promoções e estratégias de marketing, oferecendo produtos complementares ou descontos baseados em comportamentos de compra anteriores.\n",
        "\n",
        "Pergunta que pode ser formulada:\n",
        "\"Como podemos aumentar a frequência de compras para clientes que adquirem produtos específicos e aumentar a visibilidade de produtos de baixa venda?\"\n",
        "\n",
        "Essa pergunta visa explorar como otimizar as estratégias de marketing, aproveitando tanto os produtos populares quanto os menos vendidos."
      ],
      "metadata": {
        "id": "xQL2YauIlB7V"
      }
    },
    {
      "cell_type": "markdown",
      "source": [
        "#10.Ranking de produtos por quantidade de estoque\n",
        "\n"
      ],
      "metadata": {
        "id": "-sV1nvwNf0Sj"
      }
    },
    {
      "cell_type": "code",
      "source": [
        "# --- Cadastro Produtos ---\n",
        "df_produtos = pd.read_excel(arquivo, sheet_name=\"Cadastro Produtos\", header=0)\n",
        "\n",
        "# Ajustar nomes das colunas para facilitar o trabalho\n",
        "df_produtos.columns = ['ID PRODUTO', 'ID ESTOQUE', 'NOME PRODUTO', 'CATEGORIA']\n",
        "# # Remover linhas duplicadas\n",
        "df_produtos = df_produtos[df_produtos['ID PRODUTO'] != 'ID PRODUTO'].copy()\n",
        "\n",
        "# --- Cadastro Estoque ---\n",
        "df_estoque = pd.read_excel(arquivo, sheet_name=\"Cadastro de Estoque\", header=0)\n",
        "\n",
        "# Renomear colunas\n",
        "df_estoque.columns = ['ID ESTOQUE', 'VALOR ESTOQUE', 'QTD ESTOQUE', 'DATA ESTOQUE', 'ID FORNECEDOR']\n",
        "# Remover linha duplicada do cabeçalho se existir\n",
        "df_estoque = df_estoque[df_estoque['ID ESTOQUE'] != 'ID ESTOQUE'].copy()\n",
        "\n",
        "# Converter colunas para os tipos corretos\n",
        "df_estoque['VALOR ESTOQUE'] = pd.to_numeric(df_estoque['VALOR ESTOQUE'], errors='coerce').astype(float)\n",
        "df_estoque['QTD ESTOQUE'] = pd.to_numeric(df_estoque['QTD ESTOQUE'], errors='coerce')\n",
        "df_estoque['DATA ESTOQUE'] = pd.to_datetime(df_estoque['DATA ESTOQUE'], errors='coerce')\n",
        "\n",
        "\n",
        "# --- Transações Vendas ---\n",
        "df_vendas = pd.read_excel(arquivo, sheet_name=\"Transações Vendas\", header=0)\n",
        "\n",
        "# Renomear colunas\n",
        "df_vendas.columns = ['ID NOTA', 'DATA NOTA', 'VALOR NOTA', 'VALOR ITEM', 'QTD ITEM', 'ID PRODUTO', 'ID CLIENTE']\n",
        "\n",
        "# Remover linha duplicada do cabeçalho se existir\n",
        "df_vendas = df_vendas[df_vendas['ID NOTA'] != 'ID NOTA'].copy()\n",
        "\n",
        "# Converter tipos das colunas numéricas e datas\n",
        "for col in ['VALOR NOTA', 'VALOR ITEM', 'QTD ITEM']:\n",
        "    df_vendas[col] = pd.to_numeric(df_vendas[col], errors='coerce')\n",
        "\n",
        "df_vendas['DATA NOTA'] = pd.to_datetime(df_vendas['DATA NOTA'], errors='coerce')\n",
        "\n",
        "# Garantir que IDs sejam strings para merges corretos\n",
        "df_vendas['ID PRODUTO'] = df_vendas['ID PRODUTO'].astype(str)\n",
        "df_estoque['ID ESTOQUE'] = df_estoque['ID ESTOQUE'].astype(str)\n",
        "df_produtos['ID PRODUTO'] = df_produtos['ID PRODUTO'].astype(str)\n",
        "df_produtos['ID ESTOQUE'] = df_produtos['ID ESTOQUE'].astype(str)"
      ],
      "metadata": {
        "id": "R27UzrvxyoPc"
      },
      "execution_count": null,
      "outputs": []
    },
    {
      "cell_type": "code",
      "source": [
        "df_vendas = pd.merge(\n",
        "    df_vendas,\n",
        "    df_produtos[['ID PRODUTO', 'ID ESTOQUE', 'NOME PRODUTO']],\n",
        "    on='ID PRODUTO',\n",
        "    how='left'\n",
        ")\n",
        "\n",
        "print(df_vendas.head())"
      ],
      "metadata": {
        "colab": {
          "base_uri": "https://localhost:8080/"
        },
        "id": "7grG9b1qy3Jl",
        "outputId": "d05346a8-1bc3-4b0b-8fe7-df053bdbfcd1"
      },
      "execution_count": null,
      "outputs": [
        {
          "output_type": "stream",
          "name": "stdout",
          "text": [
            "  ID NOTA  DATA NOTA  VALOR NOTA  VALOR ITEM  QTD ITEM ID PRODUTO ID CLIENTE  \\\n",
            "0    3001 2023-03-05      4299.9      4299.9         1       1001       2015   \n",
            "1    3002 2023-03-12      5798.9      3899.0         1       1002       2003   \n",
            "2    3002 2023-03-12      5798.9      1899.0         1       1013       2003   \n",
            "3    3003 2023-03-18      1028.8       129.9         1       1006       2028   \n",
            "4    3003 2023-03-18      1028.8       899.5         1       1003       2028   \n",
            "\n",
            "  ID ESTOQUE           NOME PRODUTO  \n",
            "0       5001     Notebook EliteBook  \n",
            "1       5002  Smartphone Galaxy S23  \n",
            "2       5013         Armário de Aço  \n",
            "3       5006        Teclado Sem Fio  \n",
            "4       5003     Mesa de Escritório  \n"
          ]
        }
      ]
    },
    {
      "cell_type": "code",
      "source": [
        "# Agrupar vendas por ID ESTOQUE (total vendido por estoque)\n",
        "vendas_por_estoque = df_vendas.groupby('ID ESTOQUE')['QTD ITEM'].sum().reset_index()\n",
        "\n",
        "print(\"\\n--- Vendas por Estoque ---\")\n",
        "print(vendas_por_estoque)"
      ],
      "metadata": {
        "colab": {
          "base_uri": "https://localhost:8080/"
        },
        "id": "g6wux4KA0xTM",
        "outputId": "a0049cb0-18d2-408e-89b2-fd209bd089ca"
      },
      "execution_count": null,
      "outputs": [
        {
          "output_type": "stream",
          "name": "stdout",
          "text": [
            "\n",
            "--- Vendas por Estoque ---\n",
            "   ID ESTOQUE  QTD ITEM\n",
            "0        5001         2\n",
            "1        5002         3\n",
            "2        5003        58\n",
            "3        5004        49\n",
            "4        5005        25\n",
            "5        5006        14\n",
            "6        5009        75\n",
            "7        5011         1\n",
            "8        5012        11\n",
            "9        5013         1\n",
            "10       5023        23\n",
            "11       5033        13\n",
            "12       5036        24\n",
            "13       5039        22\n"
          ]
        }
      ]
    },
    {
      "cell_type": "code",
      "source": [
        "# Merge do estoque com as vendas para trazer a coluna QTD ITEM (quantidade vendida)\n",
        "df_estoque_vendas = pd.merge(\n",
        "    df_estoque,\n",
        "    vendas_por_estoque,\n",
        "    on='ID ESTOQUE',\n",
        "    how='left'\n",
        ")\n",
        "\n",
        "# Preencher NaN na coluna QTD ITEM com 0 (estoques sem venda)\n",
        "df_estoque_vendas['QTD ITEM'] = df_estoque_vendas['QTD ITEM'].fillna(0).astype(int)\n",
        "\n",
        "# Calcular estoque atualizado (quantidade atual - vendida)\n",
        "df_estoque_vendas['QTD ESTOQUE ATUALIZADO'] = df_estoque_vendas['QTD ESTOQUE'] - df_estoque_vendas['QTD ITEM']\n",
        "\n",
        "# Evitar valores negativos, se desejar\n",
        "df_estoque_vendas['QTD ESTOQUE ATUALIZADO'] = df_estoque_vendas['QTD ESTOQUE ATUALIZADO']\n",
        "\n",
        "# Mostrar resultado\n",
        "print(df_estoque_vendas[['ID ESTOQUE', 'QTD ESTOQUE', 'QTD ITEM', 'QTD ESTOQUE ATUALIZADO']])\n"
      ],
      "metadata": {
        "colab": {
          "base_uri": "https://localhost:8080/"
        },
        "id": "vkqVILb_7vkM",
        "outputId": "198cbfb6-fe43-43f7-a6db-e71bbb1db75c"
      },
      "execution_count": null,
      "outputs": [
        {
          "output_type": "stream",
          "name": "stdout",
          "text": [
            "   ID ESTOQUE  QTD ESTOQUE  QTD ITEM  QTD ESTOQUE ATUALIZADO\n",
            "0        5001           50         2                      48\n",
            "1        5002           40         3                      37\n",
            "2        5003           50        58                      -8\n",
            "3        5004           50        49                       1\n",
            "4        5005           50        25                      25\n",
            "5        5006          100        14                      86\n",
            "6        5007          100         0                     100\n",
            "7        5008           50         0                      50\n",
            "8        5009           50        75                     -25\n",
            "9        5010           50         0                      50\n",
            "10       5011           50         1                      49\n",
            "11       5012           50        11                      39\n",
            "12       5013           50         1                      49\n",
            "13       5014          100         0                     100\n",
            "14       5015           50         0                      50\n",
            "15       5016           50         0                      50\n",
            "16       5017           50         0                      50\n",
            "17       5018           50         0                      50\n",
            "18       5019           50         0                      50\n",
            "19       5020           50         0                      50\n",
            "20       5021           50         0                      50\n",
            "21       5022           50         0                      50\n",
            "22       5023           50        23                      27\n",
            "23       5024           50         0                      50\n",
            "24       5025           50         0                      50\n",
            "25       5026           50         0                      50\n",
            "26       5027           50         0                      50\n",
            "27       5028           50         0                      50\n",
            "28       5029           50         0                      50\n",
            "29       5030           50         0                      50\n",
            "30       5031           50         0                      50\n",
            "31       5032           50         0                      50\n",
            "32       5033           50        13                      37\n",
            "33       5034           50         0                      50\n",
            "34       5035           50         0                      50\n",
            "35       5036           50        24                      26\n",
            "36       5037           50         0                      50\n",
            "37       5038           50         0                      50\n",
            "38       5039           50        22                      28\n",
            "39       5040           50         0                      50\n"
          ]
        }
      ]
    },
    {
      "cell_type": "code",
      "source": [
        "# Juntar o nome do produto no df_estoque_vendas\n",
        "df_estoque_vendas = pd.merge(\n",
        "    df_estoque_vendas,\n",
        "    df_produtos[['ID ESTOQUE', 'NOME PRODUTO']],\n",
        "    on='ID ESTOQUE',\n",
        "    how='left'\n",
        ")\n",
        "\n",
        "# Mostrar resultado com nome do produto\n",
        "print(df_estoque_vendas[['ID ESTOQUE', 'NOME PRODUTO', 'QTD ESTOQUE', 'QTD ITEM', 'QTD ESTOQUE ATUALIZADO']])"
      ],
      "metadata": {
        "colab": {
          "base_uri": "https://localhost:8080/"
        },
        "id": "L7S7Gt3M8tOd",
        "outputId": "83b5d440-491f-44b3-83cf-6de0ba0fdeac"
      },
      "execution_count": null,
      "outputs": [
        {
          "output_type": "stream",
          "name": "stdout",
          "text": [
            "   ID ESTOQUE                   NOME PRODUTO  QTD ESTOQUE  QTD ITEM  \\\n",
            "0        5001             Notebook EliteBook           50         2   \n",
            "1        5002          Smartphone Galaxy S23           40         3   \n",
            "2        5003             Mesa de Escritório           50        58   \n",
            "3        5004             Cadeira Ergonômica           50        49   \n",
            "4        5005            Monitor 24\" Full HD           50        25   \n",
            "5        5006                Teclado Sem Fio          100        14   \n",
            "6        5007                    Mouse Gamer          100         0   \n",
            "7        5008      Impressora Multifuncional           50         0   \n",
            "8        5009                 HD Externo 1TB           50        75   \n",
            "9        5010                 Webcam Full HD           50         0   \n",
            "10       5011            Headphone Bluetooth           50         1   \n",
            "11       5012             Estante em Madeira           50        11   \n",
            "12       5013                 Armário de Aço           50         1   \n",
            "13       5014              Luminária de Mesa          100         0   \n",
            "14       5015              Quadro Decorativo           50         0   \n",
            "15       5016              Tapete Retangular           50         0   \n",
            "16       5017             Cafeteira Elétrica           50         0   \n",
            "17       5018             Ventilador de Mesa           50         0   \n",
            "18       5019                 Liquidificador           50         0   \n",
            "19       5020                Ferro de Passar           50         0   \n",
            "20       5021                  Furadeira 12V           50         0   \n",
            "21       5022                 Jogo de Chaves           50         0   \n",
            "22       5023                 Serra Elétrica           50        23   \n",
            "23       5024                    Kit Pincéis           50         0   \n",
            "24       5025          Mochila para Notebook           50         0   \n",
            "25       5026           Suporte para Monitor           50         0   \n",
            "26       5027           Organizador de Cabos           50         0   \n",
            "27       5028            Carregador Portátil           50         0   \n",
            "28       5029         Fone de Ouvido com Fio           50         0   \n",
            "29       5030                Adaptador USB-C           50         0   \n",
            "30       5031      Livro: Gestão de Projetos           50         0   \n",
            "31       5032       Livro: Marketing Digital           50         0   \n",
            "32       5033  Livro: Python para Iniciantes           50        13   \n",
            "33       5034           Caneta Esferográfica           50         0   \n",
            "34       5035          Caderno Universitário           50         0   \n",
            "35       5036                     Grampeador           50        24   \n",
            "36       5037         Calculadora Financeira           50         0   \n",
            "37       5038              Roteador Wi-Fi 5G           50         0   \n",
            "38       5039                     Tablet 10\"           50        22   \n",
            "39       5040                     Smartwatch           50         0   \n",
            "\n",
            "    QTD ESTOQUE ATUALIZADO  \n",
            "0                       48  \n",
            "1                       37  \n",
            "2                       -8  \n",
            "3                        1  \n",
            "4                       25  \n",
            "5                       86  \n",
            "6                      100  \n",
            "7                       50  \n",
            "8                      -25  \n",
            "9                       50  \n",
            "10                      49  \n",
            "11                      39  \n",
            "12                      49  \n",
            "13                     100  \n",
            "14                      50  \n",
            "15                      50  \n",
            "16                      50  \n",
            "17                      50  \n",
            "18                      50  \n",
            "19                      50  \n",
            "20                      50  \n",
            "21                      50  \n",
            "22                      27  \n",
            "23                      50  \n",
            "24                      50  \n",
            "25                      50  \n",
            "26                      50  \n",
            "27                      50  \n",
            "28                      50  \n",
            "29                      50  \n",
            "30                      50  \n",
            "31                      50  \n",
            "32                      37  \n",
            "33                      50  \n",
            "34                      50  \n",
            "35                      26  \n",
            "36                      50  \n",
            "37                      50  \n",
            "38                      28  \n",
            "39                      50  \n"
          ]
        }
      ]
    },
    {
      "cell_type": "code",
      "source": [
        "df_estoque_vendas_ordenado = df_estoque_vendas.sort_values(by='QTD ESTOQUE ATUALIZADO', ascending=False)\n",
        "\n",
        "print(df_estoque_vendas_ordenado[['ID ESTOQUE', 'NOME PRODUTO', 'QTD ESTOQUE', 'QTD ITEM', 'QTD ESTOQUE ATUALIZADO']])"
      ],
      "metadata": {
        "colab": {
          "base_uri": "https://localhost:8080/"
        },
        "id": "Q5LntMB97_jR",
        "outputId": "434c9e48-6850-43a2-aeab-97037d5c01c5"
      },
      "execution_count": null,
      "outputs": [
        {
          "output_type": "stream",
          "name": "stdout",
          "text": [
            "   ID ESTOQUE                   NOME PRODUTO  QTD ESTOQUE  QTD ITEM  \\\n",
            "6        5007                    Mouse Gamer          100         0   \n",
            "13       5014              Luminária de Mesa          100         0   \n",
            "5        5006                Teclado Sem Fio          100        14   \n",
            "7        5008      Impressora Multifuncional           50         0   \n",
            "15       5016              Tapete Retangular           50         0   \n",
            "14       5015              Quadro Decorativo           50         0   \n",
            "9        5010                 Webcam Full HD           50         0   \n",
            "19       5020                Ferro de Passar           50         0   \n",
            "33       5034           Caneta Esferográfica           50         0   \n",
            "34       5035          Caderno Universitário           50         0   \n",
            "37       5038              Roteador Wi-Fi 5G           50         0   \n",
            "36       5037         Calculadora Financeira           50         0   \n",
            "39       5040                     Smartwatch           50         0   \n",
            "18       5019                 Liquidificador           50         0   \n",
            "17       5018             Ventilador de Mesa           50         0   \n",
            "16       5017             Cafeteira Elétrica           50         0   \n",
            "20       5021                  Furadeira 12V           50         0   \n",
            "21       5022                 Jogo de Chaves           50         0   \n",
            "23       5024                    Kit Pincéis           50         0   \n",
            "28       5029         Fone de Ouvido com Fio           50         0   \n",
            "27       5028            Carregador Portátil           50         0   \n",
            "26       5027           Organizador de Cabos           50         0   \n",
            "25       5026           Suporte para Monitor           50         0   \n",
            "24       5025          Mochila para Notebook           50         0   \n",
            "30       5031      Livro: Gestão de Projetos           50         0   \n",
            "29       5030                Adaptador USB-C           50         0   \n",
            "31       5032       Livro: Marketing Digital           50         0   \n",
            "10       5011            Headphone Bluetooth           50         1   \n",
            "12       5013                 Armário de Aço           50         1   \n",
            "0        5001             Notebook EliteBook           50         2   \n",
            "11       5012             Estante em Madeira           50        11   \n",
            "1        5002          Smartphone Galaxy S23           40         3   \n",
            "32       5033  Livro: Python para Iniciantes           50        13   \n",
            "38       5039                     Tablet 10\"           50        22   \n",
            "22       5023                 Serra Elétrica           50        23   \n",
            "35       5036                     Grampeador           50        24   \n",
            "4        5005            Monitor 24\" Full HD           50        25   \n",
            "3        5004             Cadeira Ergonômica           50        49   \n",
            "2        5003             Mesa de Escritório           50        58   \n",
            "8        5009                 HD Externo 1TB           50        75   \n",
            "\n",
            "    QTD ESTOQUE ATUALIZADO  \n",
            "6                      100  \n",
            "13                     100  \n",
            "5                       86  \n",
            "7                       50  \n",
            "15                      50  \n",
            "14                      50  \n",
            "9                       50  \n",
            "19                      50  \n",
            "33                      50  \n",
            "34                      50  \n",
            "37                      50  \n",
            "36                      50  \n",
            "39                      50  \n",
            "18                      50  \n",
            "17                      50  \n",
            "16                      50  \n",
            "20                      50  \n",
            "21                      50  \n",
            "23                      50  \n",
            "28                      50  \n",
            "27                      50  \n",
            "26                      50  \n",
            "25                      50  \n",
            "24                      50  \n",
            "30                      50  \n",
            "29                      50  \n",
            "31                      50  \n",
            "10                      49  \n",
            "12                      49  \n",
            "0                       48  \n",
            "11                      39  \n",
            "1                       37  \n",
            "32                      37  \n",
            "38                      28  \n",
            "22                      27  \n",
            "35                      26  \n",
            "4                       25  \n",
            "3                        1  \n",
            "2                       -8  \n",
            "8                      -25  \n"
          ]
        }
      ]
    },
    {
      "cell_type": "markdown",
      "source": [
        "O Estoque Parado\n",
        "Com base nos dados apresentados, a empresa possui R$ 198.572,00 em estoque parado — produtos que não foram vendidos e ocupam espaço no inventário. Para otimizar esse estoque e liberar recursos financeiros, é crucial implementar estratégias eficazes de vendas e gestão. Algumas ações possíveis incluem:\n",
        "\n",
        "Promoções e Descontos: Implementar promoções ou descontos específicos para esses produtos, criando um senso de urgência e incentivando os clientes a comprar itens que estão parados há mais tempo. Isso pode ajudar a movimentar rapidamente o estoque.\n",
        "\n",
        "Combos de Produtos: Criar combos ou kits de produtos, agrupando os itens de estoque parado com os mais populares. Essa estratégia pode tornar esses produtos mais atraentes e aumentar as vendas por impulso.\n",
        "\n",
        "Análise de Baixo Desempenho: Avaliar se esses produtos estão desatualizados ou se realmente não têm demanda. Caso necessário, considere descontinuá-los ou substituí-los por itens mais alinhados com as preferências do público-alvo.\n",
        "\n",
        "Marketing Direcionado: Desenvolver campanhas de marketing direcionado para esses produtos, destacando suas qualidades e benefícios. Ajustar os preços ou focar na necessidade do cliente pode ajudar a gerar maior interesse.\n",
        "\n",
        "Gestão de Estoque: Reavaliar o sistema de controle de estoque para garantir que produtos de baixa venda não fiquem acumulados por longos períodos, impedindo a sobrecarga de inventário no futuro.\n",
        "\n",
        "Essas ações visam não apenas liberar o espaço do estoque, mas também aumentar a rotatividade dos produtos, reduzindo a quantidade de estoque parado e, consequentemente, melhorando a rentabilidade da empresa."
      ],
      "metadata": {
        "id": "VTFrPYVUmxxp"
      }
    },
    {
      "cell_type": "markdown",
      "source": [
        " #11.Quais produtos e categorias apresentam maior e menor rentabilidade, e como podemos otimizar nossas estratégias de fornecimento e precificação para maximizar os lucros?"
      ],
      "metadata": {
        "id": "Q4pdOhTomzca"
      }
    },
    {
      "cell_type": "markdown",
      "source": [
        "Resumo para Resposta Final:\n",
        "1. Produtos Mais Rentáveis e Menos Rentáveis:\n",
        "\n",
        "Produtos Mais Rentáveis: Os produtos com maior margem de lucro total são Móveis e Eletrônicos, que apresentam os maiores valores de margem total no ranking. Produtos como Cadeira Ergonômica e Mesa de Escritório lideram as categorias, com altas margens tanto unitárias quanto totais.\n",
        "\n",
        "Produtos Menos Rentáveis: Papelaria, Livros e Ferramentas apresentam margens de lucro menores, com destaque para a Papelaria, que tem uma margem total muito baixa, indicando que esses produtos não estão contribuindo significativamente para o lucro da empresa.\n",
        "\n",
        "2. Análise de Estoque Parado:\n",
        "\n",
        "O estoque parado representa R$ 198.572,00 em produtos que não foram vendidos. Isso inclui itens como Mouse Gamer, Impressora Multifuncional e Webcam Full HD, com grandes quantidades e valores elevados. Esses produtos estão encalhados e não estão gerando receita.\n",
        "\n",
        "Estratégias para otimizar o estoque parado:\n",
        "\n",
        "Promoções e descontos para acelerar a venda desses itens.\n",
        "\n",
        "Combos de produtos ou kits com itens populares para aumentar a atratividade.\n",
        "\n",
        "Campanhas de marketing direcionado destacando as qualidades desses produtos.\n",
        "\n",
        "Avaliação de descontinuação para itens com baixa demanda.\n",
        "\n",
        "3. Otimização de Estratégias de Fornecimento e Precificação:\n",
        "\n",
        "Para os produtos que reduziram em estoque (vendas superiores ao estoque inicial), como Mesa de Escritório e HD Externo 1TB, estratégias como ajustes de fornecimento e preço dinâmico devem ser aplicadas. Isso inclui:\n",
        "\n",
        "Reforçar o fornecimento dos produtos de maior demanda.\n",
        "\n",
        "Ajustar preços para refletir a alta demanda e aumentar as margens.\n",
        "\n",
        "Fidelização de fornecedores para garantir maior competitividade em relação ao estoque de produtos mais vendidos.\n",
        "\n",
        "4. Produtos de Baixa Venda:\n",
        "\n",
        "Produtos não vendidos devem passar por estratégias de marketing específicas, como promoções relâmpago ou melhoria de visibilidade nas campanhas. Itens com estoque negativo indicam que houve uma boa venda de produtos que já estavam no estoque anterior, o que deve ser monitorado para garantir que novos pedidos não sobrecarreguem o inventário.\n",
        "\n",
        "Conclusão:\n",
        "Para maximizar os lucros, a empresa deve focar em estratégias de precificação dinâmica, promoções para mover estoque parado, e ajustes no fornecimento de produtos de alta demanda. Além disso, é crucial avaliar produtos com baixa rentabilidade e repensar sua viabilidade no portfólio."
      ],
      "metadata": {
        "id": "x9QGJqzRoZHu"
      }
    }
  ]
}