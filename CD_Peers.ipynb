{
  "nbformat": 4,
  "nbformat_minor": 0,
  "metadata": {
    "colab": {
      "provenance": [],
      "authorship_tag": "ABX9TyMoasLVGqa5RabPFR7Xv9iB",
      "include_colab_link": true
    },
    "kernelspec": {
      "name": "python3",
      "display_name": "Python 3"
    },
    "language_info": {
      "name": "python"
    }
  },
  "cells": [
    {
      "cell_type": "markdown",
      "metadata": {
        "id": "view-in-github",
        "colab_type": "text"
      },
      "source": [
        "<a href=\"https://colab.research.google.com/github/lucassenacode/ApiRestaurante/blob/main/CD_Peers.ipynb\" target=\"_parent\"><img src=\"https://colab.research.google.com/assets/colab-badge.svg\" alt=\"Open In Colab\"/></a>"
      ]
    },
    {
      "cell_type": "code",
      "execution_count": 36,
      "metadata": {
        "id": "MpD5ZHOoHgi-"
      },
      "outputs": [],
      "source": []
    },
    {
      "cell_type": "markdown",
      "source": [
        "# Análise de Rentabilidade e Otimização de Estratégias da Infomaz\n",
        "\n",
        "**Contexto:**\n",
        "A Infomaz, empresa especializada em artigos eletrônicos e de informática, tem observado mudanças significativas no comportamento de compra de seus clientes e variações nas vendas de algumas categorias de produtos. Para otimizar seu estoque, melhorar a relação com fornecedores e maximizar seus lucros, a empresa busca entender melhor esses padrões.\n",
        "\n",
        "**Objetivo:**\n",
        "Este projeto visa responder à seguinte questão: “Quais produtos e categorias apresentam maior e menor rentabilidade, e como podemos otimizar nossas estratégias de fornecimento e precificação para maximizar os lucros?”\n",
        "\n",
        "**Métricas a serem Calculadas:**\n",
        "\n",
        "1. Calcule o valor total de venda dos produtos por categoria. Utilize as tabelas `CADASTRO_PRODUTOS` e `TRANSACOES_VENDAS`.\n",
        "\n",
        "2. Calcule a margem dos produtos subtraindo o valor unitario pelo valor de venda. Utilize as tabelas `CADASTRO_ESTOQUE` e `TRANSACOES_VENDAS`.\n",
        "\n",
        "3. Calcule um ranking de clientes por quantidade de produtos comprados por mês. Utilize as tabelas `CADASTRO_CLIENTES` e `TRANSACOES_VENDAS`.\n",
        "\n",
        "4. Calcule um ranking de fornecedores por quantidade de estoque disponivel por mês. Utilize as tabelas `CADASTRO_FORNECEDORES` e `CADASTRO_ESTOQUE`.\n",
        "\n",
        "5. Calcule um ranking de produtos por quantidade de venda por mês. Utilize a tabela `TRANSACOES_VENDAS`.\n",
        "\n",
        "6. Calcule um ranking de produtos por valor de venda por mês. Utilize a tabela `TRANSACOES_VENDAS`.\n",
        "\n",
        "7. Calcule a média de valor de venda por categoria de produto por mês. Utiliza as tabelas `CADASTRO_PRODUTOS` e `TRANSACOES_VENDAS`.\n",
        "\n",
        "8. Calcule um ranking de margem de lucro por categoria\n",
        "\n",
        "9. Liste produtos comprados por clientes\n",
        "\n",
        "10. Ranking de produtos por quantidade de estoque\n",
        "\n"
      ],
      "metadata": {
        "id": "g-5ODoFgIjEu"
      }
    },
    {
      "cell_type": "code",
      "source": [],
      "metadata": {
        "id": "C4gpjpSbIzNd"
      },
      "execution_count": 36,
      "outputs": []
    },
    {
      "cell_type": "markdown",
      "source": [
        "# Importação das bibliotecas necessárias\n"
      ],
      "metadata": {
        "id": "fjLORFhEI1uI"
      }
    },
    {
      "cell_type": "code",
      "source": [
        "import pandas as pd\n",
        "import numpy as np"
      ],
      "metadata": {
        "id": "NlfDyORKI6BD"
      },
      "execution_count": 37,
      "outputs": []
    },
    {
      "cell_type": "markdown",
      "source": [
        "#Importando e Processando os Dados de Vendas"
      ],
      "metadata": {
        "id": "aNfm8HNhKT-m"
      }
    },
    {
      "cell_type": "code",
      "source": [
        "import pandas as pd\n",
        "\n",
        "# Carregar o arquivo Excel como ExcelFile\n",
        "arquivo = pd.ExcelFile(\"Case_Infomaz_Base_de_Dados.xlsx\")\n",
        "\n",
        "# Listar os nomes das abas\n",
        "print(arquivo.sheet_names)"
      ],
      "metadata": {
        "colab": {
          "base_uri": "https://localhost:8080/"
        },
        "id": "CqlIeP_4KWSW",
        "outputId": "e5dd9299-e01d-446a-e16b-7472db6799b9"
      },
      "execution_count": 38,
      "outputs": [
        {
          "output_type": "stream",
          "name": "stdout",
          "text": [
            "['Orientações', 'Guia', 'Cadastro Produtos', 'Cadastro Clientes', 'Cadastro de Estoque', 'Cadastro Fornecedores', 'Transações Vendas']\n"
          ]
        }
      ]
    },
    {
      "cell_type": "code",
      "source": [
        "# Carregar as abas desejadas em DataFrames separados\n",
        "df_produtos = pd.read_excel(arquivo, sheet_name=\"Cadastro Produtos\")\n",
        "print(\"--- CADASTRO_PRODUTOS ---\")\n",
        "print(df_produtos.head())\n",
        "print(df_produtos.info())"
      ],
      "metadata": {
        "colab": {
          "base_uri": "https://localhost:8080/"
        },
        "id": "UAT_JnG1MCRZ",
        "outputId": "381601a3-c486-490d-b33c-7c6885c54f05"
      },
      "execution_count": 39,
      "outputs": [
        {
          "output_type": "stream",
          "name": "stdout",
          "text": [
            "--- CADASTRO_PRODUTOS ---\n",
            "     TABELA 1 CADASTRO PRODUTOS             Unnamed: 2   Unnamed: 3\n",
            "0  ID PRODUTO        ID ESTOQUE           NOME PRODUTO    CATEGORIA\n",
            "1        1001              5001     Notebook EliteBook  Eletrônicos\n",
            "2        1002              5002  Smartphone Galaxy S23  Eletrônicos\n",
            "3        1003              5003     Mesa de Escritório       Móveis\n",
            "4        1004              5004     Cadeira Ergonômica       Móveis\n",
            "<class 'pandas.core.frame.DataFrame'>\n",
            "RangeIndex: 41 entries, 0 to 40\n",
            "Data columns (total 4 columns):\n",
            " #   Column             Non-Null Count  Dtype \n",
            "---  ------             --------------  ----- \n",
            " 0   TABELA 1           41 non-null     object\n",
            " 1   CADASTRO PRODUTOS  41 non-null     object\n",
            " 2   Unnamed: 2         41 non-null     object\n",
            " 3   Unnamed: 3         41 non-null     object\n",
            "dtypes: object(4)\n",
            "memory usage: 1.4+ KB\n",
            "None\n"
          ]
        }
      ]
    },
    {
      "cell_type": "code",
      "source": [
        "# Ler novamente a aba 'Cadastro Produtos', especificando o cabeçalho na linha correta\n",
        "df_produtos = pd.read_excel(arquivo, sheet_name=\"Cadastro Produtos\", header=0)\n",
        "\n",
        "# Renomear as colunas para facilitar o trabalho\n",
        "df_produtos.columns = ['ID PRODUTO', 'ID ESTOQUE', 'NOME PRODUTO', 'CATEGORIA']\n",
        "\n",
        "# Verificar o DataFrame corrigido\n",
        "print(\"--- CADASTRO_PRODUTOS ---\")\n",
        "print(df_produtos.head())\n",
        "print(df_produtos.info())"
      ],
      "metadata": {
        "colab": {
          "base_uri": "https://localhost:8080/"
        },
        "id": "CuTspmlLQoWF",
        "outputId": "45b09cd0-7bc6-47f0-cfb7-e403e6753cb3"
      },
      "execution_count": 40,
      "outputs": [
        {
          "output_type": "stream",
          "name": "stdout",
          "text": [
            "--- CADASTRO_PRODUTOS ---\n",
            "   ID PRODUTO  ID ESTOQUE           NOME PRODUTO    CATEGORIA\n",
            "0  ID PRODUTO  ID ESTOQUE           NOME PRODUTO    CATEGORIA\n",
            "1        1001        5001     Notebook EliteBook  Eletrônicos\n",
            "2        1002        5002  Smartphone Galaxy S23  Eletrônicos\n",
            "3        1003        5003     Mesa de Escritório       Móveis\n",
            "4        1004        5004     Cadeira Ergonômica       Móveis\n",
            "<class 'pandas.core.frame.DataFrame'>\n",
            "RangeIndex: 41 entries, 0 to 40\n",
            "Data columns (total 4 columns):\n",
            " #   Column        Non-Null Count  Dtype \n",
            "---  ------        --------------  ----- \n",
            " 0   ID PRODUTO    41 non-null     object\n",
            " 1   ID ESTOQUE    41 non-null     object\n",
            " 2   NOME PRODUTO  41 non-null     object\n",
            " 3   CATEGORIA     41 non-null     object\n",
            "dtypes: object(4)\n",
            "memory usage: 1.4+ KB\n",
            "None\n"
          ]
        }
      ]
    },
    {
      "cell_type": "code",
      "source": [
        "df_clientes = pd.read_excel(arquivo, sheet_name=\"Cadastro Clientes\")\n",
        "print(\"\\n--- CADASTRO_CLIENTES ---\")\n",
        "print(df_clientes.head())\n",
        "print(df_clientes.info())"
      ],
      "metadata": {
        "colab": {
          "base_uri": "https://localhost:8080/"
        },
        "id": "6J-IIJC-Mpa8",
        "outputId": "bbbc0f52-fa7f-48f2-969d-5296bf21e4a5"
      },
      "execution_count": 41,
      "outputs": [
        {
          "output_type": "stream",
          "name": "stdout",
          "text": [
            "\n",
            "--- CADASTRO_CLIENTES ---\n",
            "     TABELA 2       CADASTRO CLIENTES           Unnamed: 2\n",
            "0  ID CLIENTE            NOME CLIENTE        DATA CADASTRO\n",
            "1        2001      João Silva Almeida  2022-03-15 00:00:00\n",
            "2        2002   Maria Oliveira Santos  2021-05-22 00:00:00\n",
            "3        2003  Carlos Eduardo Pereira  2023-01-10 00:00:00\n",
            "4        2004    Ana Paula Costa Lima  2020-11-03 00:00:00\n",
            "<class 'pandas.core.frame.DataFrame'>\n",
            "RangeIndex: 41 entries, 0 to 40\n",
            "Data columns (total 3 columns):\n",
            " #   Column             Non-Null Count  Dtype \n",
            "---  ------             --------------  ----- \n",
            " 0   TABELA 2           41 non-null     object\n",
            " 1   CADASTRO CLIENTES  41 non-null     object\n",
            " 2   Unnamed: 2         41 non-null     object\n",
            "dtypes: object(3)\n",
            "memory usage: 1.1+ KB\n",
            "None\n"
          ]
        }
      ]
    },
    {
      "cell_type": "code",
      "source": [
        "# Ler novamente a aba 'Cadastro Clientes', especificando o cabeçalho na linha correta\n",
        "df_clientes = pd.read_excel(arquivo, sheet_name=\"Cadastro Clientes\", header=0)\n",
        "\n",
        "# Renomear as colunas\n",
        "df_clientes.columns = ['ID CLIENTE', 'NOME CLIENTE', 'DATA CADASTRO']\n",
        "\n",
        "# Verificar o DataFrame corrigido\n",
        "print(\"\\n--- CADASTRO_CLIENTES ---\")\n",
        "print(df_clientes.head())\n",
        "print(df_clientes.info())"
      ],
      "metadata": {
        "colab": {
          "base_uri": "https://localhost:8080/"
        },
        "id": "wOVHadYSSYAs",
        "outputId": "cfe907bf-daf9-4a30-cf64-b23a3ae1d505"
      },
      "execution_count": 42,
      "outputs": [
        {
          "output_type": "stream",
          "name": "stdout",
          "text": [
            "\n",
            "--- CADASTRO_CLIENTES ---\n",
            "   ID CLIENTE            NOME CLIENTE        DATA CADASTRO\n",
            "0  ID CLIENTE            NOME CLIENTE        DATA CADASTRO\n",
            "1        2001      João Silva Almeida  2022-03-15 00:00:00\n",
            "2        2002   Maria Oliveira Santos  2021-05-22 00:00:00\n",
            "3        2003  Carlos Eduardo Pereira  2023-01-10 00:00:00\n",
            "4        2004    Ana Paula Costa Lima  2020-11-03 00:00:00\n",
            "<class 'pandas.core.frame.DataFrame'>\n",
            "RangeIndex: 41 entries, 0 to 40\n",
            "Data columns (total 3 columns):\n",
            " #   Column         Non-Null Count  Dtype \n",
            "---  ------         --------------  ----- \n",
            " 0   ID CLIENTE     41 non-null     object\n",
            " 1   NOME CLIENTE   41 non-null     object\n",
            " 2   DATA CADASTRO  41 non-null     object\n",
            "dtypes: object(3)\n",
            "memory usage: 1.1+ KB\n",
            "None\n"
          ]
        }
      ]
    },
    {
      "cell_type": "code",
      "source": [
        "df_estoque = pd.read_excel(arquivo, sheet_name=\"Cadastro de Estoque\")\n",
        "print(\"\\n--- CADASTRO_ESTOQUE ---\")\n",
        "print(df_estoque.head())\n",
        "print(df_estoque.info())"
      ],
      "metadata": {
        "colab": {
          "base_uri": "https://localhost:8080/"
        },
        "id": "Yz-q4mMLMrHX",
        "outputId": "5d3d48cc-e114-4fb9-e3a2-a1a2a4682117"
      },
      "execution_count": 43,
      "outputs": [
        {
          "output_type": "stream",
          "name": "stdout",
          "text": [
            "\n",
            "--- CADASTRO_ESTOQUE ---\n",
            "     TABELA 4 CADASTRO ESTOQUE   Unnamed: 2           Unnamed: 3  \\\n",
            "0  ID ESTOQUE    VALOR ESTOQUE  QTD ESTOQUE         DATA ESTOQUE   \n",
            "1        5001           171996           50  2023-03-01 00:00:00   \n",
            "2        5002           124768           40  2023-02-15 00:00:00   \n",
            "3        5003            35980           50  2023-01-10 00:00:00   \n",
            "4        5004            51960           50  2023-04-05 00:00:00   \n",
            "\n",
            "      Unnamed: 4  \n",
            "0  ID FORNECEDOR  \n",
            "1           F100  \n",
            "2           F105  \n",
            "3           F110  \n",
            "4           F115  \n",
            "<class 'pandas.core.frame.DataFrame'>\n",
            "RangeIndex: 41 entries, 0 to 40\n",
            "Data columns (total 5 columns):\n",
            " #   Column            Non-Null Count  Dtype \n",
            "---  ------            --------------  ----- \n",
            " 0   TABELA 4          41 non-null     object\n",
            " 1   CADASTRO ESTOQUE  41 non-null     object\n",
            " 2   Unnamed: 2        41 non-null     object\n",
            " 3   Unnamed: 3        41 non-null     object\n",
            " 4   Unnamed: 4        41 non-null     object\n",
            "dtypes: object(5)\n",
            "memory usage: 1.7+ KB\n",
            "None\n"
          ]
        }
      ]
    },
    {
      "cell_type": "code",
      "source": [
        "# Ler novamente a aba 'Cadastro de Estoque', especificando o cabeçalho na linha correta\n",
        "df_estoque = pd.read_excel(arquivo, sheet_name=\"Cadastro de Estoque\", header=0)\n",
        "\n",
        "# Renomear as colunas\n",
        "df_estoque.columns = ['ID ESTOQUE', 'VALOR ESTOQUE', 'QTD ESTOQUE', 'DATA ESTOQUE', 'ID FORNECEDOR']\n",
        "\n",
        "# Verificar o DataFrame corrigido\n",
        "print(\"\\n--- CADASTRO_ESTOQUE ---\")\n",
        "print(df_estoque.head())\n",
        "print(df_estoque.info())"
      ],
      "metadata": {
        "colab": {
          "base_uri": "https://localhost:8080/"
        },
        "id": "224-kqdcSedf",
        "outputId": "50e90ec8-becd-4caa-d3fb-b9b2673c52c4"
      },
      "execution_count": 44,
      "outputs": [
        {
          "output_type": "stream",
          "name": "stdout",
          "text": [
            "\n",
            "--- CADASTRO_ESTOQUE ---\n",
            "   ID ESTOQUE  VALOR ESTOQUE  QTD ESTOQUE         DATA ESTOQUE  ID FORNECEDOR\n",
            "0  ID ESTOQUE  VALOR ESTOQUE  QTD ESTOQUE         DATA ESTOQUE  ID FORNECEDOR\n",
            "1        5001         171996           50  2023-03-01 00:00:00           F100\n",
            "2        5002         124768           40  2023-02-15 00:00:00           F105\n",
            "3        5003          35980           50  2023-01-10 00:00:00           F110\n",
            "4        5004          51960           50  2023-04-05 00:00:00           F115\n",
            "<class 'pandas.core.frame.DataFrame'>\n",
            "RangeIndex: 41 entries, 0 to 40\n",
            "Data columns (total 5 columns):\n",
            " #   Column         Non-Null Count  Dtype \n",
            "---  ------         --------------  ----- \n",
            " 0   ID ESTOQUE     41 non-null     object\n",
            " 1   VALOR ESTOQUE  41 non-null     object\n",
            " 2   QTD ESTOQUE    41 non-null     object\n",
            " 3   DATA ESTOQUE   41 non-null     object\n",
            " 4   ID FORNECEDOR  41 non-null     object\n",
            "dtypes: object(5)\n",
            "memory usage: 1.7+ KB\n",
            "None\n"
          ]
        }
      ]
    },
    {
      "cell_type": "code",
      "source": [
        "df_fornecedores = pd.read_excel(arquivo, sheet_name=\"Cadastro Fornecedores\")\n",
        "print(\"\\n--- CADASTRO_FORNECEDORES ---\")\n",
        "print(df_fornecedores.head())\n",
        "print(df_fornecedores.info())"
      ],
      "metadata": {
        "colab": {
          "base_uri": "https://localhost:8080/"
        },
        "id": "I2UmbiJsMyr_",
        "outputId": "adf44b9c-043e-4c11-e321-e62b9a4d5cb3"
      },
      "execution_count": 45,
      "outputs": [
        {
          "output_type": "stream",
          "name": "stdout",
          "text": [
            "\n",
            "--- CADASTRO_FORNECEDORES ---\n",
            "        TABELA 5      CADASTRO FORNECEDORES           Unnamed: 2\n",
            "0  ID FORNECEDOR            NOME FORNECEDOR        DATA CADASTRO\n",
            "1           F100  Eletrônicos Nacional Ltda  2020-01-15 00:00:00\n",
            "2           F105           TecnoImport S.A.  2019-03-22 00:00:00\n",
            "3           F110   Móveis Premium Indústria  2018-11-08 00:00:00\n",
            "4           F115        DecoraHome Comércio  2021-05-30 00:00:00\n",
            "<class 'pandas.core.frame.DataFrame'>\n",
            "RangeIndex: 13 entries, 0 to 12\n",
            "Data columns (total 3 columns):\n",
            " #   Column                 Non-Null Count  Dtype \n",
            "---  ------                 --------------  ----- \n",
            " 0   TABELA 5               13 non-null     object\n",
            " 1   CADASTRO FORNECEDORES  13 non-null     object\n",
            " 2   Unnamed: 2             13 non-null     object\n",
            "dtypes: object(3)\n",
            "memory usage: 444.0+ bytes\n",
            "None\n"
          ]
        }
      ]
    },
    {
      "cell_type": "code",
      "source": [
        "# Ler novamente a aba 'Cadastro Fornecedores', especificando o cabeçalho na linha correta\n",
        "df_fornecedores = pd.read_excel(arquivo, sheet_name=\"Cadastro Fornecedores\", header=0)\n",
        "\n",
        "# Renomear as colunas\n",
        "df_fornecedores.columns = ['ID FORNECEDOR', 'NOME FORNECEDOR', 'DATA CADASTRO']\n",
        "\n",
        "# Verificar o DataFrame corrigido\n",
        "print(\"\\n--- CADASTRO_FORNECEDORES ---\")\n",
        "print(df_fornecedores.head())\n",
        "print(df_fornecedores.info())"
      ],
      "metadata": {
        "colab": {
          "base_uri": "https://localhost:8080/"
        },
        "id": "jxRgsex3Shhp",
        "outputId": "7fc4ac3a-180f-4978-a66f-130bf240f757"
      },
      "execution_count": 46,
      "outputs": [
        {
          "output_type": "stream",
          "name": "stdout",
          "text": [
            "\n",
            "--- CADASTRO_FORNECEDORES ---\n",
            "   ID FORNECEDOR            NOME FORNECEDOR        DATA CADASTRO\n",
            "0  ID FORNECEDOR            NOME FORNECEDOR        DATA CADASTRO\n",
            "1           F100  Eletrônicos Nacional Ltda  2020-01-15 00:00:00\n",
            "2           F105           TecnoImport S.A.  2019-03-22 00:00:00\n",
            "3           F110   Móveis Premium Indústria  2018-11-08 00:00:00\n",
            "4           F115        DecoraHome Comércio  2021-05-30 00:00:00\n",
            "<class 'pandas.core.frame.DataFrame'>\n",
            "RangeIndex: 13 entries, 0 to 12\n",
            "Data columns (total 3 columns):\n",
            " #   Column           Non-Null Count  Dtype \n",
            "---  ------           --------------  ----- \n",
            " 0   ID FORNECEDOR    13 non-null     object\n",
            " 1   NOME FORNECEDOR  13 non-null     object\n",
            " 2   DATA CADASTRO    13 non-null     object\n",
            "dtypes: object(3)\n",
            "memory usage: 444.0+ bytes\n",
            "None\n"
          ]
        }
      ]
    },
    {
      "cell_type": "code",
      "source": [
        "df_vendas = pd.read_excel(arquivo, sheet_name=\"Transações Vendas\")\n",
        "print(\"\\n--- TRANSACOES_VENDAS ---\")\n",
        "print(df_vendas.head())\n",
        "print(df_vendas.info())"
      ],
      "metadata": {
        "colab": {
          "base_uri": "https://localhost:8080/"
        },
        "id": "EEi1XPBUM776",
        "outputId": "b7dfbcb0-b885-429c-80d2-c303443ef9f0"
      },
      "execution_count": 47,
      "outputs": [
        {
          "output_type": "stream",
          "name": "stdout",
          "text": [
            "\n",
            "--- TRANSACOES_VENDAS ---\n",
            "  TABELA 3 TRANSAÇÕES NOTAS DE VENDAS  Unnamed: 2  Unnamed: 3 Unnamed: 4  \\\n",
            "0  ID NOTA                  DATA NOTA  VALOR NOTA  VALOR ITEM   QTD ITEM   \n",
            "1     3001        2023-03-05 00:00:00      4299.9      4299.9          1   \n",
            "2     3002        2023-03-12 00:00:00      5798.9        3899          1   \n",
            "3     3002        2023-03-12 00:00:00      5798.9        1899          1   \n",
            "4     3003        2023-03-18 00:00:00      1028.8       129.9          1   \n",
            "\n",
            "   Unnamed: 5  Unnamed: 6  \n",
            "0  ID PRODUTO  ID CLIENTE  \n",
            "1        1001        2015  \n",
            "2        1002        2003  \n",
            "3        1013        2003  \n",
            "4        1006        2028  \n",
            "<class 'pandas.core.frame.DataFrame'>\n",
            "RangeIndex: 237 entries, 0 to 236\n",
            "Data columns (total 7 columns):\n",
            " #   Column                      Non-Null Count  Dtype \n",
            "---  ------                      --------------  ----- \n",
            " 0   TABELA 3                    237 non-null    object\n",
            " 1   TRANSAÇÕES NOTAS DE VENDAS  237 non-null    object\n",
            " 2   Unnamed: 2                  237 non-null    object\n",
            " 3   Unnamed: 3                  237 non-null    object\n",
            " 4   Unnamed: 4                  237 non-null    object\n",
            " 5   Unnamed: 5                  237 non-null    object\n",
            " 6   Unnamed: 6                  237 non-null    object\n",
            "dtypes: object(7)\n",
            "memory usage: 13.1+ KB\n",
            "None\n"
          ]
        }
      ]
    },
    {
      "cell_type": "code",
      "source": [
        "# Ler novamente a aba 'Transações Vendas', especificando o cabeçalho na linha correta\n",
        "df_vendas = pd.read_excel(arquivo, sheet_name=\"Transações Vendas\", header=0)\n",
        "\n",
        "# Renomear as colunas\n",
        "df_vendas.columns = ['ID NOTA', 'DATA NOTA', 'VALOR NOTA', 'VALOR ITEM', 'QTD ITEM', 'ID PRODUTO', 'ID CLIENTE']\n",
        "\n",
        "# Verificar o DataFrame corrigido\n",
        "print(\"\\n--- TRANSACOES_VENDAS ---\")\n",
        "print(df_vendas.head())\n",
        "print(df_vendas.info())"
      ],
      "metadata": {
        "colab": {
          "base_uri": "https://localhost:8080/"
        },
        "id": "i0w_lHbXNBGj",
        "outputId": "94a4e857-c270-48ac-b59d-af32dda20629"
      },
      "execution_count": 48,
      "outputs": [
        {
          "output_type": "stream",
          "name": "stdout",
          "text": [
            "\n",
            "--- TRANSACOES_VENDAS ---\n",
            "   ID NOTA            DATA NOTA  VALOR NOTA  VALOR ITEM  QTD ITEM  ID PRODUTO  \\\n",
            "0  ID NOTA            DATA NOTA  VALOR NOTA  VALOR ITEM  QTD ITEM  ID PRODUTO   \n",
            "1     3001  2023-03-05 00:00:00      4299.9      4299.9         1        1001   \n",
            "2     3002  2023-03-12 00:00:00      5798.9        3899         1        1002   \n",
            "3     3002  2023-03-12 00:00:00      5798.9        1899         1        1013   \n",
            "4     3003  2023-03-18 00:00:00      1028.8       129.9         1        1006   \n",
            "\n",
            "   ID CLIENTE  \n",
            "0  ID CLIENTE  \n",
            "1        2015  \n",
            "2        2003  \n",
            "3        2003  \n",
            "4        2028  \n",
            "<class 'pandas.core.frame.DataFrame'>\n",
            "RangeIndex: 237 entries, 0 to 236\n",
            "Data columns (total 7 columns):\n",
            " #   Column      Non-Null Count  Dtype \n",
            "---  ------      --------------  ----- \n",
            " 0   ID NOTA     237 non-null    object\n",
            " 1   DATA NOTA   237 non-null    object\n",
            " 2   VALOR NOTA  237 non-null    object\n",
            " 3   VALOR ITEM  237 non-null    object\n",
            " 4   QTD ITEM    237 non-null    object\n",
            " 5   ID PRODUTO  237 non-null    object\n",
            " 6   ID CLIENTE  237 non-null    object\n",
            "dtypes: object(7)\n",
            "memory usage: 13.1+ KB\n",
            "None\n"
          ]
        }
      ]
    },
    {
      "cell_type": "markdown",
      "source": [],
      "metadata": {
        "id": "zVh3JPsXStRd"
      }
    },
    {
      "cell_type": "markdown",
      "source": [
        "#1. Calcule o valor total de venda dos produtos por categoria. Utilize as tabelas `CADASTRO_PRODUTOS` e `TRANSACOES_VENDAS`."
      ],
      "metadata": {
        "id": "0lFg1Q4US7Iy"
      }
    },
    {
      "cell_type": "code",
      "source": [
        "# Para ver as categorias únicas\n",
        "print(df_produtos['CATEGORIA'].unique())"
      ],
      "metadata": {
        "colab": {
          "base_uri": "https://localhost:8080/"
        },
        "id": "iSpWWYEjS9RP",
        "outputId": "92bbe95c-a4d9-46fa-db70-59a57b21f926"
      },
      "execution_count": 49,
      "outputs": [
        {
          "output_type": "stream",
          "name": "stdout",
          "text": [
            "['CATEGORIA' 'Eletrônicos' 'Móveis' 'Decoração' 'Eletrodomésticos'\n",
            " 'Ferramentas' 'Acessórios' 'Livros' 'Papelaria']\n"
          ]
        }
      ]
    },
    {
      "cell_type": "code",
      "source": [
        "# Fazendo o merge de df_vendas com df_produtos\n",
        "df_vendas_com_categorias = pd.merge(df_vendas, df_produtos[['ID PRODUTO', 'CATEGORIA']], on='ID PRODUTO', how='inner')\n",
        "\n",
        "# Verificando o DataFrame resultante\n",
        "print(\"\\n--- DF_VENDAS COM CATEGORIAS ---\")\n",
        "print(df_vendas_com_categorias.head())\n",
        "print(df_vendas_com_categorias.info())"
      ],
      "metadata": {
        "colab": {
          "base_uri": "https://localhost:8080/"
        },
        "id": "RDJzNWZ3YmX8",
        "outputId": "9ea87f36-e7df-4c09-9378-2d9cab394f08"
      },
      "execution_count": 50,
      "outputs": [
        {
          "output_type": "stream",
          "name": "stdout",
          "text": [
            "\n",
            "--- DF_VENDAS COM CATEGORIAS ---\n",
            "   ID NOTA            DATA NOTA  VALOR NOTA  VALOR ITEM  QTD ITEM  ID PRODUTO  \\\n",
            "0  ID NOTA            DATA NOTA  VALOR NOTA  VALOR ITEM  QTD ITEM  ID PRODUTO   \n",
            "1     3001  2023-03-05 00:00:00      4299.9      4299.9         1        1001   \n",
            "2     3002  2023-03-12 00:00:00      5798.9        3899         1        1002   \n",
            "3     3002  2023-03-12 00:00:00      5798.9        1899         1        1013   \n",
            "4     3003  2023-03-18 00:00:00      1028.8       129.9         1        1006   \n",
            "\n",
            "   ID CLIENTE    CATEGORIA  \n",
            "0  ID CLIENTE    CATEGORIA  \n",
            "1        2015  Eletrônicos  \n",
            "2        2003  Eletrônicos  \n",
            "3        2003       Móveis  \n",
            "4        2028  Eletrônicos  \n",
            "<class 'pandas.core.frame.DataFrame'>\n",
            "RangeIndex: 237 entries, 0 to 236\n",
            "Data columns (total 8 columns):\n",
            " #   Column      Non-Null Count  Dtype \n",
            "---  ------      --------------  ----- \n",
            " 0   ID NOTA     237 non-null    object\n",
            " 1   DATA NOTA   237 non-null    object\n",
            " 2   VALOR NOTA  237 non-null    object\n",
            " 3   VALOR ITEM  237 non-null    object\n",
            " 4   QTD ITEM    237 non-null    object\n",
            " 5   ID PRODUTO  237 non-null    object\n",
            " 6   ID CLIENTE  237 non-null    object\n",
            " 7   CATEGORIA   237 non-null    object\n",
            "dtypes: object(8)\n",
            "memory usage: 14.9+ KB\n",
            "None\n"
          ]
        }
      ]
    },
    {
      "cell_type": "code",
      "source": [
        "# Agrupando por categoria e somando o valor total de venda\n",
        "vendas_por_categoria = df_vendas_com_categorias.groupby('CATEGORIA')['VALOR ITEM'].sum()\n",
        "\n",
        "# Exibindo o resultado\n",
        "print(\"\\n--- VALOR TOTAL DE VENDAS POR CATEGORIA ---\")\n",
        "print(vendas_por_categoria)\n",
        "\n",
        "# Ordenando do maior para o menor\n",
        "vendas_por_categoria_ordenado = vendas_por_categoria.sort_values(ascending=False)\n",
        "\n",
        "print(\"\\n--- VALOR TOTAL DE VENDAS POR CATEGORIA (Ordenado) ---\")\n",
        "print(vendas_por_categoria_ordenado)"
      ],
      "metadata": {
        "colab": {
          "base_uri": "https://localhost:8080/",
          "height": 530
        },
        "id": "B-Y-7uPCY08c",
        "outputId": "c8ce1bb8-a726-4567-db21-3de821324e64"
      },
      "execution_count": 51,
      "outputs": [
        {
          "output_type": "stream",
          "name": "stdout",
          "text": [
            "\n",
            "--- VALOR TOTAL DE VENDAS POR CATEGORIA ---\n",
            "CATEGORIA\n",
            "CATEGORIA      VALOR ITEM\n",
            "Eletrônicos       78908.1\n",
            "Ferramentas       14717.7\n",
            "Livros            12998.7\n",
            "Móveis            90934.0\n",
            "Papelaria           477.6\n",
            "Name: VALOR ITEM, dtype: object\n"
          ]
        },
        {
          "output_type": "error",
          "ename": "TypeError",
          "evalue": "'<' not supported between instances of 'str' and 'float'",
          "traceback": [
            "\u001b[0;31m---------------------------------------------------------------------------\u001b[0m",
            "\u001b[0;31mTypeError\u001b[0m                                 Traceback (most recent call last)",
            "\u001b[0;32m<ipython-input-51-283c449daf7a>\u001b[0m in \u001b[0;36m<cell line: 0>\u001b[0;34m()\u001b[0m\n\u001b[1;32m      7\u001b[0m \u001b[0;34m\u001b[0m\u001b[0m\n\u001b[1;32m      8\u001b[0m \u001b[0;31m# Ordenando do maior para o menor\u001b[0m\u001b[0;34m\u001b[0m\u001b[0;34m\u001b[0m\u001b[0m\n\u001b[0;32m----> 9\u001b[0;31m \u001b[0mvendas_por_categoria_ordenado\u001b[0m \u001b[0;34m=\u001b[0m \u001b[0mvendas_por_categoria\u001b[0m\u001b[0;34m.\u001b[0m\u001b[0msort_values\u001b[0m\u001b[0;34m(\u001b[0m\u001b[0mascending\u001b[0m\u001b[0;34m=\u001b[0m\u001b[0;32mFalse\u001b[0m\u001b[0;34m)\u001b[0m\u001b[0;34m\u001b[0m\u001b[0;34m\u001b[0m\u001b[0m\n\u001b[0m\u001b[1;32m     10\u001b[0m \u001b[0;34m\u001b[0m\u001b[0m\n\u001b[1;32m     11\u001b[0m \u001b[0mprint\u001b[0m\u001b[0;34m(\u001b[0m\u001b[0;34m\"\\n--- VALOR TOTAL DE VENDAS POR CATEGORIA (Ordenado) ---\"\u001b[0m\u001b[0;34m)\u001b[0m\u001b[0;34m\u001b[0m\u001b[0;34m\u001b[0m\u001b[0m\n",
            "\u001b[0;32m/usr/local/lib/python3.11/dist-packages/pandas/core/series.py\u001b[0m in \u001b[0;36msort_values\u001b[0;34m(self, axis, ascending, inplace, kind, na_position, ignore_index, key)\u001b[0m\n\u001b[1;32m   3867\u001b[0m         \u001b[0;32melse\u001b[0m\u001b[0;34m:\u001b[0m\u001b[0;34m\u001b[0m\u001b[0;34m\u001b[0m\u001b[0m\n\u001b[1;32m   3868\u001b[0m             \u001b[0mvalues_to_sort\u001b[0m \u001b[0;34m=\u001b[0m \u001b[0mself\u001b[0m\u001b[0;34m.\u001b[0m\u001b[0m_values\u001b[0m\u001b[0;34m\u001b[0m\u001b[0;34m\u001b[0m\u001b[0m\n\u001b[0;32m-> 3869\u001b[0;31m         \u001b[0msorted_index\u001b[0m \u001b[0;34m=\u001b[0m \u001b[0mnargsort\u001b[0m\u001b[0;34m(\u001b[0m\u001b[0mvalues_to_sort\u001b[0m\u001b[0;34m,\u001b[0m \u001b[0mkind\u001b[0m\u001b[0;34m,\u001b[0m \u001b[0mbool\u001b[0m\u001b[0;34m(\u001b[0m\u001b[0mascending\u001b[0m\u001b[0;34m)\u001b[0m\u001b[0;34m,\u001b[0m \u001b[0mna_position\u001b[0m\u001b[0;34m)\u001b[0m\u001b[0;34m\u001b[0m\u001b[0;34m\u001b[0m\u001b[0m\n\u001b[0m\u001b[1;32m   3870\u001b[0m \u001b[0;34m\u001b[0m\u001b[0m\n\u001b[1;32m   3871\u001b[0m         \u001b[0;32mif\u001b[0m \u001b[0mis_range_indexer\u001b[0m\u001b[0;34m(\u001b[0m\u001b[0msorted_index\u001b[0m\u001b[0;34m,\u001b[0m \u001b[0mlen\u001b[0m\u001b[0;34m(\u001b[0m\u001b[0msorted_index\u001b[0m\u001b[0;34m)\u001b[0m\u001b[0;34m)\u001b[0m\u001b[0;34m:\u001b[0m\u001b[0;34m\u001b[0m\u001b[0;34m\u001b[0m\u001b[0m\n",
            "\u001b[0;32m/usr/local/lib/python3.11/dist-packages/pandas/core/sorting.py\u001b[0m in \u001b[0;36mnargsort\u001b[0;34m(items, kind, ascending, na_position, key, mask)\u001b[0m\n\u001b[1;32m    437\u001b[0m         \u001b[0mnon_nans\u001b[0m \u001b[0;34m=\u001b[0m \u001b[0mnon_nans\u001b[0m\u001b[0;34m[\u001b[0m\u001b[0;34m:\u001b[0m\u001b[0;34m:\u001b[0m\u001b[0;34m-\u001b[0m\u001b[0;36m1\u001b[0m\u001b[0;34m]\u001b[0m\u001b[0;34m\u001b[0m\u001b[0;34m\u001b[0m\u001b[0m\n\u001b[1;32m    438\u001b[0m         \u001b[0mnon_nan_idx\u001b[0m \u001b[0;34m=\u001b[0m \u001b[0mnon_nan_idx\u001b[0m\u001b[0;34m[\u001b[0m\u001b[0;34m:\u001b[0m\u001b[0;34m:\u001b[0m\u001b[0;34m-\u001b[0m\u001b[0;36m1\u001b[0m\u001b[0;34m]\u001b[0m\u001b[0;34m\u001b[0m\u001b[0;34m\u001b[0m\u001b[0m\n\u001b[0;32m--> 439\u001b[0;31m     \u001b[0mindexer\u001b[0m \u001b[0;34m=\u001b[0m \u001b[0mnon_nan_idx\u001b[0m\u001b[0;34m[\u001b[0m\u001b[0mnon_nans\u001b[0m\u001b[0;34m.\u001b[0m\u001b[0margsort\u001b[0m\u001b[0;34m(\u001b[0m\u001b[0mkind\u001b[0m\u001b[0;34m=\u001b[0m\u001b[0mkind\u001b[0m\u001b[0;34m)\u001b[0m\u001b[0;34m]\u001b[0m\u001b[0;34m\u001b[0m\u001b[0;34m\u001b[0m\u001b[0m\n\u001b[0m\u001b[1;32m    440\u001b[0m     \u001b[0;32mif\u001b[0m \u001b[0;32mnot\u001b[0m \u001b[0mascending\u001b[0m\u001b[0;34m:\u001b[0m\u001b[0;34m\u001b[0m\u001b[0;34m\u001b[0m\u001b[0m\n\u001b[1;32m    441\u001b[0m         \u001b[0mindexer\u001b[0m \u001b[0;34m=\u001b[0m \u001b[0mindexer\u001b[0m\u001b[0;34m[\u001b[0m\u001b[0;34m:\u001b[0m\u001b[0;34m:\u001b[0m\u001b[0;34m-\u001b[0m\u001b[0;36m1\u001b[0m\u001b[0;34m]\u001b[0m\u001b[0;34m\u001b[0m\u001b[0;34m\u001b[0m\u001b[0m\n",
            "\u001b[0;31mTypeError\u001b[0m: '<' not supported between instances of 'str' and 'float'"
          ]
        }
      ]
    },
    {
      "cell_type": "code",
      "source": [
        "# Ler novamente a aba 'Transações Vendas', garantindo o cabeçalho correto\n",
        "df_vendas = pd.read_excel(arquivo, sheet_name=\"Transações Vendas\", header=0)\n",
        "df_vendas.columns = ['ID NOTA', 'DATA NOTA', 'VALOR NOTA', 'VALOR ITEM', 'QTD ITEM', 'ID PRODUTO', 'ID CLIENTE']\n",
        "\n",
        "# Verificar o DataFrame corrigido\n",
        "print(\"\\n--- TRANSACOES_VENDAS (Recarregado e Corrigido) ---\")\n",
        "print(df_vendas.head())\n",
        "print(df_vendas.info())\n",
        "\n",
        "# Refazendo o merge de df_vendas com df_produtos\n",
        "df_vendas_com_categorias = pd.merge(df_vendas, df_produtos[['ID PRODUTO', 'CATEGORIA']], on='ID PRODUTO', how='inner')\n",
        "\n",
        "# Agrupando por categoria e somando o valor total de venda\n",
        "vendas_por_categoria = df_vendas_com_categorias.groupby('CATEGORIA')['VALOR ITEM'].sum()\n",
        "\n",
        "# Exibindo o resultado\n",
        "print(\"\\n--- VALOR TOTAL DE VENDAS POR CATEGORIA ---\")\n",
        "print(vendas_por_categoria)\n",
        "\n",
        "# Ordenando do maior para o menor\n",
        "vendas_por_categoria_ordenado = vendas_por_categoria.sort_values(ascending=False)\n",
        "\n",
        "print(\"\\n--- VALOR TOTAL DE VENDAS POR CATEGORIA (Ordenado) ---\")\n",
        "print(vendas_por_categoria_ordenado)"
      ],
      "metadata": {
        "colab": {
          "base_uri": "https://localhost:8080/",
          "height": 1000
        },
        "id": "2-nNypczZyk4",
        "outputId": "c35643c1-b85e-4935-cba7-881a4772d3da"
      },
      "execution_count": 52,
      "outputs": [
        {
          "output_type": "stream",
          "name": "stdout",
          "text": [
            "\n",
            "--- TRANSACOES_VENDAS (Recarregado e Corrigido) ---\n",
            "   ID NOTA            DATA NOTA  VALOR NOTA  VALOR ITEM  QTD ITEM  ID PRODUTO  \\\n",
            "0  ID NOTA            DATA NOTA  VALOR NOTA  VALOR ITEM  QTD ITEM  ID PRODUTO   \n",
            "1     3001  2023-03-05 00:00:00      4299.9      4299.9         1        1001   \n",
            "2     3002  2023-03-12 00:00:00      5798.9        3899         1        1002   \n",
            "3     3002  2023-03-12 00:00:00      5798.9        1899         1        1013   \n",
            "4     3003  2023-03-18 00:00:00      1028.8       129.9         1        1006   \n",
            "\n",
            "   ID CLIENTE  \n",
            "0  ID CLIENTE  \n",
            "1        2015  \n",
            "2        2003  \n",
            "3        2003  \n",
            "4        2028  \n",
            "<class 'pandas.core.frame.DataFrame'>\n",
            "RangeIndex: 237 entries, 0 to 236\n",
            "Data columns (total 7 columns):\n",
            " #   Column      Non-Null Count  Dtype \n",
            "---  ------      --------------  ----- \n",
            " 0   ID NOTA     237 non-null    object\n",
            " 1   DATA NOTA   237 non-null    object\n",
            " 2   VALOR NOTA  237 non-null    object\n",
            " 3   VALOR ITEM  237 non-null    object\n",
            " 4   QTD ITEM    237 non-null    object\n",
            " 5   ID PRODUTO  237 non-null    object\n",
            " 6   ID CLIENTE  237 non-null    object\n",
            "dtypes: object(7)\n",
            "memory usage: 13.1+ KB\n",
            "None\n",
            "\n",
            "--- VALOR TOTAL DE VENDAS POR CATEGORIA ---\n",
            "CATEGORIA\n",
            "CATEGORIA      VALOR ITEM\n",
            "Eletrônicos       78908.1\n",
            "Ferramentas       14717.7\n",
            "Livros            12998.7\n",
            "Móveis            90934.0\n",
            "Papelaria           477.6\n",
            "Name: VALOR ITEM, dtype: object\n"
          ]
        },
        {
          "output_type": "error",
          "ename": "TypeError",
          "evalue": "'<' not supported between instances of 'str' and 'float'",
          "traceback": [
            "\u001b[0;31m---------------------------------------------------------------------------\u001b[0m",
            "\u001b[0;31mTypeError\u001b[0m                                 Traceback (most recent call last)",
            "\u001b[0;32m<ipython-input-52-7967ab6634f3>\u001b[0m in \u001b[0;36m<cell line: 0>\u001b[0;34m()\u001b[0m\n\u001b[1;32m     19\u001b[0m \u001b[0;34m\u001b[0m\u001b[0m\n\u001b[1;32m     20\u001b[0m \u001b[0;31m# Ordenando do maior para o menor\u001b[0m\u001b[0;34m\u001b[0m\u001b[0;34m\u001b[0m\u001b[0m\n\u001b[0;32m---> 21\u001b[0;31m \u001b[0mvendas_por_categoria_ordenado\u001b[0m \u001b[0;34m=\u001b[0m \u001b[0mvendas_por_categoria\u001b[0m\u001b[0;34m.\u001b[0m\u001b[0msort_values\u001b[0m\u001b[0;34m(\u001b[0m\u001b[0mascending\u001b[0m\u001b[0;34m=\u001b[0m\u001b[0;32mFalse\u001b[0m\u001b[0;34m)\u001b[0m\u001b[0;34m\u001b[0m\u001b[0;34m\u001b[0m\u001b[0m\n\u001b[0m\u001b[1;32m     22\u001b[0m \u001b[0;34m\u001b[0m\u001b[0m\n\u001b[1;32m     23\u001b[0m \u001b[0mprint\u001b[0m\u001b[0;34m(\u001b[0m\u001b[0;34m\"\\n--- VALOR TOTAL DE VENDAS POR CATEGORIA (Ordenado) ---\"\u001b[0m\u001b[0;34m)\u001b[0m\u001b[0;34m\u001b[0m\u001b[0;34m\u001b[0m\u001b[0m\n",
            "\u001b[0;32m/usr/local/lib/python3.11/dist-packages/pandas/core/series.py\u001b[0m in \u001b[0;36msort_values\u001b[0;34m(self, axis, ascending, inplace, kind, na_position, ignore_index, key)\u001b[0m\n\u001b[1;32m   3867\u001b[0m         \u001b[0;32melse\u001b[0m\u001b[0;34m:\u001b[0m\u001b[0;34m\u001b[0m\u001b[0;34m\u001b[0m\u001b[0m\n\u001b[1;32m   3868\u001b[0m             \u001b[0mvalues_to_sort\u001b[0m \u001b[0;34m=\u001b[0m \u001b[0mself\u001b[0m\u001b[0;34m.\u001b[0m\u001b[0m_values\u001b[0m\u001b[0;34m\u001b[0m\u001b[0;34m\u001b[0m\u001b[0m\n\u001b[0;32m-> 3869\u001b[0;31m         \u001b[0msorted_index\u001b[0m \u001b[0;34m=\u001b[0m \u001b[0mnargsort\u001b[0m\u001b[0;34m(\u001b[0m\u001b[0mvalues_to_sort\u001b[0m\u001b[0;34m,\u001b[0m \u001b[0mkind\u001b[0m\u001b[0;34m,\u001b[0m \u001b[0mbool\u001b[0m\u001b[0;34m(\u001b[0m\u001b[0mascending\u001b[0m\u001b[0;34m)\u001b[0m\u001b[0;34m,\u001b[0m \u001b[0mna_position\u001b[0m\u001b[0;34m)\u001b[0m\u001b[0;34m\u001b[0m\u001b[0;34m\u001b[0m\u001b[0m\n\u001b[0m\u001b[1;32m   3870\u001b[0m \u001b[0;34m\u001b[0m\u001b[0m\n\u001b[1;32m   3871\u001b[0m         \u001b[0;32mif\u001b[0m \u001b[0mis_range_indexer\u001b[0m\u001b[0;34m(\u001b[0m\u001b[0msorted_index\u001b[0m\u001b[0;34m,\u001b[0m \u001b[0mlen\u001b[0m\u001b[0;34m(\u001b[0m\u001b[0msorted_index\u001b[0m\u001b[0;34m)\u001b[0m\u001b[0;34m)\u001b[0m\u001b[0;34m:\u001b[0m\u001b[0;34m\u001b[0m\u001b[0;34m\u001b[0m\u001b[0m\n",
            "\u001b[0;32m/usr/local/lib/python3.11/dist-packages/pandas/core/sorting.py\u001b[0m in \u001b[0;36mnargsort\u001b[0;34m(items, kind, ascending, na_position, key, mask)\u001b[0m\n\u001b[1;32m    437\u001b[0m         \u001b[0mnon_nans\u001b[0m \u001b[0;34m=\u001b[0m \u001b[0mnon_nans\u001b[0m\u001b[0;34m[\u001b[0m\u001b[0;34m:\u001b[0m\u001b[0;34m:\u001b[0m\u001b[0;34m-\u001b[0m\u001b[0;36m1\u001b[0m\u001b[0;34m]\u001b[0m\u001b[0;34m\u001b[0m\u001b[0;34m\u001b[0m\u001b[0m\n\u001b[1;32m    438\u001b[0m         \u001b[0mnon_nan_idx\u001b[0m \u001b[0;34m=\u001b[0m \u001b[0mnon_nan_idx\u001b[0m\u001b[0;34m[\u001b[0m\u001b[0;34m:\u001b[0m\u001b[0;34m:\u001b[0m\u001b[0;34m-\u001b[0m\u001b[0;36m1\u001b[0m\u001b[0;34m]\u001b[0m\u001b[0;34m\u001b[0m\u001b[0;34m\u001b[0m\u001b[0m\n\u001b[0;32m--> 439\u001b[0;31m     \u001b[0mindexer\u001b[0m \u001b[0;34m=\u001b[0m \u001b[0mnon_nan_idx\u001b[0m\u001b[0;34m[\u001b[0m\u001b[0mnon_nans\u001b[0m\u001b[0;34m.\u001b[0m\u001b[0margsort\u001b[0m\u001b[0;34m(\u001b[0m\u001b[0mkind\u001b[0m\u001b[0;34m=\u001b[0m\u001b[0mkind\u001b[0m\u001b[0;34m)\u001b[0m\u001b[0;34m]\u001b[0m\u001b[0;34m\u001b[0m\u001b[0;34m\u001b[0m\u001b[0m\n\u001b[0m\u001b[1;32m    440\u001b[0m     \u001b[0;32mif\u001b[0m \u001b[0;32mnot\u001b[0m \u001b[0mascending\u001b[0m\u001b[0;34m:\u001b[0m\u001b[0;34m\u001b[0m\u001b[0;34m\u001b[0m\u001b[0m\n\u001b[1;32m    441\u001b[0m         \u001b[0mindexer\u001b[0m \u001b[0;34m=\u001b[0m \u001b[0mindexer\u001b[0m\u001b[0;34m[\u001b[0m\u001b[0;34m:\u001b[0m\u001b[0;34m:\u001b[0m\u001b[0;34m-\u001b[0m\u001b[0;36m1\u001b[0m\u001b[0;34m]\u001b[0m\u001b[0;34m\u001b[0m\u001b[0;34m\u001b[0m\u001b[0m\n",
            "\u001b[0;31mTypeError\u001b[0m: '<' not supported between instances of 'str' and 'float'"
          ]
        }
      ]
    }
  ]
}